{
 "cells": [
  {
   "cell_type": "markdown",
   "metadata": {
    "tags": []
   },
   "source": [
    " # Finding the Effect of Controlling Blood Pressure and Cholesterol on Preventing Heart Disease\n",
    " \n",
    " \n",
    " #### By Chris Jung, Grace Wang, Haonan Su\n",
    " \n",
    " ## Background\n",
    "***Heart disease*** is the leading cause of death for men, women, and people of most racial and ethnic groups in most of the countries in the world, even in the countries with developed medical technology such as the United States. About 659,000 people in the US die from heart disease each year, which accounts for 1 in every 4 deaths.[[1]](https://www.who.int/health-topics/cardiovascular-diseases).\n",
    "The US CDC(Centers for Disease Control and Prevention) suggests maintaining low blood pressure and cholesterol to lower the risk of heart disease [[2]](https://www.cdc.gov/heartdisease/prevention.htm).\n",
    "\n",
    "## Project Question\n",
    "\n",
    "##### Do people with low blood pressure/cholesterol level have lower chance of developing heart disease?\n",
    "\n",
    "\n",
    "## Data\n",
    "- The dataset is an actual medical records from the Cleveland Clinic Foundation stored in the [UCI Machine Learning Repository](https://archive.ics.uci.edu/ml/datasets/Heart+Disease).\n",
    "- Each observation contains 14 attributes of **a person's medical information** including the presence of heart disease.\n",
    "- The response variable is the attribute \"Class\".\n",
    "- The explanatory variables are the attribute \"trestpbs\"(blood pressure), and \"chol\"(cholesterol).\n",
    "- The detailed descriptions of the response variable and the two explanatory variables are:\n",
    "    1. *class*: presence of heart disease. integer valued from 0 (no presence) to 4\n",
    "    2. trestbps: resting blood pressure (in mm Hg on admission to the hospital)\n",
    "    3. chol: serum cholestoral in mg/dl\n",
    "    "
   ]
  },
  {
   "cell_type": "code",
   "execution_count": 2,
   "metadata": {},
   "outputs": [
    {
     "name": "stderr",
     "output_type": "stream",
     "text": [
      "── \u001b[1mAttaching packages\u001b[22m ─────────────────────────────────────── tidyverse 1.3.0 ──\n",
      "\n",
      "\u001b[32m✔\u001b[39m \u001b[34mggplot2\u001b[39m 3.3.6     \u001b[32m✔\u001b[39m \u001b[34mpurrr  \u001b[39m 0.3.4\n",
      "\u001b[32m✔\u001b[39m \u001b[34mtibble \u001b[39m 3.1.7     \u001b[32m✔\u001b[39m \u001b[34mdplyr  \u001b[39m 1.0.9\n",
      "\u001b[32m✔\u001b[39m \u001b[34mtidyr  \u001b[39m 1.2.0     \u001b[32m✔\u001b[39m \u001b[34mstringr\u001b[39m 1.4.0\n",
      "\u001b[32m✔\u001b[39m \u001b[34mreadr  \u001b[39m 2.1.2     \u001b[32m✔\u001b[39m \u001b[34mforcats\u001b[39m 0.5.1\n",
      "\n",
      "── \u001b[1mConflicts\u001b[22m ────────────────────────────────────────── tidyverse_conflicts() ──\n",
      "\u001b[31m✖\u001b[39m \u001b[34mdplyr\u001b[39m::\u001b[32mfilter()\u001b[39m masks \u001b[34mstats\u001b[39m::filter()\n",
      "\u001b[31m✖\u001b[39m \u001b[34mdplyr\u001b[39m::\u001b[32mlag()\u001b[39m    masks \u001b[34mstats\u001b[39m::lag()\n",
      "\n"
     ]
    }
   ],
   "source": [
    "#loads the libraries\n",
    "library(cowplot)\n",
    "library(datateachr)\n",
    "library(digest)\n",
    "library(infer)\n",
    "library(repr)\n",
    "library(taxyvr)\n",
    "library(tidyverse)\n",
    "\n",
    "#sets the seed for random events such as splitting the data\n",
    "set.seed(1)"
   ]
  },
  {
   "cell_type": "markdown",
   "metadata": {},
   "source": [
    "## Reading and Wrangling the Data"
   ]
  },
  {
   "cell_type": "code",
   "execution_count": 17,
   "metadata": {},
   "outputs": [
    {
     "name": "stderr",
     "output_type": "stream",
     "text": [
      "\u001b[1mRows: \u001b[22m\u001b[34m303\u001b[39m \u001b[1mColumns: \u001b[22m\u001b[34m14\u001b[39m\n",
      "\u001b[36m──\u001b[39m \u001b[1mColumn specification\u001b[22m \u001b[36m────────────────────────────────────────────────────────\u001b[39m\n",
      "\u001b[1mDelimiter:\u001b[22m \",\"\n",
      "\u001b[31mchr\u001b[39m  (2): X12, X13\n",
      "\u001b[32mdbl\u001b[39m (12): X1, X2, X3, X4, X5, X6, X7, X8, X9, X10, X11, X14\n",
      "\n",
      "\u001b[36mℹ\u001b[39m Use `spec()` to retrieve the full column specification for this data.\n",
      "\u001b[36mℹ\u001b[39m Specify the column types or set `show_col_types = FALSE` to quiet this message.\n",
      "Warning message in mask$eval_all_mutate(quo):\n",
      "“NAs introduced by coercion”\n",
      "Warning message in mask$eval_all_mutate(quo):\n",
      "“NAs introduced by coercion”\n"
     ]
    },
    {
     "data": {
      "text/html": [
       "<table class=\"dataframe\">\n",
       "<caption>A tibble: 6 × 14</caption>\n",
       "<thead>\n",
       "\t<tr><th scope=col>X1</th><th scope=col>X2</th><th scope=col>X3</th><th scope=col>X4</th><th scope=col>X5</th><th scope=col>X6</th><th scope=col>X7</th><th scope=col>X8</th><th scope=col>X9</th><th scope=col>X10</th><th scope=col>X11</th><th scope=col>X12</th><th scope=col>X13</th><th scope=col>X14</th></tr>\n",
       "\t<tr><th scope=col>&lt;dbl&gt;</th><th scope=col>&lt;dbl&gt;</th><th scope=col>&lt;dbl&gt;</th><th scope=col>&lt;dbl&gt;</th><th scope=col>&lt;dbl&gt;</th><th scope=col>&lt;dbl&gt;</th><th scope=col>&lt;dbl&gt;</th><th scope=col>&lt;dbl&gt;</th><th scope=col>&lt;dbl&gt;</th><th scope=col>&lt;dbl&gt;</th><th scope=col>&lt;dbl&gt;</th><th scope=col>&lt;dbl&gt;</th><th scope=col>&lt;dbl&gt;</th><th scope=col>&lt;dbl&gt;</th></tr>\n",
       "</thead>\n",
       "<tbody>\n",
       "\t<tr><td>63</td><td>1</td><td>1</td><td>145</td><td>233</td><td>1</td><td>2</td><td>150</td><td>0</td><td>2.3</td><td>3</td><td>0</td><td>6</td><td>0</td></tr>\n",
       "\t<tr><td>67</td><td>1</td><td>4</td><td>160</td><td>286</td><td>0</td><td>2</td><td>108</td><td>1</td><td>1.5</td><td>2</td><td>3</td><td>3</td><td>2</td></tr>\n",
       "\t<tr><td>67</td><td>1</td><td>4</td><td>120</td><td>229</td><td>0</td><td>2</td><td>129</td><td>1</td><td>2.6</td><td>2</td><td>2</td><td>7</td><td>1</td></tr>\n",
       "\t<tr><td>37</td><td>1</td><td>3</td><td>130</td><td>250</td><td>0</td><td>0</td><td>187</td><td>0</td><td>3.5</td><td>3</td><td>0</td><td>3</td><td>0</td></tr>\n",
       "\t<tr><td>41</td><td>0</td><td>2</td><td>130</td><td>204</td><td>0</td><td>2</td><td>172</td><td>0</td><td>1.4</td><td>1</td><td>0</td><td>3</td><td>0</td></tr>\n",
       "\t<tr><td>56</td><td>1</td><td>2</td><td>120</td><td>236</td><td>0</td><td>0</td><td>178</td><td>0</td><td>0.8</td><td>1</td><td>0</td><td>3</td><td>0</td></tr>\n",
       "</tbody>\n",
       "</table>\n"
      ],
      "text/latex": [
       "A tibble: 6 × 14\n",
       "\\begin{tabular}{llllllllllllll}\n",
       " X1 & X2 & X3 & X4 & X5 & X6 & X7 & X8 & X9 & X10 & X11 & X12 & X13 & X14\\\\\n",
       " <dbl> & <dbl> & <dbl> & <dbl> & <dbl> & <dbl> & <dbl> & <dbl> & <dbl> & <dbl> & <dbl> & <dbl> & <dbl> & <dbl>\\\\\n",
       "\\hline\n",
       "\t 63 & 1 & 1 & 145 & 233 & 1 & 2 & 150 & 0 & 2.3 & 3 & 0 & 6 & 0\\\\\n",
       "\t 67 & 1 & 4 & 160 & 286 & 0 & 2 & 108 & 1 & 1.5 & 2 & 3 & 3 & 2\\\\\n",
       "\t 67 & 1 & 4 & 120 & 229 & 0 & 2 & 129 & 1 & 2.6 & 2 & 2 & 7 & 1\\\\\n",
       "\t 37 & 1 & 3 & 130 & 250 & 0 & 0 & 187 & 0 & 3.5 & 3 & 0 & 3 & 0\\\\\n",
       "\t 41 & 0 & 2 & 130 & 204 & 0 & 2 & 172 & 0 & 1.4 & 1 & 0 & 3 & 0\\\\\n",
       "\t 56 & 1 & 2 & 120 & 236 & 0 & 0 & 178 & 0 & 0.8 & 1 & 0 & 3 & 0\\\\\n",
       "\\end{tabular}\n"
      ],
      "text/markdown": [
       "\n",
       "A tibble: 6 × 14\n",
       "\n",
       "| X1 &lt;dbl&gt; | X2 &lt;dbl&gt; | X3 &lt;dbl&gt; | X4 &lt;dbl&gt; | X5 &lt;dbl&gt; | X6 &lt;dbl&gt; | X7 &lt;dbl&gt; | X8 &lt;dbl&gt; | X9 &lt;dbl&gt; | X10 &lt;dbl&gt; | X11 &lt;dbl&gt; | X12 &lt;dbl&gt; | X13 &lt;dbl&gt; | X14 &lt;dbl&gt; |\n",
       "|---|---|---|---|---|---|---|---|---|---|---|---|---|---|\n",
       "| 63 | 1 | 1 | 145 | 233 | 1 | 2 | 150 | 0 | 2.3 | 3 | 0 | 6 | 0 |\n",
       "| 67 | 1 | 4 | 160 | 286 | 0 | 2 | 108 | 1 | 1.5 | 2 | 3 | 3 | 2 |\n",
       "| 67 | 1 | 4 | 120 | 229 | 0 | 2 | 129 | 1 | 2.6 | 2 | 2 | 7 | 1 |\n",
       "| 37 | 1 | 3 | 130 | 250 | 0 | 0 | 187 | 0 | 3.5 | 3 | 0 | 3 | 0 |\n",
       "| 41 | 0 | 2 | 130 | 204 | 0 | 2 | 172 | 0 | 1.4 | 1 | 0 | 3 | 0 |\n",
       "| 56 | 1 | 2 | 120 | 236 | 0 | 0 | 178 | 0 | 0.8 | 1 | 0 | 3 | 0 |\n",
       "\n"
      ],
      "text/plain": [
       "  X1 X2 X3 X4  X5  X6 X7 X8  X9 X10 X11 X12 X13 X14\n",
       "1 63 1  1  145 233 1  2  150 0  2.3 3   0   6   0  \n",
       "2 67 1  4  160 286 0  2  108 1  1.5 2   3   3   2  \n",
       "3 67 1  4  120 229 0  2  129 1  2.6 2   2   7   1  \n",
       "4 37 1  3  130 250 0  0  187 0  3.5 3   0   3   0  \n",
       "5 41 0  2  130 204 0  2  172 0  1.4 1   0   3   0  \n",
       "6 56 1  2  120 236 0  0  178 0  0.8 1   0   3   0  "
      ]
     },
     "metadata": {},
     "output_type": "display_data"
    }
   ],
   "source": [
    "#reads in the data table with the 14 attributes\n",
    "heart_data_untidy <- read_csv(\"https://archive.ics.uci.edu/ml/machine-learning-databases/heart-disease/processed.cleveland.data\",\n",
    "              col_names = FALSE) %>%\n",
    "              mutate(X12 = as.numeric(X12), X13 = as.numeric(X13))\n",
    "\n",
    "#outputs the first 6 rows of the data frame\n",
    "head(heart_data_untidy)"
   ]
  },
  {
   "cell_type": "code",
   "execution_count": 18,
   "metadata": {},
   "outputs": [
    {
     "data": {
      "text/html": [
       "<table class=\"dataframe\">\n",
       "<caption>A tibble: 6 × 3</caption>\n",
       "<thead>\n",
       "\t<tr><th scope=col>trestbps</th><th scope=col>chol</th><th scope=col>Class</th></tr>\n",
       "\t<tr><th scope=col>&lt;dbl&gt;</th><th scope=col>&lt;dbl&gt;</th><th scope=col>&lt;dbl&gt;</th></tr>\n",
       "</thead>\n",
       "<tbody>\n",
       "\t<tr><td>145</td><td>233</td><td>0</td></tr>\n",
       "\t<tr><td>160</td><td>286</td><td>2</td></tr>\n",
       "\t<tr><td>120</td><td>229</td><td>1</td></tr>\n",
       "\t<tr><td>130</td><td>250</td><td>0</td></tr>\n",
       "\t<tr><td>130</td><td>204</td><td>0</td></tr>\n",
       "\t<tr><td>120</td><td>236</td><td>0</td></tr>\n",
       "</tbody>\n",
       "</table>\n"
      ],
      "text/latex": [
       "A tibble: 6 × 3\n",
       "\\begin{tabular}{lll}\n",
       " trestbps & chol & Class\\\\\n",
       " <dbl> & <dbl> & <dbl>\\\\\n",
       "\\hline\n",
       "\t 145 & 233 & 0\\\\\n",
       "\t 160 & 286 & 2\\\\\n",
       "\t 120 & 229 & 1\\\\\n",
       "\t 130 & 250 & 0\\\\\n",
       "\t 130 & 204 & 0\\\\\n",
       "\t 120 & 236 & 0\\\\\n",
       "\\end{tabular}\n"
      ],
      "text/markdown": [
       "\n",
       "A tibble: 6 × 3\n",
       "\n",
       "| trestbps &lt;dbl&gt; | chol &lt;dbl&gt; | Class &lt;dbl&gt; |\n",
       "|---|---|---|\n",
       "| 145 | 233 | 0 |\n",
       "| 160 | 286 | 2 |\n",
       "| 120 | 229 | 1 |\n",
       "| 130 | 250 | 0 |\n",
       "| 130 | 204 | 0 |\n",
       "| 120 | 236 | 0 |\n",
       "\n"
      ],
      "text/plain": [
       "  trestbps chol Class\n",
       "1 145      233  0    \n",
       "2 160      286  2    \n",
       "3 120      229  1    \n",
       "4 130      250  0    \n",
       "5 130      204  0    \n",
       "6 120      236  0    "
      ]
     },
     "metadata": {},
     "output_type": "display_data"
    }
   ],
   "source": [
    "colnames(heart_data_untidy) <- c(\"age\", \"sex\", \"cp\", \"trestbps\", \"chol\", \"fbs\", \"restecg\", \"thalach\", \"exang\", \"oldpeak\",\n",
    "                          \"slope\", \"ca\", \"thal\", \"Class\")\n",
    "\n",
    "#selects the 3 attributes that will be used as explanatory variable(trestbps, and chol) and response variable(Class) \n",
    "heart_data_selected <- heart_data_untidy%>%\n",
    "select(trestbps, chol,  Class)\n",
    "head(heart_data_selected)\n"
   ]
  },
  {
   "cell_type": "code",
   "execution_count": 39,
   "metadata": {},
   "outputs": [
    {
     "data": {
      "text/html": [
       "130"
      ],
      "text/latex": [
       "130"
      ],
      "text/markdown": [
       "130"
      ],
      "text/plain": [
       "[1] 130"
      ]
     },
     "metadata": {},
     "output_type": "display_data"
    },
    {
     "data": {
      "text/html": [
       "241"
      ],
      "text/latex": [
       "241"
      ],
      "text/markdown": [
       "241"
      ],
      "text/plain": [
       "[1] 241"
      ]
     },
     "metadata": {},
     "output_type": "display_data"
    },
    {
     "data": {
      "text/html": [
       "<table class=\"dataframe\">\n",
       "<caption>A tibble: 6 × 3</caption>\n",
       "<thead>\n",
       "\t<tr><th scope=col>trestbps</th><th scope=col>chol</th><th scope=col>Heart_Disease</th></tr>\n",
       "\t<tr><th scope=col>&lt;chr&gt;</th><th scope=col>&lt;chr&gt;</th><th scope=col>&lt;chr&gt;</th></tr>\n",
       "</thead>\n",
       "<tbody>\n",
       "\t<tr><td>HIGH</td><td>LOW </td><td>NO </td></tr>\n",
       "\t<tr><td>HIGH</td><td>HIGH</td><td>YES</td></tr>\n",
       "\t<tr><td>LOW </td><td>LOW </td><td>YES</td></tr>\n",
       "\t<tr><td>HIGH</td><td>HIGH</td><td>NO </td></tr>\n",
       "\t<tr><td>HIGH</td><td>LOW </td><td>NO </td></tr>\n",
       "\t<tr><td>LOW </td><td>LOW </td><td>NO </td></tr>\n",
       "</tbody>\n",
       "</table>\n"
      ],
      "text/latex": [
       "A tibble: 6 × 3\n",
       "\\begin{tabular}{lll}\n",
       " trestbps & chol & Heart\\_Disease\\\\\n",
       " <chr> & <chr> & <chr>\\\\\n",
       "\\hline\n",
       "\t HIGH & LOW  & NO \\\\\n",
       "\t HIGH & HIGH & YES\\\\\n",
       "\t LOW  & LOW  & YES\\\\\n",
       "\t HIGH & HIGH & NO \\\\\n",
       "\t HIGH & LOW  & NO \\\\\n",
       "\t LOW  & LOW  & NO \\\\\n",
       "\\end{tabular}\n"
      ],
      "text/markdown": [
       "\n",
       "A tibble: 6 × 3\n",
       "\n",
       "| trestbps &lt;chr&gt; | chol &lt;chr&gt; | Heart_Disease &lt;chr&gt; |\n",
       "|---|---|---|\n",
       "| HIGH | LOW  | NO  |\n",
       "| HIGH | HIGH | YES |\n",
       "| LOW  | LOW  | YES |\n",
       "| HIGH | HIGH | NO  |\n",
       "| HIGH | LOW  | NO  |\n",
       "| LOW  | LOW  | NO  |\n",
       "\n"
      ],
      "text/plain": [
       "  trestbps chol Heart_Disease\n",
       "1 HIGH     LOW  NO           \n",
       "2 HIGH     HIGH YES          \n",
       "3 LOW      LOW  YES          \n",
       "4 HIGH     HIGH NO           \n",
       "5 HIGH     LOW  NO           \n",
       "6 LOW      LOW  NO           "
      ]
     },
     "metadata": {},
     "output_type": "display_data"
    },
    {
     "data": {
      "text/html": [
       "<table class=\"dataframe\">\n",
       "<caption>A tibble: 6 × 2</caption>\n",
       "<thead>\n",
       "\t<tr><th scope=col>trestbps</th><th scope=col>Heart_Disease</th></tr>\n",
       "\t<tr><th scope=col>&lt;chr&gt;</th><th scope=col>&lt;chr&gt;</th></tr>\n",
       "</thead>\n",
       "<tbody>\n",
       "\t<tr><td>HIGH</td><td>NO </td></tr>\n",
       "\t<tr><td>HIGH</td><td>YES</td></tr>\n",
       "\t<tr><td>LOW </td><td>YES</td></tr>\n",
       "\t<tr><td>HIGH</td><td>NO </td></tr>\n",
       "\t<tr><td>HIGH</td><td>NO </td></tr>\n",
       "\t<tr><td>LOW </td><td>NO </td></tr>\n",
       "</tbody>\n",
       "</table>\n"
      ],
      "text/latex": [
       "A tibble: 6 × 2\n",
       "\\begin{tabular}{ll}\n",
       " trestbps & Heart\\_Disease\\\\\n",
       " <chr> & <chr>\\\\\n",
       "\\hline\n",
       "\t HIGH & NO \\\\\n",
       "\t HIGH & YES\\\\\n",
       "\t LOW  & YES\\\\\n",
       "\t HIGH & NO \\\\\n",
       "\t HIGH & NO \\\\\n",
       "\t LOW  & NO \\\\\n",
       "\\end{tabular}\n"
      ],
      "text/markdown": [
       "\n",
       "A tibble: 6 × 2\n",
       "\n",
       "| trestbps &lt;chr&gt; | Heart_Disease &lt;chr&gt; |\n",
       "|---|---|\n",
       "| HIGH | NO  |\n",
       "| HIGH | YES |\n",
       "| LOW  | YES |\n",
       "| HIGH | NO  |\n",
       "| HIGH | NO  |\n",
       "| LOW  | NO  |\n",
       "\n"
      ],
      "text/plain": [
       "  trestbps Heart_Disease\n",
       "1 HIGH     NO           \n",
       "2 HIGH     YES          \n",
       "3 LOW      YES          \n",
       "4 HIGH     NO           \n",
       "5 HIGH     NO           \n",
       "6 LOW      NO           "
      ]
     },
     "metadata": {},
     "output_type": "display_data"
    },
    {
     "data": {
      "text/html": [
       "<table class=\"dataframe\">\n",
       "<caption>A tibble: 6 × 2</caption>\n",
       "<thead>\n",
       "\t<tr><th scope=col>chol</th><th scope=col>Heart_Disease</th></tr>\n",
       "\t<tr><th scope=col>&lt;chr&gt;</th><th scope=col>&lt;chr&gt;</th></tr>\n",
       "</thead>\n",
       "<tbody>\n",
       "\t<tr><td>LOW </td><td>NO </td></tr>\n",
       "\t<tr><td>HIGH</td><td>YES</td></tr>\n",
       "\t<tr><td>LOW </td><td>YES</td></tr>\n",
       "\t<tr><td>HIGH</td><td>NO </td></tr>\n",
       "\t<tr><td>LOW </td><td>NO </td></tr>\n",
       "\t<tr><td>LOW </td><td>NO </td></tr>\n",
       "</tbody>\n",
       "</table>\n"
      ],
      "text/latex": [
       "A tibble: 6 × 2\n",
       "\\begin{tabular}{ll}\n",
       " chol & Heart\\_Disease\\\\\n",
       " <chr> & <chr>\\\\\n",
       "\\hline\n",
       "\t LOW  & NO \\\\\n",
       "\t HIGH & YES\\\\\n",
       "\t LOW  & YES\\\\\n",
       "\t HIGH & NO \\\\\n",
       "\t LOW  & NO \\\\\n",
       "\t LOW  & NO \\\\\n",
       "\\end{tabular}\n"
      ],
      "text/markdown": [
       "\n",
       "A tibble: 6 × 2\n",
       "\n",
       "| chol &lt;chr&gt; | Heart_Disease &lt;chr&gt; |\n",
       "|---|---|\n",
       "| LOW  | NO  |\n",
       "| HIGH | YES |\n",
       "| LOW  | YES |\n",
       "| HIGH | NO  |\n",
       "| LOW  | NO  |\n",
       "| LOW  | NO  |\n",
       "\n"
      ],
      "text/plain": [
       "  chol Heart_Disease\n",
       "1 LOW  NO           \n",
       "2 HIGH YES          \n",
       "3 LOW  YES          \n",
       "4 HIGH NO           \n",
       "5 LOW  NO           \n",
       "6 LOW  NO           "
      ]
     },
     "metadata": {},
     "output_type": "display_data"
    }
   ],
   "source": [
    "#We identify patients' trestbps and chol data higher than 0.5 quantile as 'HIGH' and below 0.5 quantile as 'LOW'\n",
    "trestbps50 = unname(quantile(heart_data_selected$trestbps,0.5))\n",
    "chol50 = unname(quantile(heart_data_selected$chol,0.5))\n",
    "trestbps50\n",
    "chol50\n",
    "\n",
    "heart_data_lowhigh <- heart_data_selected %>% \n",
    "                        mutate(trestbps = ifelse((trestbps >= trestbps50), \"HIGH\",\"LOW\"),\n",
    "                              chol = ifelse(chol > chol50, \"HIGH\", \"LOW\"))\n",
    "                              \n",
    "#We identified patients with class data higher than 0 as having heart disease and indicated this result \n",
    "#with \"YES\" (and vice versa with \"NO\"). Also change the data type from number to factor\n",
    "heart_data <- heart_data_lowhigh %>%\n",
    "            mutate(Heart_Disease = ifelse(Class > 0, \"YES\",\"NO\")) %>%\n",
    "            select(!Class)\n",
    "\n",
    "\n",
    "#Split heart_data into two data frames\n",
    "heart_data_trestbps <- heart_data%>%\n",
    "                       select(\"trestbps\",\"Heart_Disease\")\n",
    "#outputs the first 6 rows of the data frame and heart_data is the data frame we will eventually use\n",
    "heart_data_chol <- heart_data%>%\n",
    "                    select(\"chol\",\"Heart_Disease\")\n",
    "head(heart_data)\n",
    "head(heart_data_trestbps)\n",
    "head(heart_data_chol)"
   ]
  },
  {
   "cell_type": "markdown",
   "metadata": {},
   "source": [
    "Through the process above, we have converted the data frame into the format we need, which includes all the \n",
    "information in the data box about whether the patient has high resting blood pressure or not, whether \n",
    "the patient has high cholesterol or not and whether the patient has heart disease or not."
   ]
  },
  {
   "cell_type": "markdown",
   "metadata": {},
   "source": [
    "## Visualizing the Data"
   ]
  },
  {
   "cell_type": "markdown",
   "metadata": {},
   "source": [
    "We first visualized the proportions of heart disease of people with low and high blood pressure and choleterol level as below."
   ]
  },
  {
   "cell_type": "code",
   "execution_count": 40,
   "metadata": {},
   "outputs": [
    {
     "data": {
      "image/png": "[encoded data removed]",
      "text/plain": [
       "plot without title"
      ]
     },
     "metadata": {
      "image/png": {
       "height": 420,
       "width": 420
      }
     },
     "output_type": "display_data"
    },
    {
     "data": {
      "image/png": "[encoded data removed]",
      "text/plain": [
       "plot without title"
      ]
     },
     "metadata": {
      "image/png": {
       "height": 420,
       "width": 420
      }
     },
     "output_type": "display_data"
    }
   ],
   "source": [
    "ggplot(heart_data, \n",
    "       aes(x = trestbps, fill = Heart_Disease)) +\n",
    "  geom_bar() + \n",
    "  labs(x = \"Resting blood pressure of patients\")\n",
    "\n",
    "ggplot(heart_data, \n",
    "       aes(x = chol, fill = Heart_Disease)) +\n",
    "  geom_bar() + \n",
    "  labs(x = \"Serum cholestoral\")"
   ]
  },
  {
   "cell_type": "markdown",
   "metadata": {},
   "source": [
    "From the both graph, we can rougly see that the proportion of people with heart disease is higher in both high resting blood pressure and cholesterol group compared to the corresponding lower level groups."
   ]
  },
  {
   "cell_type": "markdown",
   "metadata": {},
   "source": [
    "## Compute Estimates of the Parameter"
   ]
  },
  {
   "cell_type": "markdown",
   "metadata": {},
   "source": [
    "Below, we have created three data frame and two tables to summarize the data."
   ]
  },
  {
   "cell_type": "code",
   "execution_count": 67,
   "metadata": {},
   "outputs": [
    {
     "data": {
      "text/html": [
       "<table class=\"dataframe\">\n",
       "<caption>A grouped_df: 4 × 4</caption>\n",
       "<thead>\n",
       "\t<tr><th scope=col>trestbps</th><th scope=col>Heart_Disease</th><th scope=col>n</th><th scope=col>p</th></tr>\n",
       "\t<tr><th scope=col>&lt;chr&gt;</th><th scope=col>&lt;chr&gt;</th><th scope=col>&lt;int&gt;</th><th scope=col>&lt;dbl&gt;</th></tr>\n",
       "</thead>\n",
       "<tbody>\n",
       "\t<tr><td>HIGH</td><td>NO </td><td>87</td><td>0.2871287</td></tr>\n",
       "\t<tr><td>HIGH</td><td>YES</td><td>81</td><td>0.2673267</td></tr>\n",
       "\t<tr><td>LOW </td><td>NO </td><td>77</td><td>0.2541254</td></tr>\n",
       "\t<tr><td>LOW </td><td>YES</td><td>58</td><td>0.1914191</td></tr>\n",
       "</tbody>\n",
       "</table>\n"
      ],
      "text/latex": [
       "A grouped\\_df: 4 × 4\n",
       "\\begin{tabular}{llll}\n",
       " trestbps & Heart\\_Disease & n & p\\\\\n",
       " <chr> & <chr> & <int> & <dbl>\\\\\n",
       "\\hline\n",
       "\t HIGH & NO  & 87 & 0.2871287\\\\\n",
       "\t HIGH & YES & 81 & 0.2673267\\\\\n",
       "\t LOW  & NO  & 77 & 0.2541254\\\\\n",
       "\t LOW  & YES & 58 & 0.1914191\\\\\n",
       "\\end{tabular}\n"
      ],
      "text/markdown": [
       "\n",
       "A grouped_df: 4 × 4\n",
       "\n",
       "| trestbps &lt;chr&gt; | Heart_Disease &lt;chr&gt; | n &lt;int&gt; | p &lt;dbl&gt; |\n",
       "|---|---|---|---|\n",
       "| HIGH | NO  | 87 | 0.2871287 |\n",
       "| HIGH | YES | 81 | 0.2673267 |\n",
       "| LOW  | NO  | 77 | 0.2541254 |\n",
       "| LOW  | YES | 58 | 0.1914191 |\n",
       "\n"
      ],
      "text/plain": [
       "  trestbps Heart_Disease n  p        \n",
       "1 HIGH     NO            87 0.2871287\n",
       "2 HIGH     YES           81 0.2673267\n",
       "3 LOW      NO            77 0.2541254\n",
       "4 LOW      YES           58 0.1914191"
      ]
     },
     "metadata": {},
     "output_type": "display_data"
    },
    {
     "data": {
      "text/html": [
       "<table class=\"dataframe\">\n",
       "<caption>A grouped_df: 4 × 4</caption>\n",
       "<thead>\n",
       "\t<tr><th scope=col>chol</th><th scope=col>Heart_Disease</th><th scope=col>n</th><th scope=col>p</th></tr>\n",
       "\t<tr><th scope=col>&lt;chr&gt;</th><th scope=col>&lt;chr&gt;</th><th scope=col>&lt;int&gt;</th><th scope=col>&lt;dbl&gt;</th></tr>\n",
       "</thead>\n",
       "<tbody>\n",
       "\t<tr><td>HIGH</td><td>NO </td><td>72</td><td>0.2376238</td></tr>\n",
       "\t<tr><td>HIGH</td><td>YES</td><td>79</td><td>0.2607261</td></tr>\n",
       "\t<tr><td>LOW </td><td>NO </td><td>92</td><td>0.3036304</td></tr>\n",
       "\t<tr><td>LOW </td><td>YES</td><td>60</td><td>0.1980198</td></tr>\n",
       "</tbody>\n",
       "</table>\n"
      ],
      "text/latex": [
       "A grouped\\_df: 4 × 4\n",
       "\\begin{tabular}{llll}\n",
       " chol & Heart\\_Disease & n & p\\\\\n",
       " <chr> & <chr> & <int> & <dbl>\\\\\n",
       "\\hline\n",
       "\t HIGH & NO  & 72 & 0.2376238\\\\\n",
       "\t HIGH & YES & 79 & 0.2607261\\\\\n",
       "\t LOW  & NO  & 92 & 0.3036304\\\\\n",
       "\t LOW  & YES & 60 & 0.1980198\\\\\n",
       "\\end{tabular}\n"
      ],
      "text/markdown": [
       "\n",
       "A grouped_df: 4 × 4\n",
       "\n",
       "| chol &lt;chr&gt; | Heart_Disease &lt;chr&gt; | n &lt;int&gt; | p &lt;dbl&gt; |\n",
       "|---|---|---|---|\n",
       "| HIGH | NO  | 72 | 0.2376238 |\n",
       "| HIGH | YES | 79 | 0.2607261 |\n",
       "| LOW  | NO  | 92 | 0.3036304 |\n",
       "| LOW  | YES | 60 | 0.1980198 |\n",
       "\n"
      ],
      "text/plain": [
       "  chol Heart_Disease n  p        \n",
       "1 HIGH NO            72 0.2376238\n",
       "2 HIGH YES           79 0.2607261\n",
       "3 LOW  NO            92 0.3036304\n",
       "4 LOW  YES           60 0.1980198"
      ]
     },
     "metadata": {},
     "output_type": "display_data"
    },
    {
     "name": "stdout",
     "output_type": "stream",
     "text": [
      "  Trestbps Heart_Disease proportion\n",
      "1     HIGH           YES  0.4821429\n",
      "2      LOW           YES  0.4296296\n",
      "  Chol Heart_Disease proportion\n",
      "1 HIGH           YES  0.5231788\n",
      "2  LOW           YES  0.3947368\n"
     ]
    },
    {
     "data": {
      "text/html": [
       "<table class=\"dataframe\">\n",
       "<caption>A tibble: 6 × 2</caption>\n",
       "<thead>\n",
       "\t<tr><th scope=col>replicate</th><th scope=col>stat</th></tr>\n",
       "\t<tr><th scope=col>&lt;int&gt;</th><th scope=col>&lt;dbl&gt;</th></tr>\n",
       "</thead>\n",
       "<tbody>\n",
       "\t<tr><td>1</td><td>-0.12116402</td></tr>\n",
       "\t<tr><td>2</td><td> 0.01243386</td></tr>\n",
       "\t<tr><td>3</td><td> 0.03915344</td></tr>\n",
       "\t<tr><td>4</td><td> 0.05251323</td></tr>\n",
       "\t<tr><td>5</td><td> 0.02579365</td></tr>\n",
       "\t<tr><td>6</td><td> 0.07923280</td></tr>\n",
       "</tbody>\n",
       "</table>\n"
      ],
      "text/latex": [
       "A tibble: 6 × 2\n",
       "\\begin{tabular}{ll}\n",
       " replicate & stat\\\\\n",
       " <int> & <dbl>\\\\\n",
       "\\hline\n",
       "\t 1 & -0.12116402\\\\\n",
       "\t 2 &  0.01243386\\\\\n",
       "\t 3 &  0.03915344\\\\\n",
       "\t 4 &  0.05251323\\\\\n",
       "\t 5 &  0.02579365\\\\\n",
       "\t 6 &  0.07923280\\\\\n",
       "\\end{tabular}\n"
      ],
      "text/markdown": [
       "\n",
       "A tibble: 6 × 2\n",
       "\n",
       "| replicate &lt;int&gt; | stat &lt;dbl&gt; |\n",
       "|---|---|\n",
       "| 1 | -0.12116402 |\n",
       "| 2 |  0.01243386 |\n",
       "| 3 |  0.03915344 |\n",
       "| 4 |  0.05251323 |\n",
       "| 5 |  0.02579365 |\n",
       "| 6 |  0.07923280 |\n",
       "\n"
      ],
      "text/plain": [
       "  replicate stat       \n",
       "1 1         -0.12116402\n",
       "2 2          0.01243386\n",
       "3 3          0.03915344\n",
       "4 4          0.05251323\n",
       "5 5          0.02579365\n",
       "6 6          0.07923280"
      ]
     },
     "metadata": {},
     "output_type": "display_data"
    }
   ],
   "source": [
    "#Generate the percentage of two variables under a four-column combination\n",
    "heart_data_n <- heart_data %>%\n",
    "                      tally()%>%\n",
    "                        pull()\n",
    "\n",
    "#proportion of the four combinations of low or high resting blood pressure \n",
    "#and presence or absence of heart disease.\n",
    "heart_data_prop_trestbps <-heart_data %>% \n",
    "                             group_by(trestbps, Heart_Disease)%>%\n",
    "                             count() %>% \n",
    "                             mutate(p = n/heart_data_n)\n",
    "\n",
    "#the proportion of the four combinations of the low or high cholesterol and \n",
    "#the presence or absence of heart disease.\n",
    "heart_data_prop_chol <- heart_data %>% \n",
    "                          group_by(chol, Heart_Disease)%>%\n",
    "                          count() %>% \n",
    "                          mutate(p = n/heart_data_n)\n",
    "\n",
    "trest_high_yes <- heart_data_prop_trestbps %>%\n",
    "                    filter(trestbps==\"HIGH\", Heart_Disease==\"YES\")%>% ungroup() %>% select(n) %>% as.numeric()\n",
    "\n",
    "trest_high_no <- heart_data_prop_trestbps %>%\n",
    "                    filter(trestbps==\"HIGH\", Heart_Disease==\"NO\")%>% ungroup() %>% select(n) %>% as.numeric()\n",
    "\n",
    "trest_low_yes <- heart_data_prop_trestbps %>%\n",
    "                    filter(trestbps==\"LOW\", Heart_Disease==\"YES\")%>% ungroup() %>% select(n) %>% as.numeric()\n",
    "\n",
    "trest_low_no <- heart_data_prop_trestbps %>%\n",
    "                    filter(trestbps==\"LOW\", Heart_Disease==\"NO\")%>% ungroup() %>% select(n) %>% as.numeric()\n",
    "\n",
    "chol_high_yes <- heart_data_prop_chol %>%\n",
    "                    filter(chol==\"HIGH\", Heart_Disease==\"YES\")%>% ungroup() %>% select(n) %>% as.numeric()\n",
    "chol_high_no <- heart_data_prop_chol %>%\n",
    "                    filter(chol==\"HIGH\", Heart_Disease==\"NO\")%>% ungroup() %>% select(n) %>% as.numeric()\n",
    "chol_low_yes <- heart_data_prop_chol %>%\n",
    "                    filter(chol==\"LOW\", Heart_Disease==\"YES\")%>% ungroup() %>% select(n) %>% as.numeric()\n",
    "chol_low_no <- heart_data_prop_chol %>%\n",
    "                    filter(chol==\"LOW\", Heart_Disease==\"NO\")%>% ungroup() %>% select(n) %>% as.numeric()\n",
    "\n",
    "heart_data_prop_trestbps\n",
    "heart_data_prop_chol\n",
    "\n",
    "#Generate the proportion of patients with heart disease with or without high resting blood pressure\n",
    "Trestbps <- c(\"HIGH\",\"LOW\")\n",
    "Heart_Disease <- c(\"YES\",\"YES\")\n",
    "proportion <- c(trest_high_yes/(trest_high_yes+trest_high_no),trest_low_yes/(trest_low_yes+trest_low_no))\n",
    "heart_data_prop_trestbps_1 <- data.frame(Trestbps,Heart_Disease,proportion)\n",
    "print(heart_data_prop_trestbps_1)\n",
    "#Generate the proportion of patients with heart disease with or without high cholesterol\n",
    "Chol <- c(\"HIGH\",\"LOW\")\n",
    "proportion <- c(chol_high_yes/(chol_high_yes+chol_high_no),chol_low_yes/(chol_low_yes+chol_low_no))\n",
    "heart_data_prop_chol_1 <- data.frame(Chol,Heart_Disease,proportion)\n",
    "print(heart_data_prop_chol_1)\n",
    "\n",
    "\n",
    "#the estimates after taking 1000 replicates of \"shuffles\" and assuming the null hypothesis is true\n",
    "null_distribution <- heart_data %>% \n",
    "  specify(formula = Heart_Disease ~ trestbps, success = \"YES\") %>% \n",
    "  hypothesize(null = \"independence\") %>% \n",
    "  generate(reps = 1000, type = \"permute\") %>% \n",
    "  calculate(stat = \"diff in props\", order = c(\"HIGH\", \"LOW\"))\n",
    "\n",
    "head(null_distribution)"
   ]
  },
  {
   "cell_type": "markdown",
   "metadata": {},
   "source": [
    "The differences in the proportion of having heart disease between LOW and HIGH, as reflected in the third and fourth tables, suggest that it would be possible to find out whether high or low resting blood pressure and high or low cholesterol make patients more likely to have heart disease."
   ]
  },
  {
   "cell_type": "markdown",
   "metadata": {},
   "source": [
    "## Methods: Plan"
   ]
  },
  {
   "cell_type": "markdown",
   "metadata": {
    "jp-MarkdownHeadingCollapsed": true,
    "tags": []
   },
   "source": [
    "\n",
    "Although we perforemd a brief statistical analysis using a large dataset from a reliable source, our preliminary research have following limitations:\n",
    "\n",
    "- The estimates above were generated using a single sample.\n",
    "- We cannot compute sampling variation that quantifies the uncertainty about the point estimate obtained from the sample.\n",
    "\n",
    "### Future Research Plan\n",
    "- First, we will generate a bootstrap sampling distribution from our sample.\n",
    "- Then we will conduct the following two hypothesis tests using a confidence interval level at 5%:\n",
    "\n",
    "> #### Hypothesis Test1\n",
    "\n",
    "> $p_{1}$ : proportion of people having heart disease with low blood pressure</br>\n",
    ">$p_{2}$ : proportion of people having heart disease with high blood pressure</br>\n",
    "\n",
    ">$H_0$ : $p_{2} - p_{1} = 0$  </br>\n",
    ">$H_1$ : $p_{2} - p_{1} > 0$</br>\n",
    "\n",
    ">#### Hypothesis Test2\n",
    "\n",
    ">$p_{3}$ : proportion of people having heart disease with low cholesterol level</br>\n",
    ">$p_{4}$ : proportion of people having heart disease with high cholesterol level\n",
    "\n",
    ">$H_0$ : $p_{4} - p_{3} = 0$  </br>\n",
    ">$H_1$ : $p_{4} - p_{3} > 0$</br>\n",
    "\n",
    "- Finally, we will analyze the result of hypothesis tests and answer our project question based on it\n",
    " \n",
    "### Expectation\n",
    "\n",
    "- We expect people with low blood pressure and low cholesterol level would have a lower chance of developing heart disease. \n",
    "- Our findings could potentially help raise awareness of the importance of keeping a healthy routine that keeps our blood pressure and cholesterol at a healthy level. \n",
    "- Our research could lead to a future question: what is the causation of heart diseases given the correlation we will establish in our report."
   ]
  },
  {
   "cell_type": "markdown",
   "metadata": {},
   "source": [
    "### Reference"
   ]
  },
  {
   "cell_type": "markdown",
   "metadata": {},
   "source": [
    "[1] World Health Organization. (n.d.). Cardiovascular diseases. World Health Organization. Retrieved July 26, 2022, from https://www.who.int/health-topics/cardiovascular-diseases </br>\n",
    "[2] Centers for Disease Control and Prevention. (2020, April 21). Prevent heart disease. Centers for Disease Control and Prevention. Retrieved July 26, 2022, from https://www.cdc.gov/heartdisease/prevention.htm "
   ]
  },
  {
   "cell_type": "markdown",
   "metadata": {},
   "source": []
  }
 ],
 "metadata": {
  "kernelspec": {
   "display_name": "R",
   "language": "R",
   "name": "ir"
  },
  "language_info": {
   "codemirror_mode": "r",
   "file_extension": ".r",
   "mimetype": "text/x-r-source",
   "name": "R",
   "pygments_lexer": "r",
   "version": "4.0.5"
  }
 },
 "nbformat": 4,
 "nbformat_minor": 4
}
