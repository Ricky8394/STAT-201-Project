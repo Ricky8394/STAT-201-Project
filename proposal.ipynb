{
 "cells": [
  {
   "cell_type": "markdown",
   "metadata": {},
   "source": [
    " # Title\n",
    " \n",
    " \n",
    " #### By Chris Jung, Grace(replace with full name),Haonan Su\n",
    " \n",
    " ## Background and Motivation\n",
    "***Heart disease*** is the leading cause of death for men, women, and people of most racial and ethnic groups in most of the countries in the world, even in the countries with developed medical technology such as the United States. About 659,000 people in the US die from heart disease each year, which accounts for 1 in every 4 deaths. It costs the United States about $363 billion each year from 2016 to 2017 [[1]](https://www.who.int/health-topics/cardiovascular-diseases).\n",
    "The US CDC(Centers for Disease Control and Prevention) suggests maintaining low blood pressure and cholesterol to lower the risk of heart disease [[2]](https://www.cdc.gov/heartdisease/prevention.htm).\n",
    "For these reasons, we would like to raise awareness of heart disease and its prevention by analyzing the effect of maintaining low blood pressure and cholesterol on heart disease.\n",
    "\n",
    "## Project Goal\n",
    "- We are going to use actual medical records from the Cleveland Clinic Foundation to make a sampling distribution using bootstrapping sampling.\n",
    "- Then we will formulate hypotheses to test if people with low/high blood pressure and cholesterol level have different heart disease rete.\n",
    "- Finally, we will conduct hypotheses tests to determine if the rate of heart disease is dependent on those two factors.\n",
    "- By doing these activities, we hope to answer this question:\n",
    "\n",
    "##### Do people with low blood pressure/cholesterol level have lower chance of developing heart disease?\n",
    "\n",
    "\n",
    "## Data\n",
    "- The dataset is from the [UCI Machine Learning Repository](https://archive.ics.uci.edu/ml/datasets/Heart+Disease).\n",
    "- Each observation contains 14 attributes of **a person's medical information** including the presence of heart disease.\n",
    "- The response variable is the attribute \"Class\" which represents the presence of heart disease in 5 different categories.\n",
    "- The explanatory variables are the attribute \"trestpbs\"(blood pressure), and \"chol\"(cholesterol).\n",
    "- The detailed descriptions of the response variable and the two explanatory variables are:\n",
    "    1. *class*: presence of heart disease. integer valued from 0 (no presence) to 4\n",
    "    2. trestbps: resting blood pressure (in mm Hg on admission to the hospital)\n",
    "    3. chol: serum cholestoral in mg/dl\n",
    "    "
   ]
  },
  {
   "cell_type": "code",
   "execution_count": 3,
   "metadata": {},
   "outputs": [
    {
     "name": "stderr",
     "output_type": "stream",
     "text": [
      "Warning message in file(filename, \"r\", encoding = encoding):\n",
      "“cannot open file 'tests_tutorial_04.R': No such file or directory”\n"
     ]
    },
    {
     "ename": "ERROR",
     "evalue": "Error in file(filename, \"r\", encoding = encoding): cannot open the connection\n",
     "output_type": "error",
     "traceback": [
      "Error in file(filename, \"r\", encoding = encoding): cannot open the connection\nTraceback:\n",
      "1. source(\"tests_tutorial_04.R\")",
      "2. file(filename, \"r\", encoding = encoding)"
     ]
    }
   ],
   "source": [
    "#loads the libraries\n",
    "library(cowplot)\n",
    "library(datateachr)\n",
    "library(digest)\n",
    "library(infer)\n",
    "library(repr)\n",
    "library(taxyvr)\n",
    "library(tidyverse)\n",
    "source(\"tests_tutorial_04.R\")\n",
    "\n",
    "#sets the seed for random events such as splitting the data\n",
    "set.seed(1)"
   ]
  },
  {
   "cell_type": "markdown",
   "metadata": {},
   "source": [
    "## Reading and Wrangling the Data"
   ]
  },
  {
   "cell_type": "code",
   "execution_count": 117,
   "metadata": {},
   "outputs": [
    {
     "name": "stderr",
     "output_type": "stream",
     "text": [
      "\u001b[1mRows: \u001b[22m\u001b[34m303\u001b[39m \u001b[1mColumns: \u001b[22m\u001b[34m14\u001b[39m\n",
      "\u001b[36m──\u001b[39m \u001b[1mColumn specification\u001b[22m \u001b[36m────────────────────────────────────────────────────────\u001b[39m\n",
      "\u001b[1mDelimiter:\u001b[22m \",\"\n",
      "\u001b[31mchr\u001b[39m  (2): X12, X13\n",
      "\u001b[32mdbl\u001b[39m (12): X1, X2, X3, X4, X5, X6, X7, X8, X9, X10, X11, X14\n",
      "\n",
      "\u001b[36mℹ\u001b[39m Use `spec()` to retrieve the full column specification for this data.\n",
      "\u001b[36mℹ\u001b[39m Specify the column types or set `show_col_types = FALSE` to quiet this message.\n",
      "Warning message in mask$eval_all_mutate(quo):\n",
      "“NAs introduced by coercion”\n",
      "Warning message in mask$eval_all_mutate(quo):\n",
      "“NAs introduced by coercion”\n"
     ]
    },
    {
     "data": {
      "text/html": [
       "<table class=\"dataframe\">\n",
       "<caption>A tibble: 6 × 14</caption>\n",
       "<thead>\n",
       "\t<tr><th scope=col>X1</th><th scope=col>X2</th><th scope=col>X3</th><th scope=col>X4</th><th scope=col>X5</th><th scope=col>X6</th><th scope=col>X7</th><th scope=col>X8</th><th scope=col>X9</th><th scope=col>X10</th><th scope=col>X11</th><th scope=col>X12</th><th scope=col>X13</th><th scope=col>X14</th></tr>\n",
       "\t<tr><th scope=col>&lt;dbl&gt;</th><th scope=col>&lt;dbl&gt;</th><th scope=col>&lt;dbl&gt;</th><th scope=col>&lt;dbl&gt;</th><th scope=col>&lt;dbl&gt;</th><th scope=col>&lt;dbl&gt;</th><th scope=col>&lt;dbl&gt;</th><th scope=col>&lt;dbl&gt;</th><th scope=col>&lt;dbl&gt;</th><th scope=col>&lt;dbl&gt;</th><th scope=col>&lt;dbl&gt;</th><th scope=col>&lt;dbl&gt;</th><th scope=col>&lt;dbl&gt;</th><th scope=col>&lt;dbl&gt;</th></tr>\n",
       "</thead>\n",
       "<tbody>\n",
       "\t<tr><td>63</td><td>1</td><td>1</td><td>145</td><td>233</td><td>1</td><td>2</td><td>150</td><td>0</td><td>2.3</td><td>3</td><td>0</td><td>6</td><td>0</td></tr>\n",
       "\t<tr><td>67</td><td>1</td><td>4</td><td>160</td><td>286</td><td>0</td><td>2</td><td>108</td><td>1</td><td>1.5</td><td>2</td><td>3</td><td>3</td><td>2</td></tr>\n",
       "\t<tr><td>67</td><td>1</td><td>4</td><td>120</td><td>229</td><td>0</td><td>2</td><td>129</td><td>1</td><td>2.6</td><td>2</td><td>2</td><td>7</td><td>1</td></tr>\n",
       "\t<tr><td>37</td><td>1</td><td>3</td><td>130</td><td>250</td><td>0</td><td>0</td><td>187</td><td>0</td><td>3.5</td><td>3</td><td>0</td><td>3</td><td>0</td></tr>\n",
       "\t<tr><td>41</td><td>0</td><td>2</td><td>130</td><td>204</td><td>0</td><td>2</td><td>172</td><td>0</td><td>1.4</td><td>1</td><td>0</td><td>3</td><td>0</td></tr>\n",
       "\t<tr><td>56</td><td>1</td><td>2</td><td>120</td><td>236</td><td>0</td><td>0</td><td>178</td><td>0</td><td>0.8</td><td>1</td><td>0</td><td>3</td><td>0</td></tr>\n",
       "</tbody>\n",
       "</table>\n"
      ],
      "text/latex": [
       "A tibble: 6 × 14\n",
       "\\begin{tabular}{llllllllllllll}\n",
       " X1 & X2 & X3 & X4 & X5 & X6 & X7 & X8 & X9 & X10 & X11 & X12 & X13 & X14\\\\\n",
       " <dbl> & <dbl> & <dbl> & <dbl> & <dbl> & <dbl> & <dbl> & <dbl> & <dbl> & <dbl> & <dbl> & <dbl> & <dbl> & <dbl>\\\\\n",
       "\\hline\n",
       "\t 63 & 1 & 1 & 145 & 233 & 1 & 2 & 150 & 0 & 2.3 & 3 & 0 & 6 & 0\\\\\n",
       "\t 67 & 1 & 4 & 160 & 286 & 0 & 2 & 108 & 1 & 1.5 & 2 & 3 & 3 & 2\\\\\n",
       "\t 67 & 1 & 4 & 120 & 229 & 0 & 2 & 129 & 1 & 2.6 & 2 & 2 & 7 & 1\\\\\n",
       "\t 37 & 1 & 3 & 130 & 250 & 0 & 0 & 187 & 0 & 3.5 & 3 & 0 & 3 & 0\\\\\n",
       "\t 41 & 0 & 2 & 130 & 204 & 0 & 2 & 172 & 0 & 1.4 & 1 & 0 & 3 & 0\\\\\n",
       "\t 56 & 1 & 2 & 120 & 236 & 0 & 0 & 178 & 0 & 0.8 & 1 & 0 & 3 & 0\\\\\n",
       "\\end{tabular}\n"
      ],
      "text/markdown": [
       "\n",
       "A tibble: 6 × 14\n",
       "\n",
       "| X1 &lt;dbl&gt; | X2 &lt;dbl&gt; | X3 &lt;dbl&gt; | X4 &lt;dbl&gt; | X5 &lt;dbl&gt; | X6 &lt;dbl&gt; | X7 &lt;dbl&gt; | X8 &lt;dbl&gt; | X9 &lt;dbl&gt; | X10 &lt;dbl&gt; | X11 &lt;dbl&gt; | X12 &lt;dbl&gt; | X13 &lt;dbl&gt; | X14 &lt;dbl&gt; |\n",
       "|---|---|---|---|---|---|---|---|---|---|---|---|---|---|\n",
       "| 63 | 1 | 1 | 145 | 233 | 1 | 2 | 150 | 0 | 2.3 | 3 | 0 | 6 | 0 |\n",
       "| 67 | 1 | 4 | 160 | 286 | 0 | 2 | 108 | 1 | 1.5 | 2 | 3 | 3 | 2 |\n",
       "| 67 | 1 | 4 | 120 | 229 | 0 | 2 | 129 | 1 | 2.6 | 2 | 2 | 7 | 1 |\n",
       "| 37 | 1 | 3 | 130 | 250 | 0 | 0 | 187 | 0 | 3.5 | 3 | 0 | 3 | 0 |\n",
       "| 41 | 0 | 2 | 130 | 204 | 0 | 2 | 172 | 0 | 1.4 | 1 | 0 | 3 | 0 |\n",
       "| 56 | 1 | 2 | 120 | 236 | 0 | 0 | 178 | 0 | 0.8 | 1 | 0 | 3 | 0 |\n",
       "\n"
      ],
      "text/plain": [
       "  X1 X2 X3 X4  X5  X6 X7 X8  X9 X10 X11 X12 X13 X14\n",
       "1 63 1  1  145 233 1  2  150 0  2.3 3   0   6   0  \n",
       "2 67 1  4  160 286 0  2  108 1  1.5 2   3   3   2  \n",
       "3 67 1  4  120 229 0  2  129 1  2.6 2   2   7   1  \n",
       "4 37 1  3  130 250 0  0  187 0  3.5 3   0   3   0  \n",
       "5 41 0  2  130 204 0  2  172 0  1.4 1   0   3   0  \n",
       "6 56 1  2  120 236 0  0  178 0  0.8 1   0   3   0  "
      ]
     },
     "metadata": {},
     "output_type": "display_data"
    }
   ],
   "source": [
    "#reads in the data table with the 14 attributes\n",
    "heart_data_0 <- read_csv(\"https://archive.ics.uci.edu/ml/machine-learning-databases/heart-disease/processed.cleveland.data\",\n",
    "              col_names = FALSE) %>%\n",
    "              mutate(X12 = as.numeric(X12), X13 = as.numeric(X13))\n",
    "\n",
    "#outputs the first 6 rows of the data frame\n",
    "head(heart_data_0)"
   ]
  },
  {
   "cell_type": "markdown",
   "metadata": {},
   "source": [
    "As these columns are separated by commas, we use `read_csv` to read the file from the web. As well, we notice that columns X12 and X13 are treated as characters, not numbers, so we use the `as.numeric` function to change the data type."
   ]
  },
  {
   "cell_type": "code",
   "execution_count": 131,
   "metadata": {},
   "outputs": [
    {
     "data": {
      "text/html": [
       "<table class=\"dataframe\">\n",
       "<caption>A tibble: 6 × 3</caption>\n",
       "<thead>\n",
       "\t<tr><th scope=col>trestbps</th><th scope=col>chol</th><th scope=col>Class</th></tr>\n",
       "\t<tr><th scope=col>&lt;chr&gt;</th><th scope=col>&lt;chr&gt;</th><th scope=col>&lt;chr&gt;</th></tr>\n",
       "</thead>\n",
       "<tbody>\n",
       "\t<tr><td>HIGH  </td><td>HIGH</td><td>NO </td></tr>\n",
       "\t<tr><td>HIGH  </td><td>HIGH</td><td>YES</td></tr>\n",
       "\t<tr><td>NORMAL</td><td>HIGH</td><td>NO </td></tr>\n",
       "\t<tr><td>HIGH  </td><td>HIGH</td><td>NO </td></tr>\n",
       "\t<tr><td>HIGH  </td><td>HIGH</td><td>NO </td></tr>\n",
       "\t<tr><td>NORMAL</td><td>HIGH</td><td>NO </td></tr>\n",
       "</tbody>\n",
       "</table>\n"
      ],
      "text/latex": [
       "A tibble: 6 × 3\n",
       "\\begin{tabular}{lll}\n",
       " trestbps & chol & Class\\\\\n",
       " <chr> & <chr> & <chr>\\\\\n",
       "\\hline\n",
       "\t HIGH   & HIGH & NO \\\\\n",
       "\t HIGH   & HIGH & YES\\\\\n",
       "\t NORMAL & HIGH & NO \\\\\n",
       "\t HIGH   & HIGH & NO \\\\\n",
       "\t HIGH   & HIGH & NO \\\\\n",
       "\t NORMAL & HIGH & NO \\\\\n",
       "\\end{tabular}\n"
      ],
      "text/markdown": [
       "\n",
       "A tibble: 6 × 3\n",
       "\n",
       "| trestbps &lt;chr&gt; | chol &lt;chr&gt; | Class &lt;chr&gt; |\n",
       "|---|---|---|\n",
       "| HIGH   | HIGH | NO  |\n",
       "| HIGH   | HIGH | YES |\n",
       "| NORMAL | HIGH | NO  |\n",
       "| HIGH   | HIGH | NO  |\n",
       "| HIGH   | HIGH | NO  |\n",
       "| NORMAL | HIGH | NO  |\n",
       "\n"
      ],
      "text/plain": [
       "  trestbps chol Class\n",
       "1 HIGH     HIGH NO   \n",
       "2 HIGH     HIGH YES  \n",
       "3 NORMAL   HIGH NO   \n",
       "4 HIGH     HIGH NO   \n",
       "5 HIGH     HIGH NO   \n",
       "6 NORMAL   HIGH NO   "
      ]
     },
     "metadata": {},
     "output_type": "display_data"
    }
   ],
   "source": [
    "#renames the columns\n",
    "colnames(heart_data_0) <- c(\"age\", \"sex\", \"cp\", \"trestbps\", \"chol\", \"fbs\", \"restecg\", \"thalach\", \"exang\", \"oldpeak\",\n",
    "                          \"slope\", \"ca\", \"thal\", \"Class\")\n",
    "\n",
    "#selects the 2 attributes that will be used as well as the class\n",
    "heart_data_1 <- heart_data_0%>%\n",
    "select(trestbps, chol,  Class)\n",
    "\n",
    "#We identify patients with trestbps data higher than XXX as having high resting blood pressure and indicate \n",
    "#this result with \"HIGH\" (and vice versa with \"NORMAL\"), \n",
    "#while changing the data type from numeric to factor\n",
    "\n",
    "\n",
    "#########Due to the unknown problem 94 cannot be assigned to the correct category, \n",
    "#########here we discard the two data for trestbps = 94\n",
    "heart_data_2 <- heart_data_1 %>% \n",
    "mutate(trestbps = replace(trestbps, trestbps >= 130, \"HIGH\"),\n",
    "      trestbps = replace(trestbps, trestbps < 130, \"NORMAL\"))%>%\n",
    "filter(trestbps != 94)\n",
    "\n",
    "#We identify patients with chol data higher than XXX as having high serum cholestoral and indicate \n",
    "#this result with \"HIGH\" (and vice versa with \"NORMAL\"), \n",
    "#while changing the data type from numeric to factor\n",
    "\n",
    "heart_data_3 <- heart_data_2 %>%\n",
    "mutate(chol = replace(chol, chol > 180, \"HIGH\"),\n",
    "      chol = replace(chol, chol <= 180, \"NORMAL\"))\n",
    "\n",
    "#We identified patients with class data higher than XXX as having heart disease and indicated this result \n",
    "#with \"YES\" (and vice versa with \"NO\"). Also change the data type from number to factor\n",
    "heart_data <- heart_data_3 %>%\n",
    "mutate(Class = replace(Class, Class > 1, \"YES\"),\n",
    "      Class = replace(Class, Class <= 1, \"NO\"))\n",
    "\n",
    "\n",
    "#outputs the first 6 rows of the data frame and heart_data is the data frame we will eventually use\n",
    "head(heart_data)\n"
   ]
  },
  {
   "cell_type": "markdown",
   "metadata": {},
   "source": [
    "Through the process above, we have converted the data frame into the format we need, which includes all the \n",
    "information in the data box about whether the patient has high resting blood pressure or not, whether \n",
    "the patient has high cholesterol or not and whether the patient has heart disease or not."
   ]
  },
  {
   "cell_type": "markdown",
   "metadata": {},
   "source": [
    "## Visualizing the Data"
   ]
  },
  {
   "cell_type": "markdown",
   "metadata": {},
   "source": [
    "In the first diagram, We use whether the patient has high resting blood pressure as the X-axis variable, and mark whether the patient has heart disease with red and blue, red means the patient does not have high blood pressure, and vice versa.In the second diagram, We use whether the patient has high serum cholestoral as the X-axis variable, and mark whether the patient has heart disease with red and blue."
   ]
  },
  {
   "cell_type": "code",
   "execution_count": 156,
   "metadata": {},
   "outputs": [
    {
     "data": {
      "image/png": "[encoded data removed]",
      "text/plain": [
       "plot without title"
      ]
     },
     "metadata": {
      "image/png": {
       "height": 360,
       "width": 480
      }
     },
     "output_type": "display_data"
    },
    {
     "data": {
      "image/png": "[encoded data removed]",
      "text/plain": [
       "plot without title"
      ]
     },
     "metadata": {
      "image/png": {
       "height": 360,
       "width": 480
      }
     },
     "output_type": "display_data"
    }
   ],
   "source": [
    "ggplot(heart_data, \n",
    "       aes(x = trestbps, fill = Class)) +\n",
    "  geom_bar() + \n",
    "  labs(x = \"Resting blood pressure of patients\")\n",
    "\n",
    "ggplot(heart_data, \n",
    "       aes(x = chol, fill = Class)) +\n",
    "  geom_bar() + \n",
    "  labs(x = \"Serum cholestoral\")"
   ]
  },
  {
   "cell_type": "markdown",
   "metadata": {},
   "source": [
    "## Compute estimates of the parameter"
   ]
  },
  {
   "cell_type": "markdown",
   "metadata": {},
   "source": [
    "Below, we have created three data frame to summarize the data.The first data frame shows the proportion of the four combinations of presence or absence of high resting blood pressure and presence or absence of heart disease. The second data frame shows the proportion of the four combinations of the presence or absence of high cholesterol and the presence or absence of heart disease.The last data box shows the estimates after taking 1000 replicates of \"shuffles\" and assuming the null hypothesis is true"
   ]
  },
  {
   "cell_type": "code",
   "execution_count": 157,
   "metadata": {},
   "outputs": [
    {
     "data": {
      "text/html": [
       "<table class=\"dataframe\">\n",
       "<caption>A grouped_df: 4 × 4</caption>\n",
       "<thead>\n",
       "\t<tr><th scope=col>trestbps</th><th scope=col>Class</th><th scope=col>n</th><th scope=col>p</th></tr>\n",
       "\t<tr><th scope=col>&lt;chr&gt;</th><th scope=col>&lt;chr&gt;</th><th scope=col>&lt;int&gt;</th><th scope=col>&lt;dbl&gt;</th></tr>\n",
       "</thead>\n",
       "<tbody>\n",
       "\t<tr><td>HIGH  </td><td>NO </td><td>116</td><td>0.3853821</td></tr>\n",
       "\t<tr><td>HIGH  </td><td>YES</td><td> 52</td><td>0.1727575</td></tr>\n",
       "\t<tr><td>NORMAL</td><td>NO </td><td>101</td><td>0.3355482</td></tr>\n",
       "\t<tr><td>NORMAL</td><td>YES</td><td> 32</td><td>0.1063123</td></tr>\n",
       "</tbody>\n",
       "</table>\n"
      ],
      "text/latex": [
       "A grouped\\_df: 4 × 4\n",
       "\\begin{tabular}{llll}\n",
       " trestbps & Class & n & p\\\\\n",
       " <chr> & <chr> & <int> & <dbl>\\\\\n",
       "\\hline\n",
       "\t HIGH   & NO  & 116 & 0.3853821\\\\\n",
       "\t HIGH   & YES &  52 & 0.1727575\\\\\n",
       "\t NORMAL & NO  & 101 & 0.3355482\\\\\n",
       "\t NORMAL & YES &  32 & 0.1063123\\\\\n",
       "\\end{tabular}\n"
      ],
      "text/markdown": [
       "\n",
       "A grouped_df: 4 × 4\n",
       "\n",
       "| trestbps &lt;chr&gt; | Class &lt;chr&gt; | n &lt;int&gt; | p &lt;dbl&gt; |\n",
       "|---|---|---|---|\n",
       "| HIGH   | NO  | 116 | 0.3853821 |\n",
       "| HIGH   | YES |  52 | 0.1727575 |\n",
       "| NORMAL | NO  | 101 | 0.3355482 |\n",
       "| NORMAL | YES |  32 | 0.1063123 |\n",
       "\n"
      ],
      "text/plain": [
       "  trestbps Class n   p        \n",
       "1 HIGH     NO    116 0.3853821\n",
       "2 HIGH     YES    52 0.1727575\n",
       "3 NORMAL   NO    101 0.3355482\n",
       "4 NORMAL   YES    32 0.1063123"
      ]
     },
     "metadata": {},
     "output_type": "display_data"
    },
    {
     "data": {
      "text/html": [
       "<table class=\"dataframe\">\n",
       "<caption>A grouped_df: 4 × 4</caption>\n",
       "<thead>\n",
       "\t<tr><th scope=col>chol</th><th scope=col>Class</th><th scope=col>n</th><th scope=col>p</th></tr>\n",
       "\t<tr><th scope=col>&lt;chr&gt;</th><th scope=col>&lt;chr&gt;</th><th scope=col>&lt;int&gt;</th><th scope=col>&lt;dbl&gt;</th></tr>\n",
       "</thead>\n",
       "<tbody>\n",
       "\t<tr><td>HIGH  </td><td>NO </td><td>203</td><td>0.67441860</td></tr>\n",
       "\t<tr><td>HIGH  </td><td>YES</td><td> 75</td><td>0.24916944</td></tr>\n",
       "\t<tr><td>NORMAL</td><td>NO </td><td> 14</td><td>0.04651163</td></tr>\n",
       "\t<tr><td>NORMAL</td><td>YES</td><td>  9</td><td>0.02990033</td></tr>\n",
       "</tbody>\n",
       "</table>\n"
      ],
      "text/latex": [
       "A grouped\\_df: 4 × 4\n",
       "\\begin{tabular}{llll}\n",
       " chol & Class & n & p\\\\\n",
       " <chr> & <chr> & <int> & <dbl>\\\\\n",
       "\\hline\n",
       "\t HIGH   & NO  & 203 & 0.67441860\\\\\n",
       "\t HIGH   & YES &  75 & 0.24916944\\\\\n",
       "\t NORMAL & NO  &  14 & 0.04651163\\\\\n",
       "\t NORMAL & YES &   9 & 0.02990033\\\\\n",
       "\\end{tabular}\n"
      ],
      "text/markdown": [
       "\n",
       "A grouped_df: 4 × 4\n",
       "\n",
       "| chol &lt;chr&gt; | Class &lt;chr&gt; | n &lt;int&gt; | p &lt;dbl&gt; |\n",
       "|---|---|---|---|\n",
       "| HIGH   | NO  | 203 | 0.67441860 |\n",
       "| HIGH   | YES |  75 | 0.24916944 |\n",
       "| NORMAL | NO  |  14 | 0.04651163 |\n",
       "| NORMAL | YES |   9 | 0.02990033 |\n",
       "\n"
      ],
      "text/plain": [
       "  chol   Class n   p         \n",
       "1 HIGH   NO    203 0.67441860\n",
       "2 HIGH   YES    75 0.24916944\n",
       "3 NORMAL NO     14 0.04651163\n",
       "4 NORMAL YES     9 0.02990033"
      ]
     },
     "metadata": {},
     "output_type": "display_data"
    },
    {
     "data": {
      "text/html": [
       "<table class=\"dataframe\">\n",
       "<caption>A tibble: 6 × 2</caption>\n",
       "<thead>\n",
       "\t<tr><th scope=col>replicate</th><th scope=col>stat</th></tr>\n",
       "\t<tr><th scope=col>&lt;int&gt;</th><th scope=col>&lt;dbl&gt;</th></tr>\n",
       "</thead>\n",
       "<tbody>\n",
       "\t<tr><td>1</td><td>-0.052318296</td></tr>\n",
       "\t<tr><td>2</td><td> 0.082393484</td></tr>\n",
       "\t<tr><td>3</td><td>-0.106203008</td></tr>\n",
       "\t<tr><td>4</td><td>-0.025375940</td></tr>\n",
       "\t<tr><td>5</td><td> 0.001566416</td></tr>\n",
       "\t<tr><td>6</td><td> 0.028508772</td></tr>\n",
       "</tbody>\n",
       "</table>\n"
      ],
      "text/latex": [
       "A tibble: 6 × 2\n",
       "\\begin{tabular}{ll}\n",
       " replicate & stat\\\\\n",
       " <int> & <dbl>\\\\\n",
       "\\hline\n",
       "\t 1 & -0.052318296\\\\\n",
       "\t 2 &  0.082393484\\\\\n",
       "\t 3 & -0.106203008\\\\\n",
       "\t 4 & -0.025375940\\\\\n",
       "\t 5 &  0.001566416\\\\\n",
       "\t 6 &  0.028508772\\\\\n",
       "\\end{tabular}\n"
      ],
      "text/markdown": [
       "\n",
       "A tibble: 6 × 2\n",
       "\n",
       "| replicate &lt;int&gt; | stat &lt;dbl&gt; |\n",
       "|---|---|\n",
       "| 1 | -0.052318296 |\n",
       "| 2 |  0.082393484 |\n",
       "| 3 | -0.106203008 |\n",
       "| 4 | -0.025375940 |\n",
       "| 5 |  0.001566416 |\n",
       "| 6 |  0.028508772 |\n",
       "\n"
      ],
      "text/plain": [
       "  replicate stat        \n",
       "1 1         -0.052318296\n",
       "2 2          0.082393484\n",
       "3 3         -0.106203008\n",
       "4 4         -0.025375940\n",
       "5 5          0.001566416\n",
       "6 6          0.028508772"
      ]
     },
     "metadata": {},
     "output_type": "display_data"
    }
   ],
   "source": [
    "#creates a table that displays the count and percentage of each class in the training data\n",
    "heart_data_n <- heart_data %>%\n",
    "                      tally()%>%\n",
    "pull()\n",
    "\n",
    "heart_data_prop_trestbps <- \n",
    "    heart_data %>% \n",
    "    group_by(trestbps, Class)%>%\n",
    "    count() %>% \n",
    "    mutate(p = n/heart_data_n)\n",
    "\n",
    "heart_data_prop_trestbps\n",
    "\n",
    "heart_data_prop_chol <- \n",
    "    heart_data %>% \n",
    "    group_by(chol, Class)%>%\n",
    "    count() %>% \n",
    "    mutate(p = n/heart_data_n)\n",
    "\n",
    "heart_data_prop_chol\n",
    "\n",
    "\n",
    "null_distribution <- heart_data %>% \n",
    "  specify(formula = Class ~ trestbps, success = \"YES\") %>% \n",
    "  hypothesize(null = \"independence\") %>% \n",
    "  generate(reps = 1000, type = \"permute\") %>% \n",
    "  calculate(stat = \"diff in props\", order = c(\"HIGH\", \"NORMAL\"))\n",
    "\n",
    "head(null_distribution)"
   ]
  },
  {
   "cell_type": "markdown",
   "metadata": {},
   "source": [
    "## Methods"
   ]
  },
  {
   "cell_type": "code",
   "execution_count": 153,
   "metadata": {},
   "outputs": [
    {
     "name": "stderr",
     "output_type": "stream",
     "text": [
      "ERROR while rich displaying an object: Error in FUN(X[[i]], ...): object 'thalach' not found\n",
      "\n",
      "Traceback:\n",
      "1. tryCatch(withCallingHandlers({\n",
      " .     if (!mime %in% names(repr::mime2repr)) \n",
      " .         stop(\"No repr_* for mimetype \", mime, \" in repr::mime2repr\")\n",
      " .     rpr <- repr::mime2repr[[mime]](obj)\n",
      " .     if (is.null(rpr)) \n",
      " .         return(NULL)\n",
      " .     prepare_content(is.raw(rpr), rpr)\n",
      " . }, error = error_handler), error = outer_handler)\n",
      "2. tryCatchList(expr, classes, parentenv, handlers)\n",
      "3. tryCatchOne(expr, names, parentenv, handlers[[1L]])\n",
      "4. doTryCatch(return(expr), name, parentenv, handler)\n",
      "5. withCallingHandlers({\n",
      " .     if (!mime %in% names(repr::mime2repr)) \n",
      " .         stop(\"No repr_* for mimetype \", mime, \" in repr::mime2repr\")\n",
      " .     rpr <- repr::mime2repr[[mime]](obj)\n",
      " .     if (is.null(rpr)) \n",
      " .         return(NULL)\n",
      " .     prepare_content(is.raw(rpr), rpr)\n",
      " . }, error = error_handler)\n",
      "6. repr::mime2repr[[mime]](obj)\n",
      "7. repr_text.default(obj)\n",
      "8. paste(capture.output(print(obj)), collapse = \"\\n\")\n",
      "9. capture.output(print(obj))\n",
      "10. evalVis(expr)\n",
      "11. withVisible(eval(expr, pf))\n",
      "12. eval(expr, pf)\n",
      "13. eval(expr, pf)\n",
      "14. print(obj)\n",
      "15. print.ggplot(obj)\n",
      "16. ggplot_build(x)\n",
      "17. ggplot_build.ggplot(x)\n",
      "18. by_layer(function(l, d) l$compute_aesthetics(d, plot))\n",
      "19. f(l = layers[[i]], d = data[[i]])\n",
      "20. l$compute_aesthetics(d, plot)\n",
      "21. f(..., self = self)\n",
      "22. scales_add_defaults(plot$scales, data, aesthetics, plot$plot_env)\n",
      "23. lapply(aesthetics[new_aesthetics], eval_tidy, data = data)\n",
      "24. FUN(X[[i]], ...)\n"
     ]
    },
    {
     "data": {
      "image/png": "[encoded data removed]",
      "text/plain": [
       "plot without title"
      ]
     },
     "metadata": {
      "image/png": {
       "height": 360,
       "width": 480
      }
     },
     "output_type": "display_data"
    }
   ],
   "source": [
    "options(repr.plot.width = 8, repr.plot.height = 6)\n",
    "limited_classes <- filter(heart_data, Class == 0 | Class == 4 | Class == 3)\n",
    "ggplot(limited_classes, aes(x=trestbps,y=thalach,color=Class,shape=Class)) +\n",
    "    geom_point() +\n",
    "    labs(x=\"Max Heart Rate(Beat/Min)\", y= \"Blood Pressure(mmHg)\", title=\"Blood Pressure vs Max Heart Rate\") +\n",
    "    theme(text = element_text(size=18))"
   ]
  },
  {
   "cell_type": "markdown",
   "metadata": {},
   "source": [
    "Given the number of observations in the dataset, we make sure that we have a sample that’s large enough. Also, our analysis process will strictly follow statistical rules and use scientific tools so that our result is unbiased and representative of the population.\n",
    "\n",
    "The plots are not enough to give a stakeholder because the plots are generated using only a single sample. In other words, although we could obtain a point estimate from the sample, we cannot compute the sampling variation that quantifies the uncertainty about the point estimate. As a result, we cannot be confident enough that our point estimate from the single sample is close to the population parameter.\n",
    "\n",
    "\n",
    "In order to address this gap, we will generate bootstrap samples based on our original sample, which is our dataset. Next, we will use the infer package in R to compute the sampling distribution of sample proportions. Furthermore, we will conduct a hypothesis test with null hypothesis… with a confidence interval level at 5%.\n",
    "\n",
    "We expect to find that people with low blood pressure and low cholesterol level would have a lower chance of developing heart disease. Our findings could help raise awareness of the importance of keeping a healthy routine that keeps our blood pressure and cholesterol at a healthy level. Also, since our finding only studies the correlations of the explanatory and response variables, it would be worthy to find out the cause of heart diseases.\n"
   ]
  },
  {
   "cell_type": "markdown",
   "metadata": {},
   "source": [
    "Although the distinction among the three classes is not very clear in the example plot above, the distinction between class 0 (no presence of heart disease) and 3/4 (presence of heart disease) is quite clear. By just comparing the two predictors used in the example, it would be a reasonable to predict that a person with low blood pressure (under 120mmHg) and a high max heart rate (over 150 BPM) will likely have some form of heart disease."
   ]
  },
  {
   "cell_type": "markdown",
   "metadata": {},
   "source": [
    "### Outcomes and Significance\n",
    "When using the KNN classifier in our project, every point will have the same weight. One thing that we could consider for future versions of the classifier is, does weighting the points based on how close they are to the new observation increase the accuracy of the classifier?\n",
    "\n",
    "As outlined in the introduction, with this project we want to determine if the variables we chose act as good predictors for our KNN classifier. Then, using those predictors, we will create an accurate classifier to detect the different classes of heart disease. Should this classifier be accurate, it could have profound effects on the medical world, as we would be able to detect different stages of heart disease using general medical data about an individual. In addition, we could also extend this classifier to attempt to classify other forms of common diseases such as cancer."
   ]
  },
  {
   "cell_type": "code",
   "execution_count": null,
   "metadata": {},
   "outputs": [],
   "source": []
  }
 ],
 "metadata": {
  "kernelspec": {
   "display_name": "R",
   "language": "R",
   "name": "ir"
  },
  "language_info": {
   "codemirror_mode": "r",
   "file_extension": ".r",
   "mimetype": "text/x-r-source",
   "name": "R",
   "pygments_lexer": "r",
   "version": "4.0.5"
  }
 },
 "nbformat": 4,
 "nbformat_minor": 4
}
