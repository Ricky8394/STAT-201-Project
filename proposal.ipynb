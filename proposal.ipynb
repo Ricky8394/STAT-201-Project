{
 "cells": [
  {
   "cell_type": "markdown",
   "metadata": {
    "tags": []
   },
   "source": [
    " # Title (Current Word Count 526)\n",
    " \n",
    " \n",
    " #### By Chris Jung, Grace Wang,Haonan Su\n",
    " \n",
    " ## Background\n",
    "***Heart disease*** is the leading cause of death for men, women, and people of most racial and ethnic groups in most of the countries in the world, even in the countries with developed medical technology such as the United States. About 659,000 people in the US die from heart disease each year, which accounts for 1 in every 4 deaths.[[1]](https://www.who.int/health-topics/cardiovascular-diseases).\n",
    "The US CDC(Centers for Disease Control and Prevention) suggests maintaining low blood pressure and cholesterol to lower the risk of heart disease [[2]](https://www.cdc.gov/heartdisease/prevention.htm).\n",
    "\n",
    "## Project Question\n",
    "\n",
    "##### Do people with low blood pressure/cholesterol level have lower chance of developing heart disease?\n",
    "\n",
    "\n",
    "## Data\n",
    "- The dataset is an actual medical records from the Cleveland Clinic Foundation stored in the [UCI Machine Learning Repository](https://archive.ics.uci.edu/ml/datasets/Heart+Disease).\n",
    "- Each observation contains 14 attributes of **a person's medical information** including the presence of heart disease.\n",
    "- The response variable is the attribute \"Class\".\n",
    "- The explanatory variables are the attribute \"trestpbs\"(blood pressure), and \"chol\"(cholesterol).\n",
    "- The detailed descriptions of the response variable and the two explanatory variables are:\n",
    "    1. *class*: presence of heart disease. integer valued from 0 (no presence) to 4\n",
    "    2. trestbps: resting blood pressure (in mm Hg on admission to the hospital)\n",
    "    3. chol: serum cholestoral in mg/dl\n",
    "    "
   ]
  },
  {
   "cell_type": "code",
   "execution_count": 1,
   "metadata": {},
   "outputs": [
    {
     "name": "stderr",
     "output_type": "stream",
     "text": [
      "── \u001b[1mAttaching packages\u001b[22m ─────────────────────────────────────── tidyverse 1.3.0 ──\n",
      "\n",
      "\u001b[32m✔\u001b[39m \u001b[34mggplot2\u001b[39m 3.3.6     \u001b[32m✔\u001b[39m \u001b[34mpurrr  \u001b[39m 0.3.4\n",
      "\u001b[32m✔\u001b[39m \u001b[34mtibble \u001b[39m 3.1.7     \u001b[32m✔\u001b[39m \u001b[34mdplyr  \u001b[39m 1.0.9\n",
      "\u001b[32m✔\u001b[39m \u001b[34mtidyr  \u001b[39m 1.2.0     \u001b[32m✔\u001b[39m \u001b[34mstringr\u001b[39m 1.4.0\n",
      "\u001b[32m✔\u001b[39m \u001b[34mreadr  \u001b[39m 2.1.2     \u001b[32m✔\u001b[39m \u001b[34mforcats\u001b[39m 0.5.1\n",
      "\n",
      "── \u001b[1mConflicts\u001b[22m ────────────────────────────────────────── tidyverse_conflicts() ──\n",
      "\u001b[31m✖\u001b[39m \u001b[34mdplyr\u001b[39m::\u001b[32mfilter()\u001b[39m masks \u001b[34mstats\u001b[39m::filter()\n",
      "\u001b[31m✖\u001b[39m \u001b[34mdplyr\u001b[39m::\u001b[32mlag()\u001b[39m    masks \u001b[34mstats\u001b[39m::lag()\n",
      "\n",
      "Warning message in file(filename, \"r\", encoding = encoding):\n",
      "“cannot open file 'tests_tutorial_04.R': No such file or directory”\n"
     ]
    },
    {
     "ename": "ERROR",
     "evalue": "Error in file(filename, \"r\", encoding = encoding): cannot open the connection\n",
     "output_type": "error",
     "traceback": [
      "Error in file(filename, \"r\", encoding = encoding): cannot open the connection\nTraceback:\n",
      "1. source(\"tests_tutorial_04.R\")",
      "2. file(filename, \"r\", encoding = encoding)"
     ]
    }
   ],
   "source": [
    "#loads the libraries\n",
    "library(cowplot)\n",
    "library(datateachr)\n",
    "library(digest)\n",
    "library(infer)\n",
    "library(repr)\n",
    "library(taxyvr)\n",
    "library(tidyverse)\n",
    "source(\"tests_tutorial_04.R\")\n",
    "\n",
    "#sets the seed for random events such as splitting the data\n",
    "set.seed(1)"
   ]
  },
  {
   "cell_type": "markdown",
   "metadata": {},
   "source": [
    "## Reading and Wrangling the Data"
   ]
  },
  {
   "cell_type": "code",
   "execution_count": null,
   "metadata": {},
   "outputs": [],
   "source": [
    "#reads in the data table with the 14 attributes\n",
    "heart_data_0 <- read_csv(\"https://archive.ics.uci.edu/ml/machine-learning-databases/heart-disease/processed.cleveland.data\",\n",
    "              col_names = FALSE) %>%\n",
    "              mutate(X12 = as.numeric(X12), X13 = as.numeric(X13))\n",
    "\n",
    "#outputs the first 6 rows of the data frame\n",
    "head(heart_data_0)"
   ]
  },
  {
   "cell_type": "code",
   "execution_count": null,
   "metadata": {},
   "outputs": [],
   "source": [
    "#renames the columns\n",
    "colnames(heart_data_0) <- c(\"age\", \"sex\", \"cp\", \"trestbps\", \"chol\", \"fbs\", \"restecg\", \"thalach\", \"exang\", \"oldpeak\",\n",
    "                          \"slope\", \"ca\", \"thal\", \"Class\")\n",
    "\n",
    "#selects the 2 attributes that will be used as well as the class\n",
    "heart_data_1 <- heart_data_0%>%\n",
    "select(trestbps, chol,  Class)\n",
    "quantile(heart_data_1$trestbps)\n",
    "quantile(heart_data_1$chol)\n",
    "#We identify patients with trestbps data higher than 130(50th percentile) as having high resting blood pressure and indicate \n",
    "#this result with \"HIGH\" (and vice versa with \"NORMAL\"), \n",
    "#while changing the data type from numeric to factor\n",
    "\n",
    "\n",
    "#########Due to the unknown problem 94 cannot be assigned to the correct category, \n",
    "#########here we discard the two data for trestbps = 94（I've asked the TA, and she doesn't know why.）\n",
    "heart_data_2 <- heart_data_1 %>% \n",
    "mutate(trestbps = replace(trestbps, trestbps >= 130, \"HIGH\"),\n",
    "      trestbps = replace(trestbps, trestbps < 130, \"LOW\"))%>%\n",
    "filter(trestbps != \"94\")\n",
    "#We identify patients with chol data higher than 241(50th percentile) as having high serum cholestoral and indicate \n",
    "#this result with \"HIGH\" (and vice versa with \"NORMAL\"), \n",
    "#while changing the data type from numeric to factor\n",
    "\n",
    "heart_data_3 <- heart_data_2 %>%\n",
    "mutate(chol = replace(chol, chol > 241, \"HIGH\"),\n",
    "      chol = replace(chol, chol <= 241, \"LOW\"))\n",
    "\n",
    "#We identified patients with class data higher than 0 as having heart disease and indicated this result \n",
    "#with \"YES\" (and vice versa with \"NO\"). Also change the data type from number to factor\n",
    "heart_data <- heart_data_3 %>%\n",
    "mutate(Class = replace(Class, Class > 0, \"YES\"),\n",
    "      Class = replace(Class, Class <= 0, \"NO\"))\n",
    "\n",
    "\n",
    "#Split heart_data into two data frames\n",
    "heart_data_trestbps <- heart_data%>%\n",
    "select(\"trestbps\",\"Class\")\n",
    "\n",
    "heart_data_chol <- heart_data%>%\n",
    "select(\"chol\",\"Class\")\n",
    "#outputs the first 6 rows of the data frame and heart_data is the data frame we will eventually use\n",
    "head(heart_data)\n",
    "head(heart_data_trestbps)\n",
    "head(heart_data_chol)"
   ]
  },
  {
   "cell_type": "markdown",
   "metadata": {},
   "source": [
    "Through the process above, we have converted the data frame into the format we need, which includes all the \n",
    "information in the data box about whether the patient has high resting blood pressure or not, whether \n",
    "the patient has high cholesterol or not and whether the patient has heart disease or not."
   ]
  },
  {
   "cell_type": "markdown",
   "metadata": {},
   "source": [
    "## Visualizing the Data"
   ]
  },
  {
   "cell_type": "markdown",
   "metadata": {},
   "source": [
    "In the first diagram, We use whether the patient has high resting blood pressure as the X-axis variable, and mark whether the patient has heart disease with red and blue, red means the patient does not have high blood pressure, and vice versa.In the second diagram, We use whether the patient has high serum cholestoral as the X-axis variable, and mark whether the patient has heart disease with red and blue."
   ]
  },
  {
   "cell_type": "code",
   "execution_count": 2,
   "metadata": {},
   "outputs": [
    {
     "ename": "ERROR",
     "evalue": "Error in ggplot(heart_data, aes(x = trestbps, fill = Class)): object 'heart_data' not found\n",
     "output_type": "error",
     "traceback": [
      "Error in ggplot(heart_data, aes(x = trestbps, fill = Class)): object 'heart_data' not found\nTraceback:\n",
      "1. ggplot(heart_data, aes(x = trestbps, fill = Class))"
     ]
    }
   ],
   "source": [
    "ggplot(heart_data, \n",
    "       aes(x = trestbps, fill = Class)) +\n",
    "  geom_bar() + \n",
    "  labs(x = \"Resting blood pressure of patients\")\n",
    "\n",
    "ggplot(heart_data, \n",
    "       aes(x = chol, fill = Class)) +\n",
    "  geom_bar() + \n",
    "  labs(x = \"Serum cholestoral\")"
   ]
  },
  {
   "cell_type": "markdown",
   "metadata": {},
   "source": [
    "## Compute estimates of the parameter"
   ]
  },
  {
   "cell_type": "markdown",
   "metadata": {},
   "source": [
    "Below, we have created three data frame and two tables to summarize the data."
   ]
  },
  {
   "cell_type": "code",
   "execution_count": 42,
   "metadata": {},
   "outputs": [
    {
     "data": {
      "text/html": [
       "<table class=\"dataframe\">\n",
       "<caption>A grouped_df: 4 × 4</caption>\n",
       "<thead>\n",
       "\t<tr><th scope=col>trestbps</th><th scope=col>Class</th><th scope=col>n</th><th scope=col>p</th></tr>\n",
       "\t<tr><th scope=col>&lt;chr&gt;</th><th scope=col>&lt;chr&gt;</th><th scope=col>&lt;int&gt;</th><th scope=col>&lt;dbl&gt;</th></tr>\n",
       "</thead>\n",
       "<tbody>\n",
       "\t<tr><td>HIGH</td><td>NO </td><td>87</td><td>0.2890365</td></tr>\n",
       "\t<tr><td>HIGH</td><td>YES</td><td>81</td><td>0.2691030</td></tr>\n",
       "\t<tr><td>LOW </td><td>NO </td><td>75</td><td>0.2491694</td></tr>\n",
       "\t<tr><td>LOW </td><td>YES</td><td>58</td><td>0.1926910</td></tr>\n",
       "</tbody>\n",
       "</table>\n"
      ],
      "text/latex": [
       "A grouped\\_df: 4 × 4\n",
       "\\begin{tabular}{llll}\n",
       " trestbps & Class & n & p\\\\\n",
       " <chr> & <chr> & <int> & <dbl>\\\\\n",
       "\\hline\n",
       "\t HIGH & NO  & 87 & 0.2890365\\\\\n",
       "\t HIGH & YES & 81 & 0.2691030\\\\\n",
       "\t LOW  & NO  & 75 & 0.2491694\\\\\n",
       "\t LOW  & YES & 58 & 0.1926910\\\\\n",
       "\\end{tabular}\n"
      ],
      "text/markdown": [
       "\n",
       "A grouped_df: 4 × 4\n",
       "\n",
       "| trestbps &lt;chr&gt; | Class &lt;chr&gt; | n &lt;int&gt; | p &lt;dbl&gt; |\n",
       "|---|---|---|---|\n",
       "| HIGH | NO  | 87 | 0.2890365 |\n",
       "| HIGH | YES | 81 | 0.2691030 |\n",
       "| LOW  | NO  | 75 | 0.2491694 |\n",
       "| LOW  | YES | 58 | 0.1926910 |\n",
       "\n"
      ],
      "text/plain": [
       "  trestbps Class n  p        \n",
       "1 HIGH     NO    87 0.2890365\n",
       "2 HIGH     YES   81 0.2691030\n",
       "3 LOW      NO    75 0.2491694\n",
       "4 LOW      YES   58 0.1926910"
      ]
     },
     "metadata": {},
     "output_type": "display_data"
    },
    {
     "data": {
      "text/html": [
       "<table class=\"dataframe\">\n",
       "<caption>A grouped_df: 4 × 4</caption>\n",
       "<thead>\n",
       "\t<tr><th scope=col>chol</th><th scope=col>Class</th><th scope=col>n</th><th scope=col>p</th></tr>\n",
       "\t<tr><th scope=col>&lt;chr&gt;</th><th scope=col>&lt;chr&gt;</th><th scope=col>&lt;int&gt;</th><th scope=col>&lt;dbl&gt;</th></tr>\n",
       "</thead>\n",
       "<tbody>\n",
       "\t<tr><td>HIGH</td><td>NO </td><td>72</td><td>0.2392027</td></tr>\n",
       "\t<tr><td>HIGH</td><td>YES</td><td>79</td><td>0.2624585</td></tr>\n",
       "\t<tr><td>LOW </td><td>NO </td><td>90</td><td>0.2990033</td></tr>\n",
       "\t<tr><td>LOW </td><td>YES</td><td>60</td><td>0.1993355</td></tr>\n",
       "</tbody>\n",
       "</table>\n"
      ],
      "text/latex": [
       "A grouped\\_df: 4 × 4\n",
       "\\begin{tabular}{llll}\n",
       " chol & Class & n & p\\\\\n",
       " <chr> & <chr> & <int> & <dbl>\\\\\n",
       "\\hline\n",
       "\t HIGH & NO  & 72 & 0.2392027\\\\\n",
       "\t HIGH & YES & 79 & 0.2624585\\\\\n",
       "\t LOW  & NO  & 90 & 0.2990033\\\\\n",
       "\t LOW  & YES & 60 & 0.1993355\\\\\n",
       "\\end{tabular}\n"
      ],
      "text/markdown": [
       "\n",
       "A grouped_df: 4 × 4\n",
       "\n",
       "| chol &lt;chr&gt; | Class &lt;chr&gt; | n &lt;int&gt; | p &lt;dbl&gt; |\n",
       "|---|---|---|---|\n",
       "| HIGH | NO  | 72 | 0.2392027 |\n",
       "| HIGH | YES | 79 | 0.2624585 |\n",
       "| LOW  | NO  | 90 | 0.2990033 |\n",
       "| LOW  | YES | 60 | 0.1993355 |\n",
       "\n"
      ],
      "text/plain": [
       "  chol Class n  p        \n",
       "1 HIGH NO    72 0.2392027\n",
       "2 HIGH YES   79 0.2624585\n",
       "3 LOW  NO    90 0.2990033\n",
       "4 LOW  YES   60 0.1993355"
      ]
     },
     "metadata": {},
     "output_type": "display_data"
    },
    {
     "name": "stdout",
     "output_type": "stream",
     "text": [
      "  Trestbps Class         P\n",
      "1     HIGH   YES 0.4821429\n",
      "2      LOW   YES 0.4360902\n",
      "  Chol Class         P\n",
      "1 HIGH   YES 0.5231788\n",
      "2  LOW   YES 0.4000000\n"
     ]
    },
    {
     "data": {
      "text/html": [
       "<table class=\"dataframe\">\n",
       "<caption>A tibble: 6 × 2</caption>\n",
       "<thead>\n",
       "\t<tr><th scope=col>replicate</th><th scope=col>stat</th></tr>\n",
       "\t<tr><th scope=col>&lt;int&gt;</th><th scope=col>&lt;dbl&gt;</th></tr>\n",
       "</thead>\n",
       "<tbody>\n",
       "\t<tr><td>1</td><td>-0.06171679</td></tr>\n",
       "\t<tr><td>2</td><td>-0.00783208</td></tr>\n",
       "\t<tr><td>3</td><td>-0.08865915</td></tr>\n",
       "\t<tr><td>4</td><td>-0.06171679</td></tr>\n",
       "\t<tr><td>5</td><td> 0.04605263</td></tr>\n",
       "\t<tr><td>6</td><td> 0.04605263</td></tr>\n",
       "</tbody>\n",
       "</table>\n"
      ],
      "text/latex": [
       "A tibble: 6 × 2\n",
       "\\begin{tabular}{ll}\n",
       " replicate & stat\\\\\n",
       " <int> & <dbl>\\\\\n",
       "\\hline\n",
       "\t 1 & -0.06171679\\\\\n",
       "\t 2 & -0.00783208\\\\\n",
       "\t 3 & -0.08865915\\\\\n",
       "\t 4 & -0.06171679\\\\\n",
       "\t 5 &  0.04605263\\\\\n",
       "\t 6 &  0.04605263\\\\\n",
       "\\end{tabular}\n"
      ],
      "text/markdown": [
       "\n",
       "A tibble: 6 × 2\n",
       "\n",
       "| replicate &lt;int&gt; | stat &lt;dbl&gt; |\n",
       "|---|---|\n",
       "| 1 | -0.06171679 |\n",
       "| 2 | -0.00783208 |\n",
       "| 3 | -0.08865915 |\n",
       "| 4 | -0.06171679 |\n",
       "| 5 |  0.04605263 |\n",
       "| 6 |  0.04605263 |\n",
       "\n"
      ],
      "text/plain": [
       "  replicate stat       \n",
       "1 1         -0.06171679\n",
       "2 2         -0.00783208\n",
       "3 3         -0.08865915\n",
       "4 4         -0.06171679\n",
       "5 5          0.04605263\n",
       "6 6          0.04605263"
      ]
     },
     "metadata": {},
     "output_type": "display_data"
    }
   ],
   "source": [
    "#Generate the percentage of two variables under a four-column combination\n",
    "heart_data_n <- heart_data %>%\n",
    "                      tally()%>%\n",
    "pull()\n",
    "\n",
    "#proportion of the four combinations of low or high resting blood pressure \n",
    "#and presence or absence of heart disease.\n",
    "heart_data_prop_trestbps_0 <- \n",
    "    heart_data %>% \n",
    "    group_by(trestbps, Class)%>%\n",
    "    count() %>% \n",
    "    mutate(p = n/heart_data_n)\n",
    "#the proportion of the four combinations of the low or high cholesterol and \n",
    "#the presence or absence of heart disease.\n",
    "heart_data_prop_chol_0 <- \n",
    "    heart_data %>% \n",
    "    group_by(chol, Class)%>%\n",
    "    count() %>% \n",
    "    mutate(p = n/heart_data_n)\n",
    "\n",
    "heart_data_prop_trestbps_0\n",
    "heart_data_prop_chol_0\n",
    "\n",
    "#Generate the proportion of patients with heart disease with or without high resting blood pressure\n",
    "Trestbps <- c(\"HIGH\",\"LOW\")\n",
    "Class <- c(\"YES\",\"YES\")\n",
    "P <- c(81/(87+81),58/(75+58))\n",
    "heart_data_prop_trestbps_1 <- data.frame(Trestbps,Class,P)\n",
    "print(heart_data_prop_trestbps_1)\n",
    "#Generate the proportion of patients with heart disease with or without high cholesterol\n",
    "Chol <- c(\"HIGH\",\"LOW\")\n",
    "P <- c(79/(79+72),60/(60+90))\n",
    "heart_data_prop_chol_1 <- data.frame(Chol,Class,P)\n",
    "print(heart_data_prop_chol_1)\n",
    "\n",
    "\n",
    "#the estimates after taking 1000 replicates of \"shuffles\" and assuming the null hypothesis is true\n",
    "null_distribution <- heart_data %>% \n",
    "  specify(formula = Class ~ trestbps, success = \"YES\") %>% \n",
    "  hypothesize(null = \"independence\") %>% \n",
    "  generate(reps = 1000, type = \"permute\") %>% \n",
    "  calculate(stat = \"diff in props\", order = c(\"HIGH\", \"LOW\"))\n",
    "\n",
    "head(null_distribution)"
   ]
  },
  {
   "cell_type": "markdown",
   "metadata": {},
   "source": [
    "The differences in the proportion of having heart disease between LOW and HIGH, as reflected in the third and fourth tables, suggest that it would be possible to find out whether high or low resting blood pressure and high or low cholesterol make patients more likely to have heart disease."
   ]
  },
  {
   "cell_type": "markdown",
   "metadata": {},
   "source": [
    "## Methods"
   ]
  },
  {
   "cell_type": "markdown",
   "metadata": {
    "jp-MarkdownHeadingCollapsed": true,
    "tags": []
   },
   "source": [
    "### Reliability of Research\n",
    "\n",
    "- reliable and academical data source\n",
    "- large sample size\n",
    "- strictly follow statistical rules\n",
    "- perform analysis using scientific tools\n",
    "\n",
    "### Limitation of Preliminary Research\n",
    "\n",
    "- plots and estimates above were generated using a single sample.\n",
    "- cannot compute sampling variation that quantifies the uncertainty about the point estimate obtained from the sample\n",
    "- cannot be confident enough that the point estimate from the sample is close to the population parameter\n",
    "\n",
    "### Future Research Plan\n",
    "\n",
    "- generate bootstrap samples based on our original sample, which is our dataset.\n",
    "- use R to compute sample proportions from the bootstrap samples and generate a bootstrap sampling distribution.\n",
    "- conduct hypothesis tests using a confidenve interval level at 5% to test the claim that people with high blood pressure and cholesterol level tend to have a higher chance of having heart disease.\n",
    "\n",
    "\n",
    "#### Hypothesis Test1\n",
    "\n",
    "- p1 : proportion of people having heart disease with low blood pressure\n",
    "- p2 : proportion of people having heart disease with high blood pressure\n",
    "\n",
    "H_0 : the difference between p2 and p1 is greater than zero </br>\n",
    "H_1 : the difference between p2 and p1 is smaller than zero. </br>\n",
    "\n",
    "#### Hypothesis Test2\n",
    "\n",
    "- p3 : proportion of people having heart disease with low cholesterol level\n",
    "- p4 : proportion of people having heart disease with high cholesterol level\n",
    "\n",
    "H_0 : the difference between p4 and p3 is greater than zero </br>\n",
    "H_1 : the difference between p4 and p3 is smaller than zerois. </br>\n",
    " \n",
    "### Significance and Expectation\n",
    "\n",
    "- we expect people with low blood pressure and low cholesterol level would have a lower chance of developing heart disease. \n",
    "- Our findings could potentially help raise awareness of the importance of keeping a healthy routine that keeps our blood pressure and cholesterol at a healthy level. \n",
    "- Our research could lead to a future question: what is the causation of heart diseases given the correlation we will establish in our report."
   ]
  },
  {
   "cell_type": "markdown",
   "metadata": {},
   "source": [
    "### Reference"
   ]
  },
  {
   "cell_type": "markdown",
   "metadata": {},
   "source": [
    "[1] World Health Organization. (n.d.). Cardiovascular diseases. World Health Organization. Retrieved July 26, 2022, from https://www.who.int/health-topics/cardiovascular-diseases </br>\n",
    "[2] Centers for Disease Control and Prevention. (2020, April 21). Prevent heart disease. Centers for Disease Control and Prevention. Retrieved July 26, 2022, from https://www.cdc.gov/heartdisease/prevention.htm "
   ]
  },
  {
   "cell_type": "code",
   "execution_count": null,
   "metadata": {},
   "outputs": [],
   "source": []
  }
 ],
 "metadata": {
  "kernelspec": {
   "display_name": "R",
   "language": "R",
   "name": "ir"
  },
  "language_info": {
   "codemirror_mode": "r",
   "file_extension": ".r",
   "mimetype": "text/x-r-source",
   "name": "R",
   "pygments_lexer": "r",
   "version": "4.0.5"
  }
 },
 "nbformat": 4,
 "nbformat_minor": 4
}
