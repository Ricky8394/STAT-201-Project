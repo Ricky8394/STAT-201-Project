{
 "cells": [
  {
   "cell_type": "markdown",
   "metadata": {},
   "source": [
    " # Title (Current Word Count 526)\n",
    " \n",
    " \n",
    " #### By Chris Jung, Grace Wang,Haonan Su\n",
    " \n",
    " ## Background and Motivation\n",
    "***Heart disease*** is the leading cause of death for men, women, and people of most racial and ethnic groups in most of the countries in the world, even in the countries with developed medical technology such as the United States. About 659,000 people in the US die from heart disease each year, which accounts for 1 in every 4 deaths.[[1]](https://www.who.int/health-topics/cardiovascular-diseases).\n",
    "The US CDC(Centers for Disease Control and Prevention) suggests maintaining low blood pressure and cholesterol to lower the risk of heart disease [[2]](https://www.cdc.gov/heartdisease/prevention.htm).\n",
    "For these reasons, we would like to raise awareness of heart disease and its prevention by analyzing the effect of maintaining low blood pressure and cholesterol on heart disease.\n",
    "\n",
    "## Project Goal\n",
    "- We are going to use actual medical records from the Cleveland Clinic Foundation to make a sampling distribution using bootstrapping sampling.\n",
    "- Finally, we will conduct hypotheses tests to determine if the rate of heart disease is dependent on those two factors.\n",
    "- By doing these activities, we hope to answer this question:\n",
    "\n",
    "##### Do people with low blood pressure/cholesterol level have lower chance of developing heart disease?\n",
    "\n",
    "\n",
    "## Data\n",
    "- The dataset is from the [UCI Machine Learning Repository](https://archive.ics.uci.edu/ml/datasets/Heart+Disease).\n",
    "- Each observation contains 14 attributes of **a person's medical information** including the presence of heart disease.\n",
    "- The response variable is the attribute \"Class\" which represents the presence of heart disease in 5 different categories.\n",
    "- The explanatory variables are the attribute \"trestpbs\"(blood pressure), and \"chol\"(cholesterol).\n",
    "- The detailed descriptions of the response variable and the two explanatory variables are:\n",
    "    1. *class*: presence of heart disease. integer valued from 0 (no presence) to 4\n",
    "    2. trestbps: resting blood pressure (in mm Hg on admission to the hospital)\n",
    "    3. chol: serum cholestoral in mg/dl\n",
    "    "
   ]
  },
  {
   "cell_type": "code",
   "execution_count": 1,
   "metadata": {},
   "outputs": [
    {
     "name": "stderr",
     "output_type": "stream",
     "text": [
      "── \u001b[1mAttaching packages\u001b[22m ─────────────────────────────────────── tidyverse 1.3.0 ──\n",
      "\n",
      "\u001b[32m✔\u001b[39m \u001b[34mggplot2\u001b[39m 3.3.6     \u001b[32m✔\u001b[39m \u001b[34mpurrr  \u001b[39m 0.3.4\n",
      "\u001b[32m✔\u001b[39m \u001b[34mtibble \u001b[39m 3.1.7     \u001b[32m✔\u001b[39m \u001b[34mdplyr  \u001b[39m 1.0.9\n",
      "\u001b[32m✔\u001b[39m \u001b[34mtidyr  \u001b[39m 1.2.0     \u001b[32m✔\u001b[39m \u001b[34mstringr\u001b[39m 1.4.0\n",
      "\u001b[32m✔\u001b[39m \u001b[34mreadr  \u001b[39m 2.1.2     \u001b[32m✔\u001b[39m \u001b[34mforcats\u001b[39m 0.5.1\n",
      "\n",
      "── \u001b[1mConflicts\u001b[22m ────────────────────────────────────────── tidyverse_conflicts() ──\n",
      "\u001b[31m✖\u001b[39m \u001b[34mdplyr\u001b[39m::\u001b[32mfilter()\u001b[39m masks \u001b[34mstats\u001b[39m::filter()\n",
      "\u001b[31m✖\u001b[39m \u001b[34mdplyr\u001b[39m::\u001b[32mlag()\u001b[39m    masks \u001b[34mstats\u001b[39m::lag()\n",
      "\n",
      "Warning message in file(filename, \"r\", encoding = encoding):\n",
      "“cannot open file 'tests_tutorial_04.R': No such file or directory”\n"
     ]
    },
    {
     "ename": "ERROR",
     "evalue": "Error in file(filename, \"r\", encoding = encoding): cannot open the connection\n",
     "output_type": "error",
     "traceback": [
      "Error in file(filename, \"r\", encoding = encoding): cannot open the connection\nTraceback:\n",
      "1. source(\"tests_tutorial_04.R\")",
      "2. file(filename, \"r\", encoding = encoding)"
     ]
    }
   ],
   "source": [
    "#loads the libraries\n",
    "library(cowplot)\n",
    "library(datateachr)\n",
    "library(digest)\n",
    "library(infer)\n",
    "library(repr)\n",
    "library(taxyvr)\n",
    "library(tidyverse)\n",
    "source(\"tests_tutorial_04.R\")\n",
    "\n",
    "#sets the seed for random events such as splitting the data\n",
    "set.seed(1)"
   ]
  },
  {
   "cell_type": "markdown",
   "metadata": {},
   "source": [
    "## Reading and Wrangling the Data"
   ]
  },
  {
   "cell_type": "code",
   "execution_count": 2,
   "metadata": {},
   "outputs": [
    {
     "name": "stderr",
     "output_type": "stream",
     "text": [
      "\u001b[1mRows: \u001b[22m\u001b[34m303\u001b[39m \u001b[1mColumns: \u001b[22m\u001b[34m14\u001b[39m\n",
      "\u001b[36m──\u001b[39m \u001b[1mColumn specification\u001b[22m \u001b[36m────────────────────────────────────────────────────────\u001b[39m\n",
      "\u001b[1mDelimiter:\u001b[22m \",\"\n",
      "\u001b[31mchr\u001b[39m  (2): X12, X13\n",
      "\u001b[32mdbl\u001b[39m (12): X1, X2, X3, X4, X5, X6, X7, X8, X9, X10, X11, X14\n",
      "\n",
      "\u001b[36mℹ\u001b[39m Use `spec()` to retrieve the full column specification for this data.\n",
      "\u001b[36mℹ\u001b[39m Specify the column types or set `show_col_types = FALSE` to quiet this message.\n",
      "Warning message in mask$eval_all_mutate(quo):\n",
      "“NAs introduced by coercion”\n",
      "Warning message in mask$eval_all_mutate(quo):\n",
      "“NAs introduced by coercion”\n"
     ]
    },
    {
     "data": {
      "text/html": [
       "<table class=\"dataframe\">\n",
       "<caption>A tibble: 6 × 14</caption>\n",
       "<thead>\n",
       "\t<tr><th scope=col>X1</th><th scope=col>X2</th><th scope=col>X3</th><th scope=col>X4</th><th scope=col>X5</th><th scope=col>X6</th><th scope=col>X7</th><th scope=col>X8</th><th scope=col>X9</th><th scope=col>X10</th><th scope=col>X11</th><th scope=col>X12</th><th scope=col>X13</th><th scope=col>X14</th></tr>\n",
       "\t<tr><th scope=col>&lt;dbl&gt;</th><th scope=col>&lt;dbl&gt;</th><th scope=col>&lt;dbl&gt;</th><th scope=col>&lt;dbl&gt;</th><th scope=col>&lt;dbl&gt;</th><th scope=col>&lt;dbl&gt;</th><th scope=col>&lt;dbl&gt;</th><th scope=col>&lt;dbl&gt;</th><th scope=col>&lt;dbl&gt;</th><th scope=col>&lt;dbl&gt;</th><th scope=col>&lt;dbl&gt;</th><th scope=col>&lt;dbl&gt;</th><th scope=col>&lt;dbl&gt;</th><th scope=col>&lt;dbl&gt;</th></tr>\n",
       "</thead>\n",
       "<tbody>\n",
       "\t<tr><td>63</td><td>1</td><td>1</td><td>145</td><td>233</td><td>1</td><td>2</td><td>150</td><td>0</td><td>2.3</td><td>3</td><td>0</td><td>6</td><td>0</td></tr>\n",
       "\t<tr><td>67</td><td>1</td><td>4</td><td>160</td><td>286</td><td>0</td><td>2</td><td>108</td><td>1</td><td>1.5</td><td>2</td><td>3</td><td>3</td><td>2</td></tr>\n",
       "\t<tr><td>67</td><td>1</td><td>4</td><td>120</td><td>229</td><td>0</td><td>2</td><td>129</td><td>1</td><td>2.6</td><td>2</td><td>2</td><td>7</td><td>1</td></tr>\n",
       "\t<tr><td>37</td><td>1</td><td>3</td><td>130</td><td>250</td><td>0</td><td>0</td><td>187</td><td>0</td><td>3.5</td><td>3</td><td>0</td><td>3</td><td>0</td></tr>\n",
       "\t<tr><td>41</td><td>0</td><td>2</td><td>130</td><td>204</td><td>0</td><td>2</td><td>172</td><td>0</td><td>1.4</td><td>1</td><td>0</td><td>3</td><td>0</td></tr>\n",
       "\t<tr><td>56</td><td>1</td><td>2</td><td>120</td><td>236</td><td>0</td><td>0</td><td>178</td><td>0</td><td>0.8</td><td>1</td><td>0</td><td>3</td><td>0</td></tr>\n",
       "</tbody>\n",
       "</table>\n"
      ],
      "text/latex": [
       "A tibble: 6 × 14\n",
       "\\begin{tabular}{llllllllllllll}\n",
       " X1 & X2 & X3 & X4 & X5 & X6 & X7 & X8 & X9 & X10 & X11 & X12 & X13 & X14\\\\\n",
       " <dbl> & <dbl> & <dbl> & <dbl> & <dbl> & <dbl> & <dbl> & <dbl> & <dbl> & <dbl> & <dbl> & <dbl> & <dbl> & <dbl>\\\\\n",
       "\\hline\n",
       "\t 63 & 1 & 1 & 145 & 233 & 1 & 2 & 150 & 0 & 2.3 & 3 & 0 & 6 & 0\\\\\n",
       "\t 67 & 1 & 4 & 160 & 286 & 0 & 2 & 108 & 1 & 1.5 & 2 & 3 & 3 & 2\\\\\n",
       "\t 67 & 1 & 4 & 120 & 229 & 0 & 2 & 129 & 1 & 2.6 & 2 & 2 & 7 & 1\\\\\n",
       "\t 37 & 1 & 3 & 130 & 250 & 0 & 0 & 187 & 0 & 3.5 & 3 & 0 & 3 & 0\\\\\n",
       "\t 41 & 0 & 2 & 130 & 204 & 0 & 2 & 172 & 0 & 1.4 & 1 & 0 & 3 & 0\\\\\n",
       "\t 56 & 1 & 2 & 120 & 236 & 0 & 0 & 178 & 0 & 0.8 & 1 & 0 & 3 & 0\\\\\n",
       "\\end{tabular}\n"
      ],
      "text/markdown": [
       "\n",
       "A tibble: 6 × 14\n",
       "\n",
       "| X1 &lt;dbl&gt; | X2 &lt;dbl&gt; | X3 &lt;dbl&gt; | X4 &lt;dbl&gt; | X5 &lt;dbl&gt; | X6 &lt;dbl&gt; | X7 &lt;dbl&gt; | X8 &lt;dbl&gt; | X9 &lt;dbl&gt; | X10 &lt;dbl&gt; | X11 &lt;dbl&gt; | X12 &lt;dbl&gt; | X13 &lt;dbl&gt; | X14 &lt;dbl&gt; |\n",
       "|---|---|---|---|---|---|---|---|---|---|---|---|---|---|\n",
       "| 63 | 1 | 1 | 145 | 233 | 1 | 2 | 150 | 0 | 2.3 | 3 | 0 | 6 | 0 |\n",
       "| 67 | 1 | 4 | 160 | 286 | 0 | 2 | 108 | 1 | 1.5 | 2 | 3 | 3 | 2 |\n",
       "| 67 | 1 | 4 | 120 | 229 | 0 | 2 | 129 | 1 | 2.6 | 2 | 2 | 7 | 1 |\n",
       "| 37 | 1 | 3 | 130 | 250 | 0 | 0 | 187 | 0 | 3.5 | 3 | 0 | 3 | 0 |\n",
       "| 41 | 0 | 2 | 130 | 204 | 0 | 2 | 172 | 0 | 1.4 | 1 | 0 | 3 | 0 |\n",
       "| 56 | 1 | 2 | 120 | 236 | 0 | 0 | 178 | 0 | 0.8 | 1 | 0 | 3 | 0 |\n",
       "\n"
      ],
      "text/plain": [
       "  X1 X2 X3 X4  X5  X6 X7 X8  X9 X10 X11 X12 X13 X14\n",
       "1 63 1  1  145 233 1  2  150 0  2.3 3   0   6   0  \n",
       "2 67 1  4  160 286 0  2  108 1  1.5 2   3   3   2  \n",
       "3 67 1  4  120 229 0  2  129 1  2.6 2   2   7   1  \n",
       "4 37 1  3  130 250 0  0  187 0  3.5 3   0   3   0  \n",
       "5 41 0  2  130 204 0  2  172 0  1.4 1   0   3   0  \n",
       "6 56 1  2  120 236 0  0  178 0  0.8 1   0   3   0  "
      ]
     },
     "metadata": {},
     "output_type": "display_data"
    }
   ],
   "source": [
    "#reads in the data table with the 14 attributes\n",
    "heart_data_0 <- read_csv(\"https://archive.ics.uci.edu/ml/machine-learning-databases/heart-disease/processed.cleveland.data\",\n",
    "              col_names = FALSE) %>%\n",
    "              mutate(X12 = as.numeric(X12), X13 = as.numeric(X13))\n",
    "\n",
    "#outputs the first 6 rows of the data frame\n",
    "head(heart_data_0)"
   ]
  },
  {
   "cell_type": "markdown",
   "metadata": {},
   "source": [
    "As these columns are separated by commas, we use `read_csv` to read the file from the web. As well, we notice that columns X12 and X13 are treated as characters, not numbers, so we use the `as.numeric` function to change the data type."
   ]
  },
  {
   "cell_type": "code",
   "execution_count": 17,
   "metadata": {},
   "outputs": [
    {
     "data": {
      "text/html": [
       "<style>\n",
       ".dl-inline {width: auto; margin:0; padding: 0}\n",
       ".dl-inline>dt, .dl-inline>dd {float: none; width: auto; display: inline-block}\n",
       ".dl-inline>dt::after {content: \":\\0020\"; padding-right: .5ex}\n",
       ".dl-inline>dt:not(:first-of-type) {padding-left: .5ex}\n",
       "</style><dl class=dl-inline><dt>0%</dt><dd>94</dd><dt>25%</dt><dd>120</dd><dt>50%</dt><dd>130</dd><dt>75%</dt><dd>140</dd><dt>100%</dt><dd>200</dd></dl>\n"
      ],
      "text/latex": [
       "\\begin{description*}\n",
       "\\item[0\\textbackslash{}\\%] 94\n",
       "\\item[25\\textbackslash{}\\%] 120\n",
       "\\item[50\\textbackslash{}\\%] 130\n",
       "\\item[75\\textbackslash{}\\%] 140\n",
       "\\item[100\\textbackslash{}\\%] 200\n",
       "\\end{description*}\n"
      ],
      "text/markdown": [
       "0%\n",
       ":   9425%\n",
       ":   12050%\n",
       ":   13075%\n",
       ":   140100%\n",
       ":   200\n",
       "\n"
      ],
      "text/plain": [
       "  0%  25%  50%  75% 100% \n",
       "  94  120  130  140  200 "
      ]
     },
     "metadata": {},
     "output_type": "display_data"
    },
    {
     "data": {
      "text/html": [
       "<style>\n",
       ".dl-inline {width: auto; margin:0; padding: 0}\n",
       ".dl-inline>dt, .dl-inline>dd {float: none; width: auto; display: inline-block}\n",
       ".dl-inline>dt::after {content: \":\\0020\"; padding-right: .5ex}\n",
       ".dl-inline>dt:not(:first-of-type) {padding-left: .5ex}\n",
       "</style><dl class=dl-inline><dt>0%</dt><dd>126</dd><dt>25%</dt><dd>211</dd><dt>50%</dt><dd>241</dd><dt>75%</dt><dd>275</dd><dt>100%</dt><dd>564</dd></dl>\n"
      ],
      "text/latex": [
       "\\begin{description*}\n",
       "\\item[0\\textbackslash{}\\%] 126\n",
       "\\item[25\\textbackslash{}\\%] 211\n",
       "\\item[50\\textbackslash{}\\%] 241\n",
       "\\item[75\\textbackslash{}\\%] 275\n",
       "\\item[100\\textbackslash{}\\%] 564\n",
       "\\end{description*}\n"
      ],
      "text/markdown": [
       "0%\n",
       ":   12625%\n",
       ":   21150%\n",
       ":   24175%\n",
       ":   275100%\n",
       ":   564\n",
       "\n"
      ],
      "text/plain": [
       "  0%  25%  50%  75% 100% \n",
       " 126  211  241  275  564 "
      ]
     },
     "metadata": {},
     "output_type": "display_data"
    },
    {
     "data": {
      "text/html": [
       "<table class=\"dataframe\">\n",
       "<caption>A tibble: 6 × 3</caption>\n",
       "<thead>\n",
       "\t<tr><th scope=col>trestbps</th><th scope=col>chol</th><th scope=col>Class</th></tr>\n",
       "\t<tr><th scope=col>&lt;chr&gt;</th><th scope=col>&lt;chr&gt;</th><th scope=col>&lt;chr&gt;</th></tr>\n",
       "</thead>\n",
       "<tbody>\n",
       "\t<tr><td>HIGH</td><td>LOW </td><td>NO </td></tr>\n",
       "\t<tr><td>HIGH</td><td>HIGH</td><td>YES</td></tr>\n",
       "\t<tr><td>LOW </td><td>LOW </td><td>YES</td></tr>\n",
       "\t<tr><td>HIGH</td><td>HIGH</td><td>NO </td></tr>\n",
       "\t<tr><td>HIGH</td><td>LOW </td><td>NO </td></tr>\n",
       "\t<tr><td>LOW </td><td>LOW </td><td>NO </td></tr>\n",
       "</tbody>\n",
       "</table>\n"
      ],
      "text/latex": [
       "A tibble: 6 × 3\n",
       "\\begin{tabular}{lll}\n",
       " trestbps & chol & Class\\\\\n",
       " <chr> & <chr> & <chr>\\\\\n",
       "\\hline\n",
       "\t HIGH & LOW  & NO \\\\\n",
       "\t HIGH & HIGH & YES\\\\\n",
       "\t LOW  & LOW  & YES\\\\\n",
       "\t HIGH & HIGH & NO \\\\\n",
       "\t HIGH & LOW  & NO \\\\\n",
       "\t LOW  & LOW  & NO \\\\\n",
       "\\end{tabular}\n"
      ],
      "text/markdown": [
       "\n",
       "A tibble: 6 × 3\n",
       "\n",
       "| trestbps &lt;chr&gt; | chol &lt;chr&gt; | Class &lt;chr&gt; |\n",
       "|---|---|---|\n",
       "| HIGH | LOW  | NO  |\n",
       "| HIGH | HIGH | YES |\n",
       "| LOW  | LOW  | YES |\n",
       "| HIGH | HIGH | NO  |\n",
       "| HIGH | LOW  | NO  |\n",
       "| LOW  | LOW  | NO  |\n",
       "\n"
      ],
      "text/plain": [
       "  trestbps chol Class\n",
       "1 HIGH     LOW  NO   \n",
       "2 HIGH     HIGH YES  \n",
       "3 LOW      LOW  YES  \n",
       "4 HIGH     HIGH NO   \n",
       "5 HIGH     LOW  NO   \n",
       "6 LOW      LOW  NO   "
      ]
     },
     "metadata": {},
     "output_type": "display_data"
    },
    {
     "data": {
      "text/html": [
       "<table class=\"dataframe\">\n",
       "<caption>A tibble: 6 × 2</caption>\n",
       "<thead>\n",
       "\t<tr><th scope=col>trestbps</th><th scope=col>Class</th></tr>\n",
       "\t<tr><th scope=col>&lt;chr&gt;</th><th scope=col>&lt;chr&gt;</th></tr>\n",
       "</thead>\n",
       "<tbody>\n",
       "\t<tr><td>HIGH</td><td>NO </td></tr>\n",
       "\t<tr><td>HIGH</td><td>YES</td></tr>\n",
       "\t<tr><td>LOW </td><td>YES</td></tr>\n",
       "\t<tr><td>HIGH</td><td>NO </td></tr>\n",
       "\t<tr><td>HIGH</td><td>NO </td></tr>\n",
       "\t<tr><td>LOW </td><td>NO </td></tr>\n",
       "</tbody>\n",
       "</table>\n"
      ],
      "text/latex": [
       "A tibble: 6 × 2\n",
       "\\begin{tabular}{ll}\n",
       " trestbps & Class\\\\\n",
       " <chr> & <chr>\\\\\n",
       "\\hline\n",
       "\t HIGH & NO \\\\\n",
       "\t HIGH & YES\\\\\n",
       "\t LOW  & YES\\\\\n",
       "\t HIGH & NO \\\\\n",
       "\t HIGH & NO \\\\\n",
       "\t LOW  & NO \\\\\n",
       "\\end{tabular}\n"
      ],
      "text/markdown": [
       "\n",
       "A tibble: 6 × 2\n",
       "\n",
       "| trestbps &lt;chr&gt; | Class &lt;chr&gt; |\n",
       "|---|---|\n",
       "| HIGH | NO  |\n",
       "| HIGH | YES |\n",
       "| LOW  | YES |\n",
       "| HIGH | NO  |\n",
       "| HIGH | NO  |\n",
       "| LOW  | NO  |\n",
       "\n"
      ],
      "text/plain": [
       "  trestbps Class\n",
       "1 HIGH     NO   \n",
       "2 HIGH     YES  \n",
       "3 LOW      YES  \n",
       "4 HIGH     NO   \n",
       "5 HIGH     NO   \n",
       "6 LOW      NO   "
      ]
     },
     "metadata": {},
     "output_type": "display_data"
    },
    {
     "data": {
      "text/html": [
       "<table class=\"dataframe\">\n",
       "<caption>A tibble: 6 × 2</caption>\n",
       "<thead>\n",
       "\t<tr><th scope=col>chol</th><th scope=col>Class</th></tr>\n",
       "\t<tr><th scope=col>&lt;chr&gt;</th><th scope=col>&lt;chr&gt;</th></tr>\n",
       "</thead>\n",
       "<tbody>\n",
       "\t<tr><td>LOW </td><td>NO </td></tr>\n",
       "\t<tr><td>HIGH</td><td>YES</td></tr>\n",
       "\t<tr><td>LOW </td><td>YES</td></tr>\n",
       "\t<tr><td>HIGH</td><td>NO </td></tr>\n",
       "\t<tr><td>LOW </td><td>NO </td></tr>\n",
       "\t<tr><td>LOW </td><td>NO </td></tr>\n",
       "</tbody>\n",
       "</table>\n"
      ],
      "text/latex": [
       "A tibble: 6 × 2\n",
       "\\begin{tabular}{ll}\n",
       " chol & Class\\\\\n",
       " <chr> & <chr>\\\\\n",
       "\\hline\n",
       "\t LOW  & NO \\\\\n",
       "\t HIGH & YES\\\\\n",
       "\t LOW  & YES\\\\\n",
       "\t HIGH & NO \\\\\n",
       "\t LOW  & NO \\\\\n",
       "\t LOW  & NO \\\\\n",
       "\\end{tabular}\n"
      ],
      "text/markdown": [
       "\n",
       "A tibble: 6 × 2\n",
       "\n",
       "| chol &lt;chr&gt; | Class &lt;chr&gt; |\n",
       "|---|---|\n",
       "| LOW  | NO  |\n",
       "| HIGH | YES |\n",
       "| LOW  | YES |\n",
       "| HIGH | NO  |\n",
       "| LOW  | NO  |\n",
       "| LOW  | NO  |\n",
       "\n"
      ],
      "text/plain": [
       "  chol Class\n",
       "1 LOW  NO   \n",
       "2 HIGH YES  \n",
       "3 LOW  YES  \n",
       "4 HIGH NO   \n",
       "5 LOW  NO   \n",
       "6 LOW  NO   "
      ]
     },
     "metadata": {},
     "output_type": "display_data"
    }
   ],
   "source": [
    "#renames the columns\n",
    "colnames(heart_data_0) <- c(\"age\", \"sex\", \"cp\", \"trestbps\", \"chol\", \"fbs\", \"restecg\", \"thalach\", \"exang\", \"oldpeak\",\n",
    "                          \"slope\", \"ca\", \"thal\", \"Class\")\n",
    "\n",
    "#selects the 2 attributes that will be used as well as the class\n",
    "heart_data_1 <- heart_data_0%>%\n",
    "select(trestbps, chol,  Class)\n",
    "quantile(heart_data_1$trestbps)\n",
    "quantile(heart_data_1$chol)\n",
    "#We identify patients with trestbps data higher than 130(50th percentile) as having high resting blood pressure and indicate \n",
    "#this result with \"HIGH\" (and vice versa with \"NORMAL\"), \n",
    "#while changing the data type from numeric to factor\n",
    "\n",
    "\n",
    "#########Due to the unknown problem 94 cannot be assigned to the correct category, \n",
    "#########here we discard the two data for trestbps = 94\n",
    "heart_data_2 <- heart_data_1 %>% \n",
    "mutate(trestbps = replace(trestbps, trestbps >= 130, \"HIGH\"),\n",
    "      trestbps = replace(trestbps, trestbps < 130, \"LOW\"))%>%\n",
    "filter(trestbps != 94)\n",
    "\n",
    "#We identify patients with chol data higher than 241(50th percentile) as having high serum cholestoral and indicate \n",
    "#this result with \"HIGH\" (and vice versa with \"NORMAL\"), \n",
    "#while changing the data type from numeric to factor\n",
    "\n",
    "heart_data_3 <- heart_data_2 %>%\n",
    "mutate(chol = replace(chol, chol > 241, \"HIGH\"),\n",
    "      chol = replace(chol, chol <= 241, \"LOW\"))\n",
    "\n",
    "#We identified patients with class data higher than 0 as having heart disease and indicated this result \n",
    "#with \"YES\" (and vice versa with \"NO\"). Also change the data type from number to factor\n",
    "heart_data <- heart_data_3 %>%\n",
    "mutate(Class = replace(Class, Class > 0, \"YES\"),\n",
    "      Class = replace(Class, Class <= 0, \"NO\"))\n",
    "\n",
    "\n",
    "#Split heart_data into two data frames\n",
    "heart_data_trestbps <- heart_data%>%\n",
    "select(\"trestbps\",\"Class\")\n",
    "\n",
    "heart_data_chol <- heart_data%>%\n",
    "select(\"chol\",\"Class\")\n",
    "#outputs the first 6 rows of the data frame and heart_data is the data frame we will eventually use\n",
    "head(heart_data)\n",
    "head(heart_data_trestbps)\n",
    "head(heart_data_chol)"
   ]
  },
  {
   "cell_type": "markdown",
   "metadata": {},
   "source": [
    "Through the process above, we have converted the data frame into the format we need, which includes all the \n",
    "information in the data box about whether the patient has high resting blood pressure or not, whether \n",
    "the patient has high cholesterol or not and whether the patient has heart disease or not."
   ]
  },
  {
   "cell_type": "markdown",
   "metadata": {},
   "source": [
    "## Visualizing the Data"
   ]
  },
  {
   "cell_type": "markdown",
   "metadata": {},
   "source": [
    "In the first diagram, We use whether the patient has high resting blood pressure as the X-axis variable, and mark whether the patient has heart disease with red and blue, red means the patient does not have high blood pressure, and vice versa.In the second diagram, We use whether the patient has high serum cholestoral as the X-axis variable, and mark whether the patient has heart disease with red and blue."
   ]
  },
  {
   "cell_type": "code",
   "execution_count": 6,
   "metadata": {},
   "outputs": [
    {
     "data": {
      "image/png": "[encoded data removed]",
      "text/plain": [
       "plot without title"
      ]
     },
     "metadata": {
      "image/png": {
       "height": 420,
       "width": 420
      }
     },
     "output_type": "display_data"
    },
    {
     "data": {
      "image/png": "[encoded data removed]",
      "text/plain": [
       "plot without title"
      ]
     },
     "metadata": {
      "image/png": {
       "height": 420,
       "width": 420
      }
     },
     "output_type": "display_data"
    }
   ],
   "source": [
    "ggplot(heart_data, \n",
    "       aes(x = trestbps, fill = Class)) +\n",
    "  geom_bar() + \n",
    "  labs(x = \"Resting blood pressure of patients\")\n",
    "\n",
    "ggplot(heart_data, \n",
    "       aes(x = chol, fill = Class)) +\n",
    "  geom_bar() + \n",
    "  labs(x = \"Serum cholestoral\")"
   ]
  },
  {
   "cell_type": "markdown",
   "metadata": {},
   "source": [
    "## Compute estimates of the parameter"
   ]
  },
  {
   "cell_type": "markdown",
   "metadata": {},
   "source": [
    "Below, we have created three data frame and two tables to summarize the data.The first data frame shows the proportion of the four combinations of low or high resting blood pressure and presence or absence of heart disease. The second data frame shows the proportion of the four combinations of the low or high cholesterol and the presence or absence of heart disease.The third and fourth table tells us the percentage of patients with high or low resting blood pressure and the percentage of patients with high or low cholesterol who have heart disease.The last data frame shows the estimates after taking 1000 replicates of \"shuffles\" and assuming the null hypothesis is true"
   ]
  },
  {
   "cell_type": "code",
   "execution_count": 27,
   "metadata": {},
   "outputs": [
    {
     "data": {
      "text/html": [
       "<table class=\"dataframe\">\n",
       "<caption>A grouped_df: 4 × 4</caption>\n",
       "<thead>\n",
       "\t<tr><th scope=col>trestbps</th><th scope=col>Class</th><th scope=col>n</th><th scope=col>p</th></tr>\n",
       "\t<tr><th scope=col>&lt;chr&gt;</th><th scope=col>&lt;chr&gt;</th><th scope=col>&lt;int&gt;</th><th scope=col>&lt;dbl&gt;</th></tr>\n",
       "</thead>\n",
       "<tbody>\n",
       "\t<tr><td>HIGH</td><td>NO </td><td>87</td><td>0.2890365</td></tr>\n",
       "\t<tr><td>HIGH</td><td>YES</td><td>81</td><td>0.2691030</td></tr>\n",
       "\t<tr><td>LOW </td><td>NO </td><td>75</td><td>0.2491694</td></tr>\n",
       "\t<tr><td>LOW </td><td>YES</td><td>58</td><td>0.1926910</td></tr>\n",
       "</tbody>\n",
       "</table>\n"
      ],
      "text/latex": [
       "A grouped\\_df: 4 × 4\n",
       "\\begin{tabular}{llll}\n",
       " trestbps & Class & n & p\\\\\n",
       " <chr> & <chr> & <int> & <dbl>\\\\\n",
       "\\hline\n",
       "\t HIGH & NO  & 87 & 0.2890365\\\\\n",
       "\t HIGH & YES & 81 & 0.2691030\\\\\n",
       "\t LOW  & NO  & 75 & 0.2491694\\\\\n",
       "\t LOW  & YES & 58 & 0.1926910\\\\\n",
       "\\end{tabular}\n"
      ],
      "text/markdown": [
       "\n",
       "A grouped_df: 4 × 4\n",
       "\n",
       "| trestbps &lt;chr&gt; | Class &lt;chr&gt; | n &lt;int&gt; | p &lt;dbl&gt; |\n",
       "|---|---|---|---|\n",
       "| HIGH | NO  | 87 | 0.2890365 |\n",
       "| HIGH | YES | 81 | 0.2691030 |\n",
       "| LOW  | NO  | 75 | 0.2491694 |\n",
       "| LOW  | YES | 58 | 0.1926910 |\n",
       "\n"
      ],
      "text/plain": [
       "  trestbps Class n  p        \n",
       "1 HIGH     NO    87 0.2890365\n",
       "2 HIGH     YES   81 0.2691030\n",
       "3 LOW      NO    75 0.2491694\n",
       "4 LOW      YES   58 0.1926910"
      ]
     },
     "metadata": {},
     "output_type": "display_data"
    },
    {
     "data": {
      "text/html": [
       "<table class=\"dataframe\">\n",
       "<caption>A grouped_df: 4 × 4</caption>\n",
       "<thead>\n",
       "\t<tr><th scope=col>chol</th><th scope=col>Class</th><th scope=col>n</th><th scope=col>p</th></tr>\n",
       "\t<tr><th scope=col>&lt;chr&gt;</th><th scope=col>&lt;chr&gt;</th><th scope=col>&lt;int&gt;</th><th scope=col>&lt;dbl&gt;</th></tr>\n",
       "</thead>\n",
       "<tbody>\n",
       "\t<tr><td>HIGH</td><td>NO </td><td>72</td><td>0.2392027</td></tr>\n",
       "\t<tr><td>HIGH</td><td>YES</td><td>79</td><td>0.2624585</td></tr>\n",
       "\t<tr><td>LOW </td><td>NO </td><td>90</td><td>0.2990033</td></tr>\n",
       "\t<tr><td>LOW </td><td>YES</td><td>60</td><td>0.1993355</td></tr>\n",
       "</tbody>\n",
       "</table>\n"
      ],
      "text/latex": [
       "A grouped\\_df: 4 × 4\n",
       "\\begin{tabular}{llll}\n",
       " chol & Class & n & p\\\\\n",
       " <chr> & <chr> & <int> & <dbl>\\\\\n",
       "\\hline\n",
       "\t HIGH & NO  & 72 & 0.2392027\\\\\n",
       "\t HIGH & YES & 79 & 0.2624585\\\\\n",
       "\t LOW  & NO  & 90 & 0.2990033\\\\\n",
       "\t LOW  & YES & 60 & 0.1993355\\\\\n",
       "\\end{tabular}\n"
      ],
      "text/markdown": [
       "\n",
       "A grouped_df: 4 × 4\n",
       "\n",
       "| chol &lt;chr&gt; | Class &lt;chr&gt; | n &lt;int&gt; | p &lt;dbl&gt; |\n",
       "|---|---|---|---|\n",
       "| HIGH | NO  | 72 | 0.2392027 |\n",
       "| HIGH | YES | 79 | 0.2624585 |\n",
       "| LOW  | NO  | 90 | 0.2990033 |\n",
       "| LOW  | YES | 60 | 0.1993355 |\n",
       "\n"
      ],
      "text/plain": [
       "  chol Class n  p        \n",
       "1 HIGH NO    72 0.2392027\n",
       "2 HIGH YES   79 0.2624585\n",
       "3 LOW  NO    90 0.2990033\n",
       "4 LOW  YES   60 0.1993355"
      ]
     },
     "metadata": {},
     "output_type": "display_data"
    },
    {
     "name": "stdout",
     "output_type": "stream",
     "text": [
      "  Trestbps Class         P\n",
      "1     HIGH   YES 0.4821429\n",
      "2      LOW   YES 0.4360902\n",
      "  Trestbps Class         P\n",
      "1     HIGH   YES 0.5231788\n",
      "2      LOW   YES 0.4000000\n"
     ]
    },
    {
     "data": {
      "text/html": [
       "<table class=\"dataframe\">\n",
       "<caption>A tibble: 6 × 2</caption>\n",
       "<thead>\n",
       "\t<tr><th scope=col>replicate</th><th scope=col>stat</th></tr>\n",
       "\t<tr><th scope=col>&lt;int&gt;</th><th scope=col>&lt;dbl&gt;</th></tr>\n",
       "</thead>\n",
       "<tbody>\n",
       "\t<tr><td>1</td><td> 0.08646617</td></tr>\n",
       "\t<tr><td>2</td><td> 0.01911028</td></tr>\n",
       "\t<tr><td>3</td><td> 0.03258145</td></tr>\n",
       "\t<tr><td>4</td><td>-0.02130326</td></tr>\n",
       "\t<tr><td>5</td><td>-0.02130326</td></tr>\n",
       "\t<tr><td>6</td><td> 0.01911028</td></tr>\n",
       "</tbody>\n",
       "</table>\n"
      ],
      "text/latex": [
       "A tibble: 6 × 2\n",
       "\\begin{tabular}{ll}\n",
       " replicate & stat\\\\\n",
       " <int> & <dbl>\\\\\n",
       "\\hline\n",
       "\t 1 &  0.08646617\\\\\n",
       "\t 2 &  0.01911028\\\\\n",
       "\t 3 &  0.03258145\\\\\n",
       "\t 4 & -0.02130326\\\\\n",
       "\t 5 & -0.02130326\\\\\n",
       "\t 6 &  0.01911028\\\\\n",
       "\\end{tabular}\n"
      ],
      "text/markdown": [
       "\n",
       "A tibble: 6 × 2\n",
       "\n",
       "| replicate &lt;int&gt; | stat &lt;dbl&gt; |\n",
       "|---|---|\n",
       "| 1 |  0.08646617 |\n",
       "| 2 |  0.01911028 |\n",
       "| 3 |  0.03258145 |\n",
       "| 4 | -0.02130326 |\n",
       "| 5 | -0.02130326 |\n",
       "| 6 |  0.01911028 |\n",
       "\n"
      ],
      "text/plain": [
       "  replicate stat       \n",
       "1 1          0.08646617\n",
       "2 2          0.01911028\n",
       "3 3          0.03258145\n",
       "4 4         -0.02130326\n",
       "5 5         -0.02130326\n",
       "6 6          0.01911028"
      ]
     },
     "metadata": {},
     "output_type": "display_data"
    }
   ],
   "source": [
    "#Generate the percentage of two variables under a four-column combination\n",
    "heart_data_n <- heart_data %>%\n",
    "                      tally()%>%\n",
    "pull()\n",
    "\n",
    "heart_data_prop_trestbps_0 <- \n",
    "    heart_data %>% \n",
    "    group_by(trestbps, Class)%>%\n",
    "    count() %>% \n",
    "    mutate(p = n/heart_data_n)\n",
    "\n",
    "heart_data_prop_chol_0 <- \n",
    "    heart_data %>% \n",
    "    group_by(chol, Class)%>%\n",
    "    count() %>% \n",
    "    mutate(p = n/heart_data_n)\n",
    "\n",
    "heart_data_prop_trestbps_0\n",
    "heart_data_prop_chol_0\n",
    "\n",
    "#Generate the proportion of patients with heart disease with or without high resting blood pressure\n",
    "Trestbps <- c(\"HIGH\",\"LOW\")\n",
    "Class <- c(\"YES\",\"YES\")\n",
    "P <- c(81/(87+81),58/(75+58))\n",
    "heart_data_prop_trestbps_1 <- data.frame(Trestbps,Class,P)\n",
    "print(heart_data_prop_trestbps_1)\n",
    "#Generate the proportion of patients with heart disease with or without high cholesterol\n",
    "Chol <- c(\"HIGH\",\"LOW\")\n",
    "P <- c(79/(79+72),60/(60+90))\n",
    "heart_data_prop_chol_1 <- data.frame(Trestbps,Class,P)\n",
    "print(heart_data_prop_chol_1)\n",
    "\n",
    "\n",
    "#Generate estimates\n",
    "null_distribution <- heart_data %>% \n",
    "  specify(formula = Class ~ trestbps, success = \"YES\") %>% \n",
    "  hypothesize(null = \"independence\") %>% \n",
    "  generate(reps = 1000, type = \"permute\") %>% \n",
    "  calculate(stat = \"diff in props\", order = c(\"HIGH\", \"LOW\"))\n",
    "\n",
    "head(null_distribution)"
   ]
  },
  {
   "cell_type": "markdown",
   "metadata": {},
   "source": [
    "The differences in the proportion of having heart disease between LOW and HIGH, as reflected in the third and fourth tables, suggest that it would be possible to find out whether high or low resting blood pressure and high or low cholesterol make patients more likely to have heart disease."
   ]
  },
  {
   "cell_type": "markdown",
   "metadata": {},
   "source": [
    "## Methods"
   ]
  },
  {
   "cell_type": "markdown",
   "metadata": {},
   "source": [
    "Given the number of observations in the dataset, we make sure that we have a sample that’s large enough. Also, our analysis process will strictly follow statistical rules and use scientific tools so that our result is unbiased and representative of the population.\n",
    "\n",
    "The plots are not enough to give a stakeholder because the plots are generated using only a single sample. In other words, although we could obtain a point estimate from the sample, we cannot compute the sampling variation that quantifies the uncertainty about the point estimate. As a result, we cannot be confident enough that our point estimate from the single sample is close to the population parameter.\n",
    "\n",
    "\n",
    "In order to address this gap, we will generate bootstrap samples based on our original sample, which is our dataset. Next, we will use the infer package in R to compute the sampling distribution of sample proportions. Furthermore, we will conduct a hypothesis test with null hypothesis… with a confidence interval level at 5%.\n",
    "\n",
    "We expect to find that people with low blood pressure and low cholesterol level would have a lower chance of developing heart disease. Our findings could help raise awareness of the importance of keeping a healthy routine that keeps our blood pressure and cholesterol at a healthy level. Also, since our finding only studies the correlations of the explanatory and response variables, it would be worthy to find out the cause of heart diseases.\n"
   ]
  },
  {
   "cell_type": "markdown",
   "metadata": {},
   "source": [
    "Although the distinction among the three classes is not very clear in the example plot above, the distinction between class 0 (no presence of heart disease) and 3/4 (presence of heart disease) is quite clear. By just comparing the two predictors used in the example, it would be a reasonable to predict that a person with low blood pressure (under 120mmHg) and a high max heart rate (over 150 BPM) will likely have some form of heart disease."
   ]
  },
  {
   "cell_type": "markdown",
   "metadata": {},
   "source": [
    "### Reference"
   ]
  },
  {
   "cell_type": "markdown",
   "metadata": {},
   "source": [
    "[1] World Health Organization. (n.d.). Cardiovascular diseases. World Health Organization. Retrieved July 26, 2022, from https://www.who.int/health-topics/cardiovascular-diseases </br>\n",
    "[2] Centers for Disease Control and Prevention. (2020, April 21). Prevent heart disease. Centers for Disease Control and Prevention. Retrieved July 26, 2022, from https://www.cdc.gov/heartdisease/prevention.htm "
   ]
  },
  {
   "cell_type": "code",
   "execution_count": null,
   "metadata": {},
   "outputs": [],
   "source": []
  }
 ],
 "metadata": {
  "kernelspec": {
   "display_name": "R",
   "language": "R",
   "name": "ir"
  },
  "language_info": {
   "codemirror_mode": "r",
   "file_extension": ".r",
   "mimetype": "text/x-r-source",
   "name": "R",
   "pygments_lexer": "r",
   "version": "4.0.5"
  }
 },
 "nbformat": 4,
 "nbformat_minor": 4
}
