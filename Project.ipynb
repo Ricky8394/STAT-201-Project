{
 "cells": [
  {
   "cell_type": "markdown",
   "metadata": {
    "tags": []
   },
   "source": [
    " # Finding the Effect of Controlling Blood Pressure and Cholesterol on Preventing Heart Disease\n",
    " \n",
    " \n",
    " #### By Chris Jung, Grace Wang, Haonan Su\n",
    " \n",
    " ## Introduction\n",
    " ### Background\n",
    "***Heart disease*** is the leading cause of death for men, women, and people of most racial and ethnic groups in most of the countries in the world, even in the countries with developed medical technology such as the United States. About 659,000 people in the US die from heart disease each year, which accounts for 1 in every 4 deaths.(WHO, 2022).\n",
    "The US CDC(Centers for Disease Control and Prevention) suggests maintaining low blood pressure and cholesterol to lower the risk of heart disease (CDC, 2020).\n",
    "\n",
    "### Project Question\n",
    "\n",
    "##### Do people with low blood pressure/cholesterol level have lower chance of developing heart disease?\n",
    "\n",
    "\n",
    "### Data\n",
    "- The dataset is an actual medical records from the Cleveland Clinic Foundation stored in the [UCI Machine Learning Repository](https://archive.ics.uci.edu/ml/datasets/Heart+Disease).\n",
    "- Each observation contains 14 attributes of **a person's medical information** including the presence of heart disease.\n",
    "- The response variable is the attribute \"Class\".\n",
    "- The explanatory variables are the attribute \"trestpbs\"(blood pressure), and \"chol\"(cholesterol).\n",
    "- The detailed descriptions of the response variable and the two explanatory variables are:\n",
    "    1. *class*: presence of heart disease. integer valued from 0 (no presence) to 4\n",
    "    2. trestbps: resting blood pressure (in mm Hg on admission to the hospital)\n",
    "    3. chol: serum cholestoral in mg/dl\n",
    "    "
   ]
  },
  {
   "cell_type": "code",
   "execution_count": 1,
   "metadata": {},
   "outputs": [
    {
     "name": "stderr",
     "output_type": "stream",
     "text": [
      "── \u001b[1mAttaching packages\u001b[22m ─────────────────────────────────────── tidyverse 1.3.0 ──\n",
      "\n",
      "\u001b[32m✔\u001b[39m \u001b[34mggplot2\u001b[39m 3.3.6     \u001b[32m✔\u001b[39m \u001b[34mpurrr  \u001b[39m 0.3.4\n",
      "\u001b[32m✔\u001b[39m \u001b[34mtibble \u001b[39m 3.1.7     \u001b[32m✔\u001b[39m \u001b[34mdplyr  \u001b[39m 1.0.9\n",
      "\u001b[32m✔\u001b[39m \u001b[34mtidyr  \u001b[39m 1.2.0     \u001b[32m✔\u001b[39m \u001b[34mstringr\u001b[39m 1.4.0\n",
      "\u001b[32m✔\u001b[39m \u001b[34mreadr  \u001b[39m 2.1.2     \u001b[32m✔\u001b[39m \u001b[34mforcats\u001b[39m 0.5.1\n",
      "\n",
      "── \u001b[1mConflicts\u001b[22m ────────────────────────────────────────── tidyverse_conflicts() ──\n",
      "\u001b[31m✖\u001b[39m \u001b[34mdplyr\u001b[39m::\u001b[32mfilter()\u001b[39m masks \u001b[34mstats\u001b[39m::filter()\n",
      "\u001b[31m✖\u001b[39m \u001b[34mdplyr\u001b[39m::\u001b[32mlag()\u001b[39m    masks \u001b[34mstats\u001b[39m::lag()\n",
      "\n"
     ]
    }
   ],
   "source": [
    "#loads the libraries\n",
    "library(cowplot)\n",
    "library(datateachr)\n",
    "library(digest)\n",
    "library(infer)\n",
    "library(repr)\n",
    "library(taxyvr)\n",
    "library(tidyverse)\n",
    "library(broom)\n",
    "\n",
    "\n",
    "#sets the seed for random events such as splitting the data\n",
    "set.seed(1)"
   ]
  },
  {
   "cell_type": "markdown",
   "metadata": {},
   "source": [
    "### Reading and Wrangling the Data"
   ]
  },
  {
   "cell_type": "code",
   "execution_count": 2,
   "metadata": {},
   "outputs": [
    {
     "name": "stderr",
     "output_type": "stream",
     "text": [
      "\u001b[1mRows: \u001b[22m\u001b[34m303\u001b[39m \u001b[1mColumns: \u001b[22m\u001b[34m14\u001b[39m\n",
      "\u001b[36m──\u001b[39m \u001b[1mColumn specification\u001b[22m \u001b[36m────────────────────────────────────────────────────────\u001b[39m\n",
      "\u001b[1mDelimiter:\u001b[22m \",\"\n",
      "\u001b[31mchr\u001b[39m  (2): X12, X13\n",
      "\u001b[32mdbl\u001b[39m (12): X1, X2, X3, X4, X5, X6, X7, X8, X9, X10, X11, X14\n",
      "\n",
      "\u001b[36mℹ\u001b[39m Use `spec()` to retrieve the full column specification for this data.\n",
      "\u001b[36mℹ\u001b[39m Specify the column types or set `show_col_types = FALSE` to quiet this message.\n",
      "Warning message in mask$eval_all_mutate(quo):\n",
      "“NAs introduced by coercion”\n",
      "Warning message in mask$eval_all_mutate(quo):\n",
      "“NAs introduced by coercion”\n"
     ]
    },
    {
     "data": {
      "text/html": [
       "<table class=\"dataframe\">\n",
       "<caption>A tibble: 6 × 14</caption>\n",
       "<thead>\n",
       "\t<tr><th scope=col>X1</th><th scope=col>X2</th><th scope=col>X3</th><th scope=col>X4</th><th scope=col>X5</th><th scope=col>X6</th><th scope=col>X7</th><th scope=col>X8</th><th scope=col>X9</th><th scope=col>X10</th><th scope=col>X11</th><th scope=col>X12</th><th scope=col>X13</th><th scope=col>X14</th></tr>\n",
       "\t<tr><th scope=col>&lt;dbl&gt;</th><th scope=col>&lt;dbl&gt;</th><th scope=col>&lt;dbl&gt;</th><th scope=col>&lt;dbl&gt;</th><th scope=col>&lt;dbl&gt;</th><th scope=col>&lt;dbl&gt;</th><th scope=col>&lt;dbl&gt;</th><th scope=col>&lt;dbl&gt;</th><th scope=col>&lt;dbl&gt;</th><th scope=col>&lt;dbl&gt;</th><th scope=col>&lt;dbl&gt;</th><th scope=col>&lt;dbl&gt;</th><th scope=col>&lt;dbl&gt;</th><th scope=col>&lt;dbl&gt;</th></tr>\n",
       "</thead>\n",
       "<tbody>\n",
       "\t<tr><td>63</td><td>1</td><td>1</td><td>145</td><td>233</td><td>1</td><td>2</td><td>150</td><td>0</td><td>2.3</td><td>3</td><td>0</td><td>6</td><td>0</td></tr>\n",
       "\t<tr><td>67</td><td>1</td><td>4</td><td>160</td><td>286</td><td>0</td><td>2</td><td>108</td><td>1</td><td>1.5</td><td>2</td><td>3</td><td>3</td><td>2</td></tr>\n",
       "\t<tr><td>67</td><td>1</td><td>4</td><td>120</td><td>229</td><td>0</td><td>2</td><td>129</td><td>1</td><td>2.6</td><td>2</td><td>2</td><td>7</td><td>1</td></tr>\n",
       "\t<tr><td>37</td><td>1</td><td>3</td><td>130</td><td>250</td><td>0</td><td>0</td><td>187</td><td>0</td><td>3.5</td><td>3</td><td>0</td><td>3</td><td>0</td></tr>\n",
       "\t<tr><td>41</td><td>0</td><td>2</td><td>130</td><td>204</td><td>0</td><td>2</td><td>172</td><td>0</td><td>1.4</td><td>1</td><td>0</td><td>3</td><td>0</td></tr>\n",
       "\t<tr><td>56</td><td>1</td><td>2</td><td>120</td><td>236</td><td>0</td><td>0</td><td>178</td><td>0</td><td>0.8</td><td>1</td><td>0</td><td>3</td><td>0</td></tr>\n",
       "</tbody>\n",
       "</table>\n"
      ],
      "text/latex": [
       "A tibble: 6 × 14\n",
       "\\begin{tabular}{llllllllllllll}\n",
       " X1 & X2 & X3 & X4 & X5 & X6 & X7 & X8 & X9 & X10 & X11 & X12 & X13 & X14\\\\\n",
       " <dbl> & <dbl> & <dbl> & <dbl> & <dbl> & <dbl> & <dbl> & <dbl> & <dbl> & <dbl> & <dbl> & <dbl> & <dbl> & <dbl>\\\\\n",
       "\\hline\n",
       "\t 63 & 1 & 1 & 145 & 233 & 1 & 2 & 150 & 0 & 2.3 & 3 & 0 & 6 & 0\\\\\n",
       "\t 67 & 1 & 4 & 160 & 286 & 0 & 2 & 108 & 1 & 1.5 & 2 & 3 & 3 & 2\\\\\n",
       "\t 67 & 1 & 4 & 120 & 229 & 0 & 2 & 129 & 1 & 2.6 & 2 & 2 & 7 & 1\\\\\n",
       "\t 37 & 1 & 3 & 130 & 250 & 0 & 0 & 187 & 0 & 3.5 & 3 & 0 & 3 & 0\\\\\n",
       "\t 41 & 0 & 2 & 130 & 204 & 0 & 2 & 172 & 0 & 1.4 & 1 & 0 & 3 & 0\\\\\n",
       "\t 56 & 1 & 2 & 120 & 236 & 0 & 0 & 178 & 0 & 0.8 & 1 & 0 & 3 & 0\\\\\n",
       "\\end{tabular}\n"
      ],
      "text/markdown": [
       "\n",
       "A tibble: 6 × 14\n",
       "\n",
       "| X1 &lt;dbl&gt; | X2 &lt;dbl&gt; | X3 &lt;dbl&gt; | X4 &lt;dbl&gt; | X5 &lt;dbl&gt; | X6 &lt;dbl&gt; | X7 &lt;dbl&gt; | X8 &lt;dbl&gt; | X9 &lt;dbl&gt; | X10 &lt;dbl&gt; | X11 &lt;dbl&gt; | X12 &lt;dbl&gt; | X13 &lt;dbl&gt; | X14 &lt;dbl&gt; |\n",
       "|---|---|---|---|---|---|---|---|---|---|---|---|---|---|\n",
       "| 63 | 1 | 1 | 145 | 233 | 1 | 2 | 150 | 0 | 2.3 | 3 | 0 | 6 | 0 |\n",
       "| 67 | 1 | 4 | 160 | 286 | 0 | 2 | 108 | 1 | 1.5 | 2 | 3 | 3 | 2 |\n",
       "| 67 | 1 | 4 | 120 | 229 | 0 | 2 | 129 | 1 | 2.6 | 2 | 2 | 7 | 1 |\n",
       "| 37 | 1 | 3 | 130 | 250 | 0 | 0 | 187 | 0 | 3.5 | 3 | 0 | 3 | 0 |\n",
       "| 41 | 0 | 2 | 130 | 204 | 0 | 2 | 172 | 0 | 1.4 | 1 | 0 | 3 | 0 |\n",
       "| 56 | 1 | 2 | 120 | 236 | 0 | 0 | 178 | 0 | 0.8 | 1 | 0 | 3 | 0 |\n",
       "\n"
      ],
      "text/plain": [
       "  X1 X2 X3 X4  X5  X6 X7 X8  X9 X10 X11 X12 X13 X14\n",
       "1 63 1  1  145 233 1  2  150 0  2.3 3   0   6   0  \n",
       "2 67 1  4  160 286 0  2  108 1  1.5 2   3   3   2  \n",
       "3 67 1  4  120 229 0  2  129 1  2.6 2   2   7   1  \n",
       "4 37 1  3  130 250 0  0  187 0  3.5 3   0   3   0  \n",
       "5 41 0  2  130 204 0  2  172 0  1.4 1   0   3   0  \n",
       "6 56 1  2  120 236 0  0  178 0  0.8 1   0   3   0  "
      ]
     },
     "metadata": {},
     "output_type": "display_data"
    }
   ],
   "source": [
    "#reads in the data table with the 14 attributes\n",
    "heart_data_untidy <- read_csv(\"https://archive.ics.uci.edu/ml/machine-learning-databases/heart-disease/processed.cleveland.data\",\n",
    "              col_names = FALSE) %>%\n",
    "              mutate(X12 = as.numeric(X12), X13 = as.numeric(X13))\n",
    "\n",
    "#outputs the first 6 rows of the data frame\n",
    "head(heart_data_untidy)"
   ]
  },
  {
   "cell_type": "code",
   "execution_count": 3,
   "metadata": {},
   "outputs": [
    {
     "data": {
      "text/html": [
       "<table class=\"dataframe\">\n",
       "<caption>A tibble: 6 × 3</caption>\n",
       "<thead>\n",
       "\t<tr><th scope=col>trestbps</th><th scope=col>chol</th><th scope=col>Class</th></tr>\n",
       "\t<tr><th scope=col>&lt;dbl&gt;</th><th scope=col>&lt;dbl&gt;</th><th scope=col>&lt;dbl&gt;</th></tr>\n",
       "</thead>\n",
       "<tbody>\n",
       "\t<tr><td>145</td><td>233</td><td>0</td></tr>\n",
       "\t<tr><td>160</td><td>286</td><td>2</td></tr>\n",
       "\t<tr><td>120</td><td>229</td><td>1</td></tr>\n",
       "\t<tr><td>130</td><td>250</td><td>0</td></tr>\n",
       "\t<tr><td>130</td><td>204</td><td>0</td></tr>\n",
       "\t<tr><td>120</td><td>236</td><td>0</td></tr>\n",
       "</tbody>\n",
       "</table>\n"
      ],
      "text/latex": [
       "A tibble: 6 × 3\n",
       "\\begin{tabular}{lll}\n",
       " trestbps & chol & Class\\\\\n",
       " <dbl> & <dbl> & <dbl>\\\\\n",
       "\\hline\n",
       "\t 145 & 233 & 0\\\\\n",
       "\t 160 & 286 & 2\\\\\n",
       "\t 120 & 229 & 1\\\\\n",
       "\t 130 & 250 & 0\\\\\n",
       "\t 130 & 204 & 0\\\\\n",
       "\t 120 & 236 & 0\\\\\n",
       "\\end{tabular}\n"
      ],
      "text/markdown": [
       "\n",
       "A tibble: 6 × 3\n",
       "\n",
       "| trestbps &lt;dbl&gt; | chol &lt;dbl&gt; | Class &lt;dbl&gt; |\n",
       "|---|---|---|\n",
       "| 145 | 233 | 0 |\n",
       "| 160 | 286 | 2 |\n",
       "| 120 | 229 | 1 |\n",
       "| 130 | 250 | 0 |\n",
       "| 130 | 204 | 0 |\n",
       "| 120 | 236 | 0 |\n",
       "\n"
      ],
      "text/plain": [
       "  trestbps chol Class\n",
       "1 145      233  0    \n",
       "2 160      286  2    \n",
       "3 120      229  1    \n",
       "4 130      250  0    \n",
       "5 130      204  0    \n",
       "6 120      236  0    "
      ]
     },
     "metadata": {},
     "output_type": "display_data"
    }
   ],
   "source": [
    "colnames(heart_data_untidy) <- c(\"age\", \"sex\", \"cp\", \"trestbps\", \"chol\", \"fbs\", \"restecg\", \"thalach\", \"exang\", \"oldpeak\",\n",
    "                          \"slope\", \"ca\", \"thal\", \"Class\")\n",
    "\n",
    "#selects the 3 attributes that will be used as explanatory variable(trestbps, and chol) and response variable(Class) \n",
    "heart_data_selected <- heart_data_untidy%>%\n",
    "select(trestbps, chol,  Class)\n",
    "head(heart_data_selected)\n"
   ]
  },
  {
   "cell_type": "code",
   "execution_count": 4,
   "metadata": {},
   "outputs": [
    {
     "data": {
      "text/html": [
       "<table class=\"dataframe\">\n",
       "<caption>A tibble: 6 × 3</caption>\n",
       "<thead>\n",
       "\t<tr><th scope=col>trestbps</th><th scope=col>chol</th><th scope=col>Heart_Disease</th></tr>\n",
       "\t<tr><th scope=col>&lt;chr&gt;</th><th scope=col>&lt;chr&gt;</th><th scope=col>&lt;chr&gt;</th></tr>\n",
       "</thead>\n",
       "<tbody>\n",
       "\t<tr><td>HIGH</td><td>LOW </td><td>NO </td></tr>\n",
       "\t<tr><td>HIGH</td><td>HIGH</td><td>YES</td></tr>\n",
       "\t<tr><td>LOW </td><td>LOW </td><td>YES</td></tr>\n",
       "\t<tr><td>HIGH</td><td>HIGH</td><td>NO </td></tr>\n",
       "\t<tr><td>HIGH</td><td>LOW </td><td>NO </td></tr>\n",
       "\t<tr><td>LOW </td><td>LOW </td><td>NO </td></tr>\n",
       "</tbody>\n",
       "</table>\n"
      ],
      "text/latex": [
       "A tibble: 6 × 3\n",
       "\\begin{tabular}{lll}\n",
       " trestbps & chol & Heart\\_Disease\\\\\n",
       " <chr> & <chr> & <chr>\\\\\n",
       "\\hline\n",
       "\t HIGH & LOW  & NO \\\\\n",
       "\t HIGH & HIGH & YES\\\\\n",
       "\t LOW  & LOW  & YES\\\\\n",
       "\t HIGH & HIGH & NO \\\\\n",
       "\t HIGH & LOW  & NO \\\\\n",
       "\t LOW  & LOW  & NO \\\\\n",
       "\\end{tabular}\n"
      ],
      "text/markdown": [
       "\n",
       "A tibble: 6 × 3\n",
       "\n",
       "| trestbps &lt;chr&gt; | chol &lt;chr&gt; | Heart_Disease &lt;chr&gt; |\n",
       "|---|---|---|\n",
       "| HIGH | LOW  | NO  |\n",
       "| HIGH | HIGH | YES |\n",
       "| LOW  | LOW  | YES |\n",
       "| HIGH | HIGH | NO  |\n",
       "| HIGH | LOW  | NO  |\n",
       "| LOW  | LOW  | NO  |\n",
       "\n"
      ],
      "text/plain": [
       "  trestbps chol Heart_Disease\n",
       "1 HIGH     LOW  NO           \n",
       "2 HIGH     HIGH YES          \n",
       "3 LOW      LOW  YES          \n",
       "4 HIGH     HIGH NO           \n",
       "5 HIGH     LOW  NO           \n",
       "6 LOW      LOW  NO           "
      ]
     },
     "metadata": {},
     "output_type": "display_data"
    },
    {
     "data": {
      "text/html": [
       "<table class=\"dataframe\">\n",
       "<caption>A tibble: 6 × 2</caption>\n",
       "<thead>\n",
       "\t<tr><th scope=col>trestbps</th><th scope=col>Heart_Disease</th></tr>\n",
       "\t<tr><th scope=col>&lt;chr&gt;</th><th scope=col>&lt;chr&gt;</th></tr>\n",
       "</thead>\n",
       "<tbody>\n",
       "\t<tr><td>HIGH</td><td>NO </td></tr>\n",
       "\t<tr><td>HIGH</td><td>YES</td></tr>\n",
       "\t<tr><td>LOW </td><td>YES</td></tr>\n",
       "\t<tr><td>HIGH</td><td>NO </td></tr>\n",
       "\t<tr><td>HIGH</td><td>NO </td></tr>\n",
       "\t<tr><td>LOW </td><td>NO </td></tr>\n",
       "</tbody>\n",
       "</table>\n"
      ],
      "text/latex": [
       "A tibble: 6 × 2\n",
       "\\begin{tabular}{ll}\n",
       " trestbps & Heart\\_Disease\\\\\n",
       " <chr> & <chr>\\\\\n",
       "\\hline\n",
       "\t HIGH & NO \\\\\n",
       "\t HIGH & YES\\\\\n",
       "\t LOW  & YES\\\\\n",
       "\t HIGH & NO \\\\\n",
       "\t HIGH & NO \\\\\n",
       "\t LOW  & NO \\\\\n",
       "\\end{tabular}\n"
      ],
      "text/markdown": [
       "\n",
       "A tibble: 6 × 2\n",
       "\n",
       "| trestbps &lt;chr&gt; | Heart_Disease &lt;chr&gt; |\n",
       "|---|---|\n",
       "| HIGH | NO  |\n",
       "| HIGH | YES |\n",
       "| LOW  | YES |\n",
       "| HIGH | NO  |\n",
       "| HIGH | NO  |\n",
       "| LOW  | NO  |\n",
       "\n"
      ],
      "text/plain": [
       "  trestbps Heart_Disease\n",
       "1 HIGH     NO           \n",
       "2 HIGH     YES          \n",
       "3 LOW      YES          \n",
       "4 HIGH     NO           \n",
       "5 HIGH     NO           \n",
       "6 LOW      NO           "
      ]
     },
     "metadata": {},
     "output_type": "display_data"
    },
    {
     "data": {
      "text/html": [
       "<table class=\"dataframe\">\n",
       "<caption>A tibble: 6 × 2</caption>\n",
       "<thead>\n",
       "\t<tr><th scope=col>chol</th><th scope=col>Heart_Disease</th></tr>\n",
       "\t<tr><th scope=col>&lt;chr&gt;</th><th scope=col>&lt;chr&gt;</th></tr>\n",
       "</thead>\n",
       "<tbody>\n",
       "\t<tr><td>LOW </td><td>NO </td></tr>\n",
       "\t<tr><td>HIGH</td><td>YES</td></tr>\n",
       "\t<tr><td>LOW </td><td>YES</td></tr>\n",
       "\t<tr><td>HIGH</td><td>NO </td></tr>\n",
       "\t<tr><td>LOW </td><td>NO </td></tr>\n",
       "\t<tr><td>LOW </td><td>NO </td></tr>\n",
       "</tbody>\n",
       "</table>\n"
      ],
      "text/latex": [
       "A tibble: 6 × 2\n",
       "\\begin{tabular}{ll}\n",
       " chol & Heart\\_Disease\\\\\n",
       " <chr> & <chr>\\\\\n",
       "\\hline\n",
       "\t LOW  & NO \\\\\n",
       "\t HIGH & YES\\\\\n",
       "\t LOW  & YES\\\\\n",
       "\t HIGH & NO \\\\\n",
       "\t LOW  & NO \\\\\n",
       "\t LOW  & NO \\\\\n",
       "\\end{tabular}\n"
      ],
      "text/markdown": [
       "\n",
       "A tibble: 6 × 2\n",
       "\n",
       "| chol &lt;chr&gt; | Heart_Disease &lt;chr&gt; |\n",
       "|---|---|\n",
       "| LOW  | NO  |\n",
       "| HIGH | YES |\n",
       "| LOW  | YES |\n",
       "| HIGH | NO  |\n",
       "| LOW  | NO  |\n",
       "| LOW  | NO  |\n",
       "\n"
      ],
      "text/plain": [
       "  chol Heart_Disease\n",
       "1 LOW  NO           \n",
       "2 HIGH YES          \n",
       "3 LOW  YES          \n",
       "4 HIGH NO           \n",
       "5 LOW  NO           \n",
       "6 LOW  NO           "
      ]
     },
     "metadata": {},
     "output_type": "display_data"
    }
   ],
   "source": [
    "#We identify patients' trestbps and chol data higher than 0.5 quantile as 'HIGH' and below 0.5 quantile as 'LOW'\n",
    "trestbps50 = unname(quantile(heart_data_selected$trestbps,0.5))\n",
    "chol50 = unname(quantile(heart_data_selected$chol,0.5))\n",
    "\n",
    "heart_data_lowhigh <- heart_data_selected %>% \n",
    "                        mutate(trestbps = ifelse((trestbps >= trestbps50), \"HIGH\",\"LOW\"),\n",
    "                              chol = ifelse(chol > chol50, \"HIGH\", \"LOW\"))\n",
    "                              \n",
    "#We identified patients with class data higher than 0 as having heart disease and indicated this result \n",
    "#with \"YES\" (and vice versa with \"NO\"). Also change the data type from number to factor\n",
    "heart_data <- heart_data_lowhigh %>%\n",
    "            mutate(Heart_Disease = ifelse(Class > 0, \"YES\",\"NO\")) %>%\n",
    "            select(!Class)\n",
    "\n",
    "\n",
    "#Split heart_data into two data frames\n",
    "heart_data_trestbps <- heart_data%>%\n",
    "                       select(\"trestbps\",\"Heart_Disease\")\n",
    "#outputs the first 6 rows of the data frame and heart_data is the data frame we will eventually use\n",
    "heart_data_chol <- heart_data%>%\n",
    "                    select(\"chol\",\"Heart_Disease\")\n",
    "head(heart_data)\n",
    "head(heart_data_trestbps)\n",
    "head(heart_data_chol)"
   ]
  },
  {
   "cell_type": "markdown",
   "metadata": {},
   "source": [
    "Through the process above, we have converted the data frame into the format we need, which includes all the \n",
    "information in the data box about whether the patient has high resting blood pressure or not, whether \n",
    "the patient has high cholesterol or not and whether the patient has heart disease or not."
   ]
  },
  {
   "cell_type": "markdown",
   "metadata": {
    "tags": []
   },
   "source": [
    "## Methods and Results"
   ]
  },
  {
   "cell_type": "markdown",
   "metadata": {
    "tags": []
   },
   "source": [
    "### Visualizing the Data"
   ]
  },
  {
   "cell_type": "markdown",
   "metadata": {},
   "source": [
    "To understand the approximate ratio between poeople with and without heart disease in low/high group, we first visualized the proportions of heart disease of people with low and high blood pressure and choleterol level as below."
   ]
  },
  {
   "cell_type": "code",
   "execution_count": 5,
   "metadata": {},
   "outputs": [
    {
     "data": {
      "image/png": "[encoded data removed]",
      "text/plain": [
       "plot without title"
      ]
     },
     "metadata": {
      "image/png": {
       "height": 420,
       "width": 420
      }
     },
     "output_type": "display_data"
    },
    {
     "data": {
      "image/png": "[encoded data removed]",
      "text/plain": [
       "plot without title"
      ]
     },
     "metadata": {
      "image/png": {
       "height": 420,
       "width": 420
      }
     },
     "output_type": "display_data"
    }
   ],
   "source": [
    "ggplot(heart_data, \n",
    "       aes(x = trestbps, fill = Heart_Disease)) +\n",
    "  geom_bar() + \n",
    "  labs(x = \"Resting blood pressure of patients\")\n",
    "\n",
    "ggplot(heart_data, \n",
    "       aes(x = chol, fill = Heart_Disease)) +\n",
    "  geom_bar() + \n",
    "  labs(x = \"Serum cholestoral\")"
   ]
  },
  {
   "cell_type": "markdown",
   "metadata": {},
   "source": [
    "From the both graph, we can rougly see that the proportion of people with heart disease is higher in both high resting blood pressure and cholesterol group compared to the corresponding lower level groups."
   ]
  },
  {
   "cell_type": "markdown",
   "metadata": {},
   "source": [
    "### Compute Estimates of the Parameter"
   ]
  },
  {
   "cell_type": "markdown",
   "metadata": {},
   "source": [
    "After visaully checking the different ratio of heart disease, we have calculated sample proportions of people with heart disease in each group and created three data frame and two tables to summarize the data."
   ]
  },
  {
   "cell_type": "code",
   "execution_count": 6,
   "metadata": {},
   "outputs": [
    {
     "data": {
      "text/html": [
       "<table class=\"dataframe\">\n",
       "<caption>A grouped_df: 4 × 4</caption>\n",
       "<thead>\n",
       "\t<tr><th scope=col>trestbps</th><th scope=col>Heart_Disease</th><th scope=col>n</th><th scope=col>p</th></tr>\n",
       "\t<tr><th scope=col>&lt;chr&gt;</th><th scope=col>&lt;chr&gt;</th><th scope=col>&lt;int&gt;</th><th scope=col>&lt;dbl&gt;</th></tr>\n",
       "</thead>\n",
       "<tbody>\n",
       "\t<tr><td>HIGH</td><td>NO </td><td>87</td><td>0.2871287</td></tr>\n",
       "\t<tr><td>HIGH</td><td>YES</td><td>81</td><td>0.2673267</td></tr>\n",
       "\t<tr><td>LOW </td><td>NO </td><td>77</td><td>0.2541254</td></tr>\n",
       "\t<tr><td>LOW </td><td>YES</td><td>58</td><td>0.1914191</td></tr>\n",
       "</tbody>\n",
       "</table>\n"
      ],
      "text/latex": [
       "A grouped\\_df: 4 × 4\n",
       "\\begin{tabular}{llll}\n",
       " trestbps & Heart\\_Disease & n & p\\\\\n",
       " <chr> & <chr> & <int> & <dbl>\\\\\n",
       "\\hline\n",
       "\t HIGH & NO  & 87 & 0.2871287\\\\\n",
       "\t HIGH & YES & 81 & 0.2673267\\\\\n",
       "\t LOW  & NO  & 77 & 0.2541254\\\\\n",
       "\t LOW  & YES & 58 & 0.1914191\\\\\n",
       "\\end{tabular}\n"
      ],
      "text/markdown": [
       "\n",
       "A grouped_df: 4 × 4\n",
       "\n",
       "| trestbps &lt;chr&gt; | Heart_Disease &lt;chr&gt; | n &lt;int&gt; | p &lt;dbl&gt; |\n",
       "|---|---|---|---|\n",
       "| HIGH | NO  | 87 | 0.2871287 |\n",
       "| HIGH | YES | 81 | 0.2673267 |\n",
       "| LOW  | NO  | 77 | 0.2541254 |\n",
       "| LOW  | YES | 58 | 0.1914191 |\n",
       "\n"
      ],
      "text/plain": [
       "  trestbps Heart_Disease n  p        \n",
       "1 HIGH     NO            87 0.2871287\n",
       "2 HIGH     YES           81 0.2673267\n",
       "3 LOW      NO            77 0.2541254\n",
       "4 LOW      YES           58 0.1914191"
      ]
     },
     "metadata": {},
     "output_type": "display_data"
    },
    {
     "data": {
      "text/html": [
       "<table class=\"dataframe\">\n",
       "<caption>A grouped_df: 4 × 4</caption>\n",
       "<thead>\n",
       "\t<tr><th scope=col>chol</th><th scope=col>Heart_Disease</th><th scope=col>n</th><th scope=col>p</th></tr>\n",
       "\t<tr><th scope=col>&lt;chr&gt;</th><th scope=col>&lt;chr&gt;</th><th scope=col>&lt;int&gt;</th><th scope=col>&lt;dbl&gt;</th></tr>\n",
       "</thead>\n",
       "<tbody>\n",
       "\t<tr><td>HIGH</td><td>NO </td><td>72</td><td>0.2376238</td></tr>\n",
       "\t<tr><td>HIGH</td><td>YES</td><td>79</td><td>0.2607261</td></tr>\n",
       "\t<tr><td>LOW </td><td>NO </td><td>92</td><td>0.3036304</td></tr>\n",
       "\t<tr><td>LOW </td><td>YES</td><td>60</td><td>0.1980198</td></tr>\n",
       "</tbody>\n",
       "</table>\n"
      ],
      "text/latex": [
       "A grouped\\_df: 4 × 4\n",
       "\\begin{tabular}{llll}\n",
       " chol & Heart\\_Disease & n & p\\\\\n",
       " <chr> & <chr> & <int> & <dbl>\\\\\n",
       "\\hline\n",
       "\t HIGH & NO  & 72 & 0.2376238\\\\\n",
       "\t HIGH & YES & 79 & 0.2607261\\\\\n",
       "\t LOW  & NO  & 92 & 0.3036304\\\\\n",
       "\t LOW  & YES & 60 & 0.1980198\\\\\n",
       "\\end{tabular}\n"
      ],
      "text/markdown": [
       "\n",
       "A grouped_df: 4 × 4\n",
       "\n",
       "| chol &lt;chr&gt; | Heart_Disease &lt;chr&gt; | n &lt;int&gt; | p &lt;dbl&gt; |\n",
       "|---|---|---|---|\n",
       "| HIGH | NO  | 72 | 0.2376238 |\n",
       "| HIGH | YES | 79 | 0.2607261 |\n",
       "| LOW  | NO  | 92 | 0.3036304 |\n",
       "| LOW  | YES | 60 | 0.1980198 |\n",
       "\n"
      ],
      "text/plain": [
       "  chol Heart_Disease n  p        \n",
       "1 HIGH NO            72 0.2376238\n",
       "2 HIGH YES           79 0.2607261\n",
       "3 LOW  NO            92 0.3036304\n",
       "4 LOW  YES           60 0.1980198"
      ]
     },
     "metadata": {},
     "output_type": "display_data"
    },
    {
     "name": "stdout",
     "output_type": "stream",
     "text": [
      "  Trestbps Heart_Disease proportion\n",
      "1     HIGH           YES  0.4821429\n",
      "2      LOW           YES  0.4296296\n",
      "  Chol Heart_Disease proportion\n",
      "1 HIGH           YES  0.5231788\n",
      "2  LOW           YES  0.3947368\n"
     ]
    },
    {
     "data": {
      "text/html": [
       "<table class=\"dataframe\">\n",
       "<caption>A tibble: 6 × 2</caption>\n",
       "<thead>\n",
       "\t<tr><th scope=col>replicate</th><th scope=col>stat</th></tr>\n",
       "\t<tr><th scope=col>&lt;int&gt;</th><th scope=col>&lt;dbl&gt;</th></tr>\n",
       "</thead>\n",
       "<tbody>\n",
       "\t<tr><td>1</td><td>-0.0009259259</td></tr>\n",
       "\t<tr><td>2</td><td>-0.0944444444</td></tr>\n",
       "\t<tr><td>3</td><td>-0.0142857143</td></tr>\n",
       "\t<tr><td>4</td><td> 0.0257936508</td></tr>\n",
       "\t<tr><td>5</td><td>-0.0009259259</td></tr>\n",
       "\t<tr><td>6</td><td>-0.0543650794</td></tr>\n",
       "</tbody>\n",
       "</table>\n"
      ],
      "text/latex": [
       "A tibble: 6 × 2\n",
       "\\begin{tabular}{ll}\n",
       " replicate & stat\\\\\n",
       " <int> & <dbl>\\\\\n",
       "\\hline\n",
       "\t 1 & -0.0009259259\\\\\n",
       "\t 2 & -0.0944444444\\\\\n",
       "\t 3 & -0.0142857143\\\\\n",
       "\t 4 &  0.0257936508\\\\\n",
       "\t 5 & -0.0009259259\\\\\n",
       "\t 6 & -0.0543650794\\\\\n",
       "\\end{tabular}\n"
      ],
      "text/markdown": [
       "\n",
       "A tibble: 6 × 2\n",
       "\n",
       "| replicate &lt;int&gt; | stat &lt;dbl&gt; |\n",
       "|---|---|\n",
       "| 1 | -0.0009259259 |\n",
       "| 2 | -0.0944444444 |\n",
       "| 3 | -0.0142857143 |\n",
       "| 4 |  0.0257936508 |\n",
       "| 5 | -0.0009259259 |\n",
       "| 6 | -0.0543650794 |\n",
       "\n"
      ],
      "text/plain": [
       "  replicate stat         \n",
       "1 1         -0.0009259259\n",
       "2 2         -0.0944444444\n",
       "3 3         -0.0142857143\n",
       "4 4          0.0257936508\n",
       "5 5         -0.0009259259\n",
       "6 6         -0.0543650794"
      ]
     },
     "metadata": {},
     "output_type": "display_data"
    }
   ],
   "source": [
    "#Generate the percentage of two variables under a four-column combination\n",
    "heart_data_n <- heart_data %>%\n",
    "                      tally()%>%\n",
    "                        pull()\n",
    "#proportion of the four combinations of low or high resting blood pressure \n",
    "#and presence or absence of heart disease.\n",
    "heart_data_prop_trestbps <-heart_data %>% \n",
    "                             group_by(trestbps, Heart_Disease)%>%\n",
    "                             count() %>% \n",
    "                             mutate(p = n/heart_data_n)\n",
    "\n",
    "\n",
    "#the proportion of the four combinations of the low or high cholesterol and \n",
    "#the presence or absence of heart disease.\n",
    "heart_data_prop_chol <- heart_data %>% \n",
    "                          group_by(chol, Heart_Disease)%>%\n",
    "                          count() %>% \n",
    "                          mutate(p = n/heart_data_n)\n",
    "\n",
    "trest_high_yes <- heart_data_prop_trestbps %>%\n",
    "                    filter(trestbps==\"HIGH\", Heart_Disease==\"YES\")%>% ungroup() %>% select(n) %>% as.numeric()\n",
    "\n",
    "trest_high_no <- heart_data_prop_trestbps %>%\n",
    "                    filter(trestbps==\"HIGH\", Heart_Disease==\"NO\")%>% ungroup() %>% select(n) %>% as.numeric()\n",
    "\n",
    "\n",
    "\n",
    "trest_low_yes <- heart_data_prop_trestbps %>%\n",
    "                    filter(trestbps==\"LOW\", Heart_Disease==\"YES\")%>% ungroup() %>% select(n) %>% as.numeric()\n",
    "\n",
    "trest_low_no <- heart_data_prop_trestbps %>%\n",
    "                    filter(trestbps==\"LOW\", Heart_Disease==\"NO\")%>% ungroup() %>% select(n) %>% as.numeric()\n",
    "\n",
    "\n",
    "\n",
    "chol_high_yes <- heart_data_prop_chol %>%\n",
    "                    filter(chol==\"HIGH\", Heart_Disease==\"YES\")%>% ungroup() %>% select(n) %>% as.numeric()\n",
    "chol_high_no <- heart_data_prop_chol %>%\n",
    "                    filter(chol==\"HIGH\", Heart_Disease==\"NO\")%>% ungroup() %>% select(n) %>% as.numeric()\n",
    "chol_low_yes <- heart_data_prop_chol %>%\n",
    "                    filter(chol==\"LOW\", Heart_Disease==\"YES\")%>% ungroup() %>% select(n) %>% as.numeric()\n",
    "chol_low_no <- heart_data_prop_chol %>%\n",
    "                    filter(chol==\"LOW\", Heart_Disease==\"NO\")%>% ungroup() %>% select(n) %>% as.numeric()\n",
    "\n",
    "trest_high_n <- trest_high_yes + trest_high_no\n",
    "trest_low_n <- trest_low_yes + trest_low_no\n",
    "chol_high_n <- chol_high_yes + chol_high_no\n",
    "chol_low_n <- chol_low_yes + chol_low_no\n",
    "\n",
    "heart_data_prop_trestbps\n",
    "heart_data_prop_chol\n",
    "\n",
    "#Generate the proportion of patients with heart disease with or without high resting blood pressure\n",
    "Trestbps <- c(\"HIGH\",\"LOW\")\n",
    "Heart_Disease <- c(\"YES\",\"YES\")\n",
    "proportion <- c(trest_high_yes/trest_high_n,trest_low_yes/trest_low_n)\n",
    "heart_data_prop_trestbps_1 <- data.frame(Trestbps,Heart_Disease,proportion)\n",
    "print(heart_data_prop_trestbps_1)\n",
    "#Generate the proportion of patients with heart disease with or without high cholesterol\n",
    "Chol <- c(\"HIGH\",\"LOW\")\n",
    "proportion <- c(chol_high_yes/chol_high_n,chol_low_yes/chol_low_n)\n",
    "heart_data_prop_chol_1 <- data.frame(Chol,Heart_Disease,proportion)\n",
    "print(heart_data_prop_chol_1)\n",
    "\n",
    "\n",
    "#the estimates after taking 1000 replicates of \"shuffles\" and assuming the null hypothesis is true\n",
    "null_distribution <- heart_data %>% \n",
    "  specify(formula = Heart_Disease ~ trestbps, success = \"YES\") %>% \n",
    "  hypothesize(null = \"independence\") %>% \n",
    "  generate(reps = 1000, type = \"permute\") %>% \n",
    "  calculate(stat = \"diff in props\", order = c(\"HIGH\", \"LOW\"))\n",
    "\n",
    "head(null_distribution)"
   ]
  },
  {
   "cell_type": "markdown",
   "metadata": {},
   "source": [
    "<b>!!!Table Number!!! </b> shows the different proportions of people with heart diseasee of each group.</br>\n",
    "Between the low and the high Trestbps groups, the higher Trestbps sample has about 12.2% higher proportion than the lower Trestbps sample. </br>\n",
    "Between the low and the high Chol groups, the higher Chol sample has about 32.5% higher proportion than the lower Chol sample. This is much higher difference between the two groups than in Trestbps </br>\n",
    "These non-trivial differences in the proportion of having heart disease between LOW and HIGH suggest that it would be possible to find out whether high or low resting blood pressure and high or low cholesterol make patients more likely to have heart disease.\n"
   ]
  },
  {
   "cell_type": "markdown",
   "metadata": {
    "tags": []
   },
   "source": [
    "### Two Hypothesis Tests </br>\n",
    "Based on the preliminary results, we devised two hypothesis tests to estimate whether the proportions of poeple with heart diseaes is significantly higher both in high Trestbps and Chol groups compared to those of the lower gorups. </br>\n",
    "As we do not have a specific reason to avoid either Type1 or Type2 error, we will use 5% significane level that is widely used in many hypothesis tests."
   ]
  },
  {
   "cell_type": "markdown",
   "metadata": {
    "tags": []
   },
   "source": [
    "> #### Hypothesis Test1\n",
    "\n",
    "> $p_{1}$ : proportion of people having heart disease with low blood pressure</br>\n",
    ">$p_{2}$ : proportion of people having heart disease with high blood pressure</br>\n",
    "\n",
    ">$H_0$ : $p_{2} - p_{1} = 0$  </br>\n",
    ">$H_1$ : $p_{2} - p_{1} > 0$</br>\n",
    "\n",
    ">#### Hypothesis Test2\n",
    "\n",
    ">$p_{3}$ : proportion of people having heart disease with low cholesterol level</br>\n",
    ">$p_{4}$ : proportion of people having heart disease with high cholesterol level\n",
    "\n",
    ">$H_0$ : $p_{4} - p_{3} = 0$  </br>\n",
    ">$H_1$ : $p_{4} - p_{3} > 0$</br>\n"
   ]
  },
  {
   "cell_type": "markdown",
   "metadata": {
    "tags": []
   },
   "source": [
    "### Theory-Based Test (Two-sample z-test)\n",
    "\n",
    "First, We will conduct a theoy-based Hypothesis test uisng the Z-score of our sample. </br>\n",
    "We will use the Z-score calculated from two independent sample. Our test statistic Z is</br>\n",
    "$$Z = \\frac{\\hat{p}_1 - \\hat{p}_2}{\\sqrt{\\hat{p}(1-\\hat{p})\\left(\\frac{1}{n_1} + \\frac{1}{n_2}\\right)}}\n",
    "$$\n",
    "where $\\hat{p}_1$ and $\\hat{p}_2$ are the sample proportions in two independent samples; $n$ is the sample size; and $\\hat{p}$ is the pooled proportion, given by: \n",
    "\n",
    "$$\\hat{p} = \\frac{n_1\\hat{p}_1+n_2\\hat{p}_2}{n_1+n_2}$$\n",
    "Since, in this case, the population distribution is clearly not Normal, we need to rely on the CLT. To use CLT, we need to check $n \\hat{p} \\geq 10$ and $n(1-\\hat{p})\\geq 10$, </br>\n"
   ]
  },
  {
   "cell_type": "code",
   "execution_count": 25,
   "metadata": {
    "tags": []
   },
   "outputs": [
    {
     "data": {
      "text/html": [
       "0.458745874587459"
      ],
      "text/latex": [
       "0.458745874587459"
      ],
      "text/markdown": [
       "0.458745874587459"
      ],
      "text/plain": [
       "[1] 0.4587459"
      ]
     },
     "metadata": {},
     "output_type": "display_data"
    },
    {
     "data": {
      "text/html": [
       "0.458745874587459"
      ],
      "text/latex": [
       "0.458745874587459"
      ],
      "text/markdown": [
       "0.458745874587459"
      ],
      "text/plain": [
       "[1] 0.4587459"
      ]
     },
     "metadata": {},
     "output_type": "display_data"
    },
    {
     "data": {
      "text/html": [
       "139"
      ],
      "text/latex": [
       "139"
      ],
      "text/markdown": [
       "139"
      ],
      "text/plain": [
       "[1] 139"
      ]
     },
     "metadata": {},
     "output_type": "display_data"
    },
    {
     "data": {
      "text/html": [
       "164"
      ],
      "text/latex": [
       "164"
      ],
      "text/markdown": [
       "164"
      ],
      "text/plain": [
       "[1] 164"
      ]
     },
     "metadata": {},
     "output_type": "display_data"
    }
   ],
   "source": [
    "n1_tres = trest_high_yes + trest_high_no\n",
    "n2_tres = trest_low_yes + trest_low_no\n",
    "p1_tres = heart_data_prop_trestbps_1$proportion[1]\n",
    "p2_tres = heart_data_prop_trestbps_1$proportion[2]\n",
    "\n",
    "phat_tres = (n1_tres*p1_tres + n2_tres*p2_tres)/(n1_tres+n2_tres)\n",
    "# phat_tres\n",
    "\n",
    "n1_chol = chol_high_yes + chol_high_no\n",
    "n2_chol = chol_low_yes + chol_low_no\n",
    "p1_chol = heart_data_prop_chol_1$proportion[1]\n",
    "p2_chol = heart_data_prop_chol_1$proportion[2]\n",
    "\n",
    "\n",
    "phat_chol = (n1_chol*p1_chol + n2_chol*p2_chol)/(n1_chol+n2_chol)\n",
    "phat_tres\n",
    "phat_chol\n",
    "phat = phat_chol\n",
    "\n",
    "heart_data_n * phat # is this larger than 10?\n",
    "heart_data_n * (1-phat) # is this larger than 10?\n"
   ]
  },
  {
   "cell_type": "markdown",
   "metadata": {
    "tags": []
   },
   "source": [
    "\n",
    "Since both of the phat for tres and chol are the number of high people with heart disease divided by the sample size,\n",
    "the calculated phats are exacltly the same. Thus, we will use only phat value stored in the variable 'phat'. </br>\n",
    "From the calculated results, we can clearly see that $n \\hat{p} \\geq 10$ and $n(1-\\hat{p})\\geq 10$ in our sample. So we can assume that our sample size is large enough, and the null model (i.e., the sampling distribution under $H_0$) of the test statistic $Z$ is approximately $N(0, 1)$."
   ]
  },
  {
   "cell_type": "code",
   "execution_count": 26,
   "metadata": {
    "tags": []
   },
   "outputs": [
    {
     "data": {
      "text/html": [
       "0.180946600890619"
      ],
      "text/latex": [
       "0.180946600890619"
      ],
      "text/markdown": [
       "0.180946600890619"
      ],
      "text/plain": [
       "[1] 0.1809466"
      ]
     },
     "metadata": {},
     "output_type": "display_data"
    },
    {
     "data": {
      "text/html": [
       "0.0124351022509788"
      ],
      "text/latex": [
       "0.0124351022509788"
      ],
      "text/markdown": [
       "0.0124351022509788"
      ],
      "text/plain": [
       "[1] 0.0124351"
      ]
     },
     "metadata": {},
     "output_type": "display_data"
    }
   ],
   "source": [
    "z_test_tres <- tidy(\n",
    "        prop.test(x = c(trest_high_yes,trest_low_yes), \n",
    "                  n = c(n1_tres,n2_tres), \n",
    "                  alternative = \"greater\",\n",
    "                  correct = FALSE))\n",
    "\n",
    "z_test_chol <- tidy(\n",
    "        prop.test(x = c(chol_high_yes,chol_low_yes), \n",
    "                  n = c(n1_chol,n2_chol), \n",
    "                  alternative = \"greater\",\n",
    "                  correct = FALSE))\n",
    "\n",
    "tres_p_value_theory <- z_test_tres$p.value\n",
    "chol_p_value_theory <- z_test_chol$p.value\n",
    "\n",
    "tres_p_value_theory\n",
    "chol_p_value_theory"
   ]
  },
  {
   "cell_type": "markdown",
   "metadata": {
    "tags": []
   },
   "source": [
    "We obtained the p-value of 0.181 from the Hypothesis Test 1 and 0.012 form the Hypothesis Test 2. </br>\n",
    "Thus, we accept the null hypothesis for the Test1 and reject the null hypothesis for the Test2"
   ]
  },
  {
   "cell_type": "markdown",
   "metadata": {},
   "source": [
    "### Simulation-Based Test (Using Bootstrapping)\n",
    "Next, we conducted the same two hypothesis tests but using bootsrapping method. Since we are testing the independence of two variables, we use \"Independence\" in the null hypothesis, and 1000 replications are statistically large enough when creating the sample. Also, I chose type = \"permute\" to create the sample here instead of type = \"bootstrap\". Then, we visualized the p-value on the bootstrapping sampling distribution.\n",
    "\n"
   ]
  },
  {
   "cell_type": "code",
   "execution_count": 27,
   "metadata": {
    "tags": []
   },
   "outputs": [
    {
     "data": {
      "text/html": [
       "0.0525132275132275"
      ],
      "text/latex": [
       "0.0525132275132275"
      ],
      "text/markdown": [
       "0.0525132275132275"
      ],
      "text/plain": [
       "[1] 0.05251323"
      ]
     },
     "metadata": {},
     "output_type": "display_data"
    },
    {
     "data": {
      "text/html": [
       "0.128441965841757"
      ],
      "text/latex": [
       "0.128441965841757"
      ],
      "text/markdown": [
       "0.128441965841757"
      ],
      "text/plain": [
       "[1] 0.128442"
      ]
     },
     "metadata": {},
     "output_type": "display_data"
    }
   ],
   "source": [
    "obs_pop_diff_trestbps <- heart_data_prop_trestbps_1$proportion[1] -\n",
    "heart_data_prop_trestbps_1$proportion[2]\n",
    "obs_pop_diff_chol <- heart_data_prop_chol_1$proportion[1] - heart_data_prop_chol_1$proportion[2]\n",
    "obs_pop_diff_trestbps\n",
    "obs_pop_diff_chol"
   ]
  },
  {
   "cell_type": "code",
   "execution_count": 28,
   "metadata": {
    "tags": []
   },
   "outputs": [
    {
     "data": {
      "text/html": [
       "0.235"
      ],
      "text/latex": [
       "0.235"
      ],
      "text/markdown": [
       "0.235"
      ],
      "text/plain": [
       "[1] 0.235"
      ]
     },
     "metadata": {},
     "output_type": "display_data"
    },
    {
     "data": {
      "image/png": "[encoded data removed]",
      "text/plain": [
       "plot without title"
      ]
     },
     "metadata": {
      "image/png": {
       "height": 420,
       "width": 420
      }
     },
     "output_type": "display_data"
    }
   ],
   "source": [
    "#the estimates after taking 1000 replicates of \"shuffles\" and assuming the null hypothesis is true\n",
    "null_distribution_trestbps <- heart_data %>% \n",
    "    specify(formula = Heart_Disease ~ trestbps, success = \"YES\") %>% \n",
    "    hypothesize(null = \"independence\") %>% \n",
    "    generate(reps = 1000, type = \"permute\") %>% \n",
    "    calculate(stat = \"diff in props\", order = c(\"HIGH\", \"LOW\"))\n",
    "\n",
    "tres_p_value_sim <- null_distribution_trestbps%>%\n",
    "    get_p_value(obs_stat = obs_pop_diff_trestbps, direction = \"right\")%>%\n",
    "    pull()\n",
    "tres_p_value_sim\n",
    "result_plot_trestbps <- \n",
    "    visualize(null_distribution_trestbps, bins = 10) + \n",
    "    shade_p_value(obs_stat = obs_pop_diff_trestbps, direction = \"right\") +\n",
    "    theme(text = element_text(size = 22)) +\n",
    "    xlab(\"diff in prop for trestbps\")\n",
    "\n",
    "result_plot_trestbps"
   ]
  },
  {
   "cell_type": "code",
   "execution_count": 29,
   "metadata": {
    "tags": []
   },
   "outputs": [
    {
     "data": {
      "text/html": [
       "0.02"
      ],
      "text/latex": [
       "0.02"
      ],
      "text/markdown": [
       "0.02"
      ],
      "text/plain": [
       "[1] 0.02"
      ]
     },
     "metadata": {},
     "output_type": "display_data"
    },
    {
     "data": {
      "image/png": "[encoded data removed]",
      "text/plain": [
       "plot without title"
      ]
     },
     "metadata": {
      "image/png": {
       "height": 420,
       "width": 420
      }
     },
     "output_type": "display_data"
    }
   ],
   "source": [
    "null_distribution_chol <- heart_data %>% \n",
    "    specify(formula = Heart_Disease ~ chol, success = \"YES\") %>% \n",
    "    hypothesize(null = \"independence\") %>% \n",
    "    generate(reps = 1000, type = \"permute\") %>% \n",
    "    calculate(stat = \"diff in props\", order = c(\"HIGH\", \"LOW\"))\n",
    "\n",
    "\n",
    "chol_p_value_sim <- null_distribution_chol%>%\n",
    "    get_p_value(obs_stat = obs_pop_diff_chol, direction = \"right\")%>%\n",
    "    pull()\n",
    "chol_p_value_sim\n",
    "\n",
    "result_plot_chol <- \n",
    "    visualize(null_distribution_chol, bins = 10) + \n",
    "    shade_p_value(obs_stat = obs_pop_diff_chol, direction = \"right\") +\n",
    "    theme(text = element_text(size = 22)) +\n",
    "    xlab(\"diff in prop for chol\")\n",
    "\n",
    "result_plot_chol"
   ]
  },
  {
   "cell_type": "markdown",
   "metadata": {
    "tags": []
   },
   "source": [
    "We obtained the p-value of 0.217(>0.05) from the Hypothesis Test 1 and 0.017(<0.05) form the Hypothesis Test 2.</br>\n",
    "Thus, as in the theory-based tests, we accept the null hypothesis for the Test1 and reject the null hypothesis for the Test2."
   ]
  },
  {
   "cell_type": "markdown",
   "metadata": {
    "tags": []
   },
   "source": [
    "### Theory-Based Test vs Simulation-Based Test"
   ]
  },
  {
   "cell_type": "code",
   "execution_count": 30,
   "metadata": {
    "jp-MarkdownHeadingCollapsed": true,
    "tags": []
   },
   "outputs": [
    {
     "data": {
      "text/html": [
       "<table class=\"dataframe\">\n",
       "<caption>A data.frame: 2 × 3</caption>\n",
       "<thead>\n",
       "\t<tr><th scope=col>test_method</th><th scope=col>tres_p_value</th><th scope=col>chol_p_value</th></tr>\n",
       "\t<tr><th scope=col>&lt;chr&gt;</th><th scope=col>&lt;dbl&gt;</th><th scope=col>&lt;dbl&gt;</th></tr>\n",
       "</thead>\n",
       "<tbody>\n",
       "\t<tr><td>Theory-Based    </td><td>0.1809466</td><td>0.0124351</td></tr>\n",
       "\t<tr><td>Simulation-Based</td><td>0.2350000</td><td>0.0200000</td></tr>\n",
       "</tbody>\n",
       "</table>\n"
      ],
      "text/latex": [
       "A data.frame: 2 × 3\n",
       "\\begin{tabular}{lll}\n",
       " test\\_method & tres\\_p\\_value & chol\\_p\\_value\\\\\n",
       " <chr> & <dbl> & <dbl>\\\\\n",
       "\\hline\n",
       "\t Theory-Based     & 0.1809466 & 0.0124351\\\\\n",
       "\t Simulation-Based & 0.2350000 & 0.0200000\\\\\n",
       "\\end{tabular}\n"
      ],
      "text/markdown": [
       "\n",
       "A data.frame: 2 × 3\n",
       "\n",
       "| test_method &lt;chr&gt; | tres_p_value &lt;dbl&gt; | chol_p_value &lt;dbl&gt; |\n",
       "|---|---|---|\n",
       "| Theory-Based     | 0.1809466 | 0.0124351 |\n",
       "| Simulation-Based | 0.2350000 | 0.0200000 |\n",
       "\n"
      ],
      "text/plain": [
       "  test_method      tres_p_value chol_p_value\n",
       "1 Theory-Based     0.1809466    0.0124351   \n",
       "2 Simulation-Based 0.2350000    0.0200000   "
      ]
     },
     "metadata": {},
     "output_type": "display_data"
    }
   ],
   "source": [
    "test_comparison <- data.frame(test_method = c(\"Theory-Based\", \"Simulation-Based\"),\n",
    "                              tres_p_value = c(tres_p_value_theory, tres_p_value_sim),\n",
    "                              chol_p_value = c(chol_p_value_theory, chol_p_value_sim))\n",
    "test_comparison                              "
   ]
  },
  {
   "cell_type": "markdown",
   "metadata": {
    "jp-MarkdownHeadingCollapsed": true,
    "tags": []
   },
   "source": [
    "Finally, we compared the results from the two different test methods. Even though we drew the same conclusion from both of the tests methods, we noticed that the two p-values of the same test were a bit different in both tests.\n",
    "We reasoned that this is because of the uncertaintiy added to the theory-based test as Z-test uses the standard-error of the sample assuming that it is the standard deviation of the population.\n",
    "Thus, we concluded that the p-values from the theory-based tests are more reliable in our case."
   ]
  },
  {
   "cell_type": "markdown",
   "metadata": {
    "tags": []
   },
   "source": [
    "## Discussion\n",
    "### Summary\n",
    "\n",
    "### Meaning and Significance\n",
    "After conducting both the bootstrapping and asymptotic method of hypothesis tests, we do not find evidence that people with high resting blood pressure have a higher chance of developing heart diseases, which is different from what we expected to find. However, it does not mean that having high blood pressure does not impact the development of heart diseases.\n",
    "On the other hand, we find that people with high cholesterol levels do have a higher chance of developing heart disease, which matches what we expected to find. Although our expectations are not fully met, our findings can impact not only future studies in this area but also our daily life.\n",
    "First of all, our findings provide substantial scientific evidence to the claim that suggests maintaining a low cholesterol level to lower the risk of heart disease (CDC, 2020). Also, our findings enhanced the reliability of the positive correlation between cholesterol level and heart disease, which further helped to raise awareness of the importance of keeping a healthy diet and life cycle to keep our cholesterol at a healthy level. \n",
    "### Limitation\n",
    "However, due to the limitations of this project, our analysis did not regard the severity of heart disease as we solely classified patients as having heart disease or not. Also, we classified blood pressure and cholesterol level in relative terms using 50% quantile instead of medical standards. \n",
    "### Further Study\n",
    "Future researchers can consider the severity level and use more professional standards to improve our research and more thoroughly study the correlations between blood pressure/cholesterol level and heart disease. Moreover, although we have found correlations between blood pressure/cholesterol level and heart disease, we cannot conclude that high blood pressure or high cholesterol level causes heart issues or not. Therefore, future research can focus on whether high blood pressure or high cholesterol level causes the development of heart issues, or if other potential factors may cause heart diseases. \n"
   ]
  },
  {
   "cell_type": "markdown",
   "metadata": {
    "tags": []
   },
   "source": [
    "### Reference"
   ]
  },
  {
   "cell_type": "markdown",
   "metadata": {},
   "source": [
    "World Health Organization(WHO). (n.d.). Cardiovascular diseases. World Health Organization. Retrieved July 26, 2022, from https://www.who.int/health-topics/cardiovascular-diseases </br>\n",
    "Centers for Disease Control and Prevention(CDC). (2020, April 21). Prevent heart disease. Centers for Disease Control and Prevention. Retrieved July 26, 2022, from https://www.cdc.gov/heartdisease/prevention.htm "
   ]
  },
  {
   "cell_type": "markdown",
   "metadata": {},
   "source": []
  }
 ],
 "metadata": {
  "kernelspec": {
   "display_name": "R",
   "language": "R",
   "name": "ir"
  },
  "language_info": {
   "codemirror_mode": "r",
   "file_extension": ".r",
   "mimetype": "text/x-r-source",
   "name": "R",
   "pygments_lexer": "r",
   "version": "4.0.5"
  }
 },
 "nbformat": 4,
 "nbformat_minor": 4
}
